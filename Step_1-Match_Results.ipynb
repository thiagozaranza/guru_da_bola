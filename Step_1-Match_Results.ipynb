{
 "cells": [
  {
   "cell_type": "code",
   "execution_count": 129,
   "metadata": {
    "collapsed": true
   },
   "outputs": [],
   "source": [
    "import pandas as pd"
   ]
  },
  {
   "cell_type": "code",
   "execution_count": 130,
   "metadata": {
    "collapsed": true
   },
   "outputs": [],
   "source": [
    "import numpy as np"
   ]
  },
  {
   "cell_type": "markdown",
   "metadata": {},
   "source": [
    "## 1. Data Loadind"
   ]
  },
  {
   "cell_type": "markdown",
   "metadata": {},
   "source": [
    "#### Raw data parsed from https://www.resultados.com/futebol/brasil/serie-a/, transformed into a spreadsheet and expoted to a CSV file."
   ]
  },
  {
   "cell_type": "code",
   "execution_count": 131,
   "metadata": {
    "collapsed": true
   },
   "outputs": [],
   "source": [
    "jogos = pd.read_csv(\"data/brasileiro-a.9.csv\")"
   ]
  },
  {
   "cell_type": "code",
   "execution_count": 132,
   "metadata": {
    "scrolled": true
   },
   "outputs": [
    {
     "data": {
      "text/html": [
       "<div>\n",
       "<style>\n",
       "    .dataframe thead tr:only-child th {\n",
       "        text-align: right;\n",
       "    }\n",
       "\n",
       "    .dataframe thead th {\n",
       "        text-align: left;\n",
       "    }\n",
       "\n",
       "    .dataframe tbody tr th {\n",
       "        vertical-align: top;\n",
       "    }\n",
       "</style>\n",
       "<table border=\"1\" class=\"dataframe\">\n",
       "  <thead>\n",
       "    <tr style=\"text-align: right;\">\n",
       "      <th></th>\n",
       "      <th>campeonato</th>\n",
       "      <th>ano</th>\n",
       "      <th>rodada</th>\n",
       "      <th>data</th>\n",
       "      <th>mandante</th>\n",
       "      <th>visitante</th>\n",
       "      <th>placar</th>\n",
       "    </tr>\n",
       "  </thead>\n",
       "  <tbody>\n",
       "    <tr>\n",
       "      <th>0</th>\n",
       "      <td>brasileiro-a</td>\n",
       "      <td>2018</td>\n",
       "      <td>9</td>\n",
       "      <td>04.06. 20:00</td>\n",
       "      <td>Paraná</td>\n",
       "      <td>Fluminense</td>\n",
       "      <td>2 : 1</td>\n",
       "    </tr>\n",
       "    <tr>\n",
       "      <th>1</th>\n",
       "      <td>brasileiro-a</td>\n",
       "      <td>2018</td>\n",
       "      <td>9</td>\n",
       "      <td>03.06. 19:00</td>\n",
       "      <td>Ceará</td>\n",
       "      <td>Cruzeiro</td>\n",
       "      <td>0 : 1</td>\n",
       "    </tr>\n",
       "    <tr>\n",
       "      <th>2</th>\n",
       "      <td>brasileiro-a</td>\n",
       "      <td>2018</td>\n",
       "      <td>9</td>\n",
       "      <td>03.06. 16:00</td>\n",
       "      <td>América-MG</td>\n",
       "      <td>Atlético-PR</td>\n",
       "      <td>3 : 1</td>\n",
       "    </tr>\n",
       "    <tr>\n",
       "      <th>3</th>\n",
       "      <td>brasileiro-a</td>\n",
       "      <td>2018</td>\n",
       "      <td>9</td>\n",
       "      <td>03.06. 16:00</td>\n",
       "      <td>Bahia</td>\n",
       "      <td>Grêmio</td>\n",
       "      <td>0 : 2</td>\n",
       "    </tr>\n",
       "    <tr>\n",
       "      <th>4</th>\n",
       "      <td>brasileiro-a</td>\n",
       "      <td>2018</td>\n",
       "      <td>9</td>\n",
       "      <td>03.06. 16:00</td>\n",
       "      <td>Flamengo</td>\n",
       "      <td>Corinthians</td>\n",
       "      <td>1 : 0</td>\n",
       "    </tr>\n",
       "  </tbody>\n",
       "</table>\n",
       "</div>"
      ],
      "text/plain": [
       "     campeonato   ano  rodada          data    mandante    visitante placar\n",
       "0  brasileiro-a  2018       9  04.06. 20:00      Paraná   Fluminense  2 : 1\n",
       "1  brasileiro-a  2018       9  03.06. 19:00       Ceará     Cruzeiro  0 : 1\n",
       "2  brasileiro-a  2018       9  03.06. 16:00  América-MG  Atlético-PR  3 : 1\n",
       "3  brasileiro-a  2018       9  03.06. 16:00       Bahia       Grêmio  0 : 2\n",
       "4  brasileiro-a  2018       9  03.06. 16:00    Flamengo  Corinthians  1 : 0"
      ]
     },
     "execution_count": 132,
     "metadata": {},
     "output_type": "execute_result"
    }
   ],
   "source": [
    "jogos.head()"
   ]
  },
  {
   "cell_type": "code",
   "execution_count": 133,
   "metadata": {},
   "outputs": [
    {
     "name": "stdout",
     "output_type": "stream",
     "text": [
      "<class 'pandas.core.frame.DataFrame'>\n",
      "RangeIndex: 6214 entries, 0 to 6213\n",
      "Data columns (total 7 columns):\n",
      "campeonato    6214 non-null object\n",
      "ano           6214 non-null int64\n",
      "rodada        6214 non-null int64\n",
      "data          6214 non-null object\n",
      "mandante      6214 non-null object\n",
      "visitante     6214 non-null object\n",
      "placar        6214 non-null object\n",
      "dtypes: int64(2), object(5)\n",
      "memory usage: 339.9+ KB\n"
     ]
    }
   ],
   "source": [
    "jogos.info()"
   ]
  },
  {
   "cell_type": "markdown",
   "metadata": {},
   "source": [
    "## 2. Data Parsing "
   ]
  },
  {
   "cell_type": "markdown",
   "metadata": {},
   "source": [
    "### 2.1 Remove white spaces"
   ]
  },
  {
   "cell_type": "code",
   "execution_count": 134,
   "metadata": {
    "collapsed": true
   },
   "outputs": [],
   "source": [
    "# select columns of type object\n",
    "jogos_obj = jogos.select_dtypes(['object'])"
   ]
  },
  {
   "cell_type": "code",
   "execution_count": 135,
   "metadata": {
    "collapsed": true
   },
   "outputs": [],
   "source": [
    "jogos[jogos_obj.columns] = jogos_obj.apply(lambda x: x.str.strip())"
   ]
  },
  {
   "cell_type": "markdown",
   "metadata": {},
   "source": [
    "### 2.2 List soccer teams from all seasons"
   ]
  },
  {
   "cell_type": "markdown",
   "metadata": {},
   "source": [
    "#### 2.2.1 Get unique mandatory teams "
   ]
  },
  {
   "cell_type": "code",
   "execution_count": 136,
   "metadata": {},
   "outputs": [],
   "source": [
    "times = list(jogos[\"mandante\"].unique())"
   ]
  },
  {
   "cell_type": "markdown",
   "metadata": {},
   "source": [
    "#### 2.2.2 Sort teams by name"
   ]
  },
  {
   "cell_type": "code",
   "execution_count": 137,
   "metadata": {
    "collapsed": true
   },
   "outputs": [],
   "source": [
    "times.sort()"
   ]
  },
  {
   "cell_type": "markdown",
   "metadata": {},
   "source": [
    "#### 2.2.3 Check the teams"
   ]
  },
  {
   "cell_type": "code",
   "execution_count": 138,
   "metadata": {},
   "outputs": [
    {
     "data": {
      "text/plain": [
       "['América-MG',\n",
       " 'América-RN',\n",
       " 'Atlético-GO',\n",
       " 'Atlético-MG',\n",
       " 'Atlético-PR',\n",
       " 'Avaí',\n",
       " 'Bahia',\n",
       " 'Barueri',\n",
       " 'Botafogo',\n",
       " 'Brasiliense',\n",
       " 'Ceará',\n",
       " 'Chapecoense',\n",
       " 'Corinthians',\n",
       " 'Coritiba',\n",
       " 'Criciúma',\n",
       " 'Cruzeiro',\n",
       " 'Figueirense',\n",
       " 'Flamengo',\n",
       " 'Fluminense',\n",
       " 'Fortaleza',\n",
       " 'Goias',\n",
       " 'Grêmio',\n",
       " 'Guarani',\n",
       " 'Internacional',\n",
       " 'Ipatinga',\n",
       " 'Joinville',\n",
       " 'Juventude',\n",
       " 'Náutico',\n",
       " 'Palmeiras',\n",
       " 'Paraná',\n",
       " 'Paysandu',\n",
       " 'Ponte Preta',\n",
       " 'Portuguesa',\n",
       " 'Santa Cruz',\n",
       " 'Santo Andre',\n",
       " 'Santos',\n",
       " 'Sao Caetano',\n",
       " 'Sport Recife',\n",
       " 'São Paulo',\n",
       " 'Vasco',\n",
       " 'Vitória']"
      ]
     },
     "execution_count": 138,
     "metadata": {},
     "output_type": "execute_result"
    }
   ],
   "source": [
    "times"
   ]
  },
  {
   "cell_type": "markdown",
   "metadata": {},
   "source": [
    "#### 2.2.4 Check the number of times"
   ]
  },
  {
   "cell_type": "code",
   "execution_count": 139,
   "metadata": {},
   "outputs": [
    {
     "data": {
      "text/plain": [
       "41"
      ]
     },
     "execution_count": 139,
     "metadata": {},
     "output_type": "execute_result"
    }
   ],
   "source": [
    "len(times)"
   ]
  },
  {
   "cell_type": "markdown",
   "metadata": {},
   "source": [
    "### 2.3 Transform score in two columns"
   ]
  },
  {
   "cell_type": "markdown",
   "metadata": {},
   "source": [
    "#### 2.3.1 Defines a function to parse the score"
   ]
  },
  {
   "cell_type": "code",
   "execution_count": 140,
   "metadata": {
    "collapsed": true
   },
   "outputs": [],
   "source": [
    "# Function returns first part of score if is the home team or second part otherwise\n",
    "def tratarPlacar(row, mandante):\n",
    "    placar = row[\"placar\"].split(\" : \")\n",
    "    if (mandante):\n",
    "        return int(placar[0])\n",
    "    return int(placar[1])"
   ]
  },
  {
   "cell_type": "markdown",
   "metadata": {},
   "source": [
    "#### 2.3.2 Fills the goals of the home team in to a column"
   ]
  },
  {
   "cell_type": "code",
   "execution_count": 141,
   "metadata": {},
   "outputs": [],
   "source": [
    "jogos['gols_mandante'] = jogos.apply (lambda row: tratarPlacar(row, True),axis=1)"
   ]
  },
  {
   "cell_type": "markdown",
   "metadata": {},
   "source": [
    "#### 2.3.2 Fills the goals of the visitor team in to a column"
   ]
  },
  {
   "cell_type": "code",
   "execution_count": 142,
   "metadata": {},
   "outputs": [],
   "source": [
    "jogos['gols_visitante'] = jogos.apply (lambda row: tratarPlacar(row, False),axis=1)"
   ]
  },
  {
   "cell_type": "markdown",
   "metadata": {},
   "source": [
    "#### 2.3.3 Remove scrore column"
   ]
  },
  {
   "cell_type": "code",
   "execution_count": 143,
   "metadata": {},
   "outputs": [],
   "source": [
    "del jogos[\"placar\"]"
   ]
  },
  {
   "cell_type": "markdown",
   "metadata": {},
   "source": [
    "#### 2.3.4 Describe the matches DataFrame"
   ]
  },
  {
   "cell_type": "code",
   "execution_count": 144,
   "metadata": {},
   "outputs": [
    {
     "data": {
      "text/html": [
       "<div>\n",
       "<style>\n",
       "    .dataframe thead tr:only-child th {\n",
       "        text-align: right;\n",
       "    }\n",
       "\n",
       "    .dataframe thead th {\n",
       "        text-align: left;\n",
       "    }\n",
       "\n",
       "    .dataframe tbody tr th {\n",
       "        vertical-align: top;\n",
       "    }\n",
       "</style>\n",
       "<table border=\"1\" class=\"dataframe\">\n",
       "  <thead>\n",
       "    <tr style=\"text-align: right;\">\n",
       "      <th></th>\n",
       "      <th>ano</th>\n",
       "      <th>rodada</th>\n",
       "      <th>gols_mandante</th>\n",
       "      <th>gols_visitante</th>\n",
       "    </tr>\n",
       "  </thead>\n",
       "  <tbody>\n",
       "    <tr>\n",
       "      <th>count</th>\n",
       "      <td>6214.000000</td>\n",
       "      <td>6214.000000</td>\n",
       "      <td>6214.000000</td>\n",
       "      <td>6214.000000</td>\n",
       "    </tr>\n",
       "    <tr>\n",
       "      <th>mean</th>\n",
       "      <td>2009.687480</td>\n",
       "      <td>20.154168</td>\n",
       "      <td>1.600579</td>\n",
       "      <td>1.048439</td>\n",
       "    </tr>\n",
       "    <tr>\n",
       "      <th>std</th>\n",
       "      <td>4.540624</td>\n",
       "      <td>11.673962</td>\n",
       "      <td>1.253268</td>\n",
       "      <td>1.041117</td>\n",
       "    </tr>\n",
       "    <tr>\n",
       "      <th>min</th>\n",
       "      <td>2003.000000</td>\n",
       "      <td>1.000000</td>\n",
       "      <td>0.000000</td>\n",
       "      <td>0.000000</td>\n",
       "    </tr>\n",
       "    <tr>\n",
       "      <th>25%</th>\n",
       "      <td>2005.000000</td>\n",
       "      <td>10.000000</td>\n",
       "      <td>1.000000</td>\n",
       "      <td>0.000000</td>\n",
       "    </tr>\n",
       "    <tr>\n",
       "      <th>50%</th>\n",
       "      <td>2010.000000</td>\n",
       "      <td>20.000000</td>\n",
       "      <td>1.000000</td>\n",
       "      <td>1.000000</td>\n",
       "    </tr>\n",
       "    <tr>\n",
       "      <th>75%</th>\n",
       "      <td>2014.000000</td>\n",
       "      <td>30.000000</td>\n",
       "      <td>2.000000</td>\n",
       "      <td>2.000000</td>\n",
       "    </tr>\n",
       "    <tr>\n",
       "      <th>max</th>\n",
       "      <td>2018.000000</td>\n",
       "      <td>46.000000</td>\n",
       "      <td>7.000000</td>\n",
       "      <td>7.000000</td>\n",
       "    </tr>\n",
       "  </tbody>\n",
       "</table>\n",
       "</div>"
      ],
      "text/plain": [
       "               ano       rodada  gols_mandante  gols_visitante\n",
       "count  6214.000000  6214.000000    6214.000000     6214.000000\n",
       "mean   2009.687480    20.154168       1.600579        1.048439\n",
       "std       4.540624    11.673962       1.253268        1.041117\n",
       "min    2003.000000     1.000000       0.000000        0.000000\n",
       "25%    2005.000000    10.000000       1.000000        0.000000\n",
       "50%    2010.000000    20.000000       1.000000        1.000000\n",
       "75%    2014.000000    30.000000       2.000000        2.000000\n",
       "max    2018.000000    46.000000       7.000000        7.000000"
      ]
     },
     "execution_count": 144,
     "metadata": {},
     "output_type": "execute_result"
    }
   ],
   "source": [
    "jogos.describe()"
   ]
  },
  {
   "cell_type": "markdown",
   "metadata": {},
   "source": [
    "#### 2.3.5 Check the matches DataFrame"
   ]
  },
  {
   "cell_type": "code",
   "execution_count": 145,
   "metadata": {},
   "outputs": [
    {
     "data": {
      "text/html": [
       "<div>\n",
       "<style>\n",
       "    .dataframe thead tr:only-child th {\n",
       "        text-align: right;\n",
       "    }\n",
       "\n",
       "    .dataframe thead th {\n",
       "        text-align: left;\n",
       "    }\n",
       "\n",
       "    .dataframe tbody tr th {\n",
       "        vertical-align: top;\n",
       "    }\n",
       "</style>\n",
       "<table border=\"1\" class=\"dataframe\">\n",
       "  <thead>\n",
       "    <tr style=\"text-align: right;\">\n",
       "      <th></th>\n",
       "      <th>campeonato</th>\n",
       "      <th>ano</th>\n",
       "      <th>rodada</th>\n",
       "      <th>data</th>\n",
       "      <th>mandante</th>\n",
       "      <th>visitante</th>\n",
       "      <th>gols_mandante</th>\n",
       "      <th>gols_visitante</th>\n",
       "    </tr>\n",
       "  </thead>\n",
       "  <tbody>\n",
       "    <tr>\n",
       "      <th>0</th>\n",
       "      <td>brasileiro-a</td>\n",
       "      <td>2018</td>\n",
       "      <td>9</td>\n",
       "      <td>04.06. 20:00</td>\n",
       "      <td>Paraná</td>\n",
       "      <td>Fluminense</td>\n",
       "      <td>2</td>\n",
       "      <td>1</td>\n",
       "    </tr>\n",
       "    <tr>\n",
       "      <th>1</th>\n",
       "      <td>brasileiro-a</td>\n",
       "      <td>2018</td>\n",
       "      <td>9</td>\n",
       "      <td>03.06. 19:00</td>\n",
       "      <td>Ceará</td>\n",
       "      <td>Cruzeiro</td>\n",
       "      <td>0</td>\n",
       "      <td>1</td>\n",
       "    </tr>\n",
       "  </tbody>\n",
       "</table>\n",
       "</div>"
      ],
      "text/plain": [
       "     campeonato   ano  rodada          data mandante   visitante  \\\n",
       "0  brasileiro-a  2018       9  04.06. 20:00   Paraná  Fluminense   \n",
       "1  brasileiro-a  2018       9  03.06. 19:00    Ceará    Cruzeiro   \n",
       "\n",
       "   gols_mandante  gols_visitante  \n",
       "0              2               1  \n",
       "1              0               1  "
      ]
     },
     "execution_count": 145,
     "metadata": {},
     "output_type": "execute_result"
    }
   ],
   "source": [
    "jogos.head(2)"
   ]
  },
  {
   "cell_type": "markdown",
   "metadata": {},
   "source": [
    "### 2.4 Parse the date column"
   ]
  },
  {
   "cell_type": "markdown",
   "metadata": {},
   "source": [
    "#### 2.4.1 Defines a function to parse the date"
   ]
  },
  {
   "cell_type": "code",
   "execution_count": 146,
   "metadata": {
    "collapsed": true
   },
   "outputs": [],
   "source": [
    "# Converts the date from dd.mm to dd-mm format\n",
    "def tratarData(row):\n",
    "    data = row[\"data\"].split(\".\")    \n",
    "    return data[0] + \"-\" + data[1]"
   ]
  },
  {
   "cell_type": "markdown",
   "metadata": {},
   "source": [
    "#### 2.4.2 Parse data form \"data\" column"
   ]
  },
  {
   "cell_type": "code",
   "execution_count": 147,
   "metadata": {
    "collapsed": true
   },
   "outputs": [],
   "source": [
    "jogos['data'] = jogos.apply (lambda row: tratarData(row),axis=1)"
   ]
  },
  {
   "cell_type": "markdown",
   "metadata": {},
   "source": [
    "#### 2.4.3 Check the result on  \"data\"column "
   ]
  },
  {
   "cell_type": "code",
   "execution_count": 148,
   "metadata": {},
   "outputs": [
    {
     "data": {
      "text/html": [
       "<div>\n",
       "<style>\n",
       "    .dataframe thead tr:only-child th {\n",
       "        text-align: right;\n",
       "    }\n",
       "\n",
       "    .dataframe thead th {\n",
       "        text-align: left;\n",
       "    }\n",
       "\n",
       "    .dataframe tbody tr th {\n",
       "        vertical-align: top;\n",
       "    }\n",
       "</style>\n",
       "<table border=\"1\" class=\"dataframe\">\n",
       "  <thead>\n",
       "    <tr style=\"text-align: right;\">\n",
       "      <th></th>\n",
       "      <th>campeonato</th>\n",
       "      <th>ano</th>\n",
       "      <th>rodada</th>\n",
       "      <th>data</th>\n",
       "      <th>mandante</th>\n",
       "      <th>visitante</th>\n",
       "      <th>gols_mandante</th>\n",
       "      <th>gols_visitante</th>\n",
       "    </tr>\n",
       "  </thead>\n",
       "  <tbody>\n",
       "    <tr>\n",
       "      <th>0</th>\n",
       "      <td>brasileiro-a</td>\n",
       "      <td>2018</td>\n",
       "      <td>9</td>\n",
       "      <td>04-06</td>\n",
       "      <td>Paraná</td>\n",
       "      <td>Fluminense</td>\n",
       "      <td>2</td>\n",
       "      <td>1</td>\n",
       "    </tr>\n",
       "    <tr>\n",
       "      <th>1</th>\n",
       "      <td>brasileiro-a</td>\n",
       "      <td>2018</td>\n",
       "      <td>9</td>\n",
       "      <td>03-06</td>\n",
       "      <td>Ceará</td>\n",
       "      <td>Cruzeiro</td>\n",
       "      <td>0</td>\n",
       "      <td>1</td>\n",
       "    </tr>\n",
       "  </tbody>\n",
       "</table>\n",
       "</div>"
      ],
      "text/plain": [
       "     campeonato   ano  rodada   data mandante   visitante  gols_mandante  \\\n",
       "0  brasileiro-a  2018       9  04-06   Paraná  Fluminense              2   \n",
       "1  brasileiro-a  2018       9  03-06    Ceará    Cruzeiro              0   \n",
       "\n",
       "   gols_visitante  \n",
       "0               1  \n",
       "1               1  "
      ]
     },
     "execution_count": 148,
     "metadata": {},
     "output_type": "execute_result"
    }
   ],
   "source": [
    "jogos.head(2)"
   ]
  },
  {
   "cell_type": "markdown",
   "metadata": {},
   "source": [
    "### 2.5 Create a result column "
   ]
  },
  {
   "cell_type": "markdown",
   "metadata": {},
   "source": [
    "#### 2.5.1 Defines a function to parse score"
   ]
  },
  {
   "cell_type": "code",
   "execution_count": 149,
   "metadata": {
    "collapsed": true
   },
   "outputs": [],
   "source": [
    "# Retuns \"MANDANTE\" if the home team wins the macth,\n",
    "# \"VISITANTE\" if visitor wins or \"EMPATE\" in case of tied match\n",
    "def resultado(row):\n",
    "    if (row[\"gols_mandante\"] > row[\"gols_visitante\"]):\n",
    "        return \"MANDANTE\"\n",
    "    elif (row[\"gols_mandante\"] < row[\"gols_visitante\"]):\n",
    "        return \"VISITANTE\"\n",
    "    else:\n",
    "        return \"EMPATE\""
   ]
  },
  {
   "cell_type": "markdown",
   "metadata": {},
   "source": [
    "#### 2.5.2 Apply the function to \"resultado\" column"
   ]
  },
  {
   "cell_type": "code",
   "execution_count": 150,
   "metadata": {
    "collapsed": true
   },
   "outputs": [],
   "source": [
    "jogos['resultado'] = jogos.apply (lambda row: resultado(row),axis=1)"
   ]
  },
  {
   "cell_type": "markdown",
   "metadata": {},
   "source": [
    "#### 2.5.3 Check the matches DataFrame"
   ]
  },
  {
   "cell_type": "code",
   "execution_count": 151,
   "metadata": {},
   "outputs": [
    {
     "data": {
      "text/html": [
       "<div>\n",
       "<style>\n",
       "    .dataframe thead tr:only-child th {\n",
       "        text-align: right;\n",
       "    }\n",
       "\n",
       "    .dataframe thead th {\n",
       "        text-align: left;\n",
       "    }\n",
       "\n",
       "    .dataframe tbody tr th {\n",
       "        vertical-align: top;\n",
       "    }\n",
       "</style>\n",
       "<table border=\"1\" class=\"dataframe\">\n",
       "  <thead>\n",
       "    <tr style=\"text-align: right;\">\n",
       "      <th></th>\n",
       "      <th>campeonato</th>\n",
       "      <th>ano</th>\n",
       "      <th>rodada</th>\n",
       "      <th>data</th>\n",
       "      <th>mandante</th>\n",
       "      <th>visitante</th>\n",
       "      <th>gols_mandante</th>\n",
       "      <th>gols_visitante</th>\n",
       "      <th>resultado</th>\n",
       "    </tr>\n",
       "  </thead>\n",
       "  <tbody>\n",
       "    <tr>\n",
       "      <th>0</th>\n",
       "      <td>brasileiro-a</td>\n",
       "      <td>2018</td>\n",
       "      <td>9</td>\n",
       "      <td>04-06</td>\n",
       "      <td>Paraná</td>\n",
       "      <td>Fluminense</td>\n",
       "      <td>2</td>\n",
       "      <td>1</td>\n",
       "      <td>MANDANTE</td>\n",
       "    </tr>\n",
       "    <tr>\n",
       "      <th>1</th>\n",
       "      <td>brasileiro-a</td>\n",
       "      <td>2018</td>\n",
       "      <td>9</td>\n",
       "      <td>03-06</td>\n",
       "      <td>Ceará</td>\n",
       "      <td>Cruzeiro</td>\n",
       "      <td>0</td>\n",
       "      <td>1</td>\n",
       "      <td>VISITANTE</td>\n",
       "    </tr>\n",
       "  </tbody>\n",
       "</table>\n",
       "</div>"
      ],
      "text/plain": [
       "     campeonato   ano  rodada   data mandante   visitante  gols_mandante  \\\n",
       "0  brasileiro-a  2018       9  04-06   Paraná  Fluminense              2   \n",
       "1  brasileiro-a  2018       9  03-06    Ceará    Cruzeiro              0   \n",
       "\n",
       "   gols_visitante  resultado  \n",
       "0               1   MANDANTE  \n",
       "1               1  VISITANTE  "
      ]
     },
     "execution_count": 151,
     "metadata": {},
     "output_type": "execute_result"
    }
   ],
   "source": [
    "jogos.head(2)"
   ]
  },
  {
   "cell_type": "markdown",
   "metadata": {},
   "source": [
    "### 2.6 Export matches DataFrame to file"
   ]
  },
  {
   "cell_type": "code",
   "execution_count": 152,
   "metadata": {
    "collapsed": true
   },
   "outputs": [],
   "source": [
    "jogos.to_csv(\"data/match-results.9.csv\", sep=\",\")"
   ]
  },
  {
   "cell_type": "code",
   "execution_count": null,
   "metadata": {
    "collapsed": true
   },
   "outputs": [],
   "source": []
  },
  {
   "cell_type": "code",
   "execution_count": null,
   "metadata": {
    "collapsed": true
   },
   "outputs": [],
   "source": []
  }
 ],
 "metadata": {
  "kernelspec": {
   "display_name": "Python 3",
   "language": "python",
   "name": "python3"
  },
  "language_info": {
   "codemirror_mode": {
    "name": "ipython",
    "version": 3
   },
   "file_extension": ".py",
   "mimetype": "text/x-python",
   "name": "python",
   "nbconvert_exporter": "python",
   "pygments_lexer": "ipython3",
   "version": "3.6.2"
  }
 },
 "nbformat": 4,
 "nbformat_minor": 2
}
