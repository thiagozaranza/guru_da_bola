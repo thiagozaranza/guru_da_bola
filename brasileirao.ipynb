{
 "cells": [
  {
   "cell_type": "code",
   "execution_count": 2,
   "metadata": {
    "collapsed": true
   },
   "outputs": [],
   "source": [
    "import pandas as pd"
   ]
  },
  {
   "cell_type": "code",
   "execution_count": 3,
   "metadata": {
    "collapsed": true
   },
   "outputs": [],
   "source": [
    "import numpy as np"
   ]
  },
  {
   "cell_type": "markdown",
   "metadata": {},
   "source": [
    "### Carregar dados"
   ]
  },
  {
   "cell_type": "code",
   "execution_count": 4,
   "metadata": {
    "collapsed": true
   },
   "outputs": [],
   "source": [
    "jogos = pd.read_csv(\"data/jogos.csv\")"
   ]
  },
  {
   "cell_type": "code",
   "execution_count": 5,
   "metadata": {},
   "outputs": [
    {
     "data": {
      "text/html": [
       "<div>\n",
       "<style>\n",
       "    .dataframe thead tr:only-child th {\n",
       "        text-align: right;\n",
       "    }\n",
       "\n",
       "    .dataframe thead th {\n",
       "        text-align: left;\n",
       "    }\n",
       "\n",
       "    .dataframe tbody tr th {\n",
       "        vertical-align: top;\n",
       "    }\n",
       "</style>\n",
       "<table border=\"1\" class=\"dataframe\">\n",
       "  <thead>\n",
       "    <tr style=\"text-align: right;\">\n",
       "      <th></th>\n",
       "      <th>Ano</th>\n",
       "      <th>Mandante</th>\n",
       "      <th>Visitante</th>\n",
       "      <th>Placar_mandante</th>\n",
       "      <th>Placar_visitante</th>\n",
       "    </tr>\n",
       "  </thead>\n",
       "  <tbody>\n",
       "    <tr>\n",
       "      <th>0</th>\n",
       "      <td>2017</td>\n",
       "      <td>Vasco</td>\n",
       "      <td>Coritiba</td>\n",
       "      <td>1</td>\n",
       "      <td>1</td>\n",
       "    </tr>\n",
       "    <tr>\n",
       "      <th>1</th>\n",
       "      <td>2017</td>\n",
       "      <td>Flamengo</td>\n",
       "      <td>Bahia</td>\n",
       "      <td>4</td>\n",
       "      <td>1</td>\n",
       "    </tr>\n",
       "    <tr>\n",
       "      <th>2</th>\n",
       "      <td>2017</td>\n",
       "      <td>Sport Recife</td>\n",
       "      <td>Santos</td>\n",
       "      <td>1</td>\n",
       "      <td>1</td>\n",
       "    </tr>\n",
       "    <tr>\n",
       "      <th>3</th>\n",
       "      <td>2017</td>\n",
       "      <td>Palmeiras</td>\n",
       "      <td>Ponte Preta</td>\n",
       "      <td>2</td>\n",
       "      <td>0</td>\n",
       "    </tr>\n",
       "    <tr>\n",
       "      <th>4</th>\n",
       "      <td>2017</td>\n",
       "      <td>Vitória</td>\n",
       "      <td>Atlético-PR</td>\n",
       "      <td>2</td>\n",
       "      <td>3</td>\n",
       "    </tr>\n",
       "  </tbody>\n",
       "</table>\n",
       "</div>"
      ],
      "text/plain": [
       "    Ano      Mandante    Visitante  Placar_mandante  Placar_visitante\n",
       "0  2017         Vasco     Coritiba                1                 1\n",
       "1  2017      Flamengo        Bahia                4                 1\n",
       "2  2017  Sport Recife       Santos                1                 1\n",
       "3  2017     Palmeiras  Ponte Preta                2                 0\n",
       "4  2017       Vitória  Atlético-PR                2                 3"
      ]
     },
     "execution_count": 5,
     "metadata": {},
     "output_type": "execute_result"
    }
   ],
   "source": [
    "jogos.head()"
   ]
  },
  {
   "cell_type": "code",
   "execution_count": 6,
   "metadata": {},
   "outputs": [
    {
     "name": "stdout",
     "output_type": "stream",
     "text": [
      "<class 'pandas.core.frame.DataFrame'>\n",
      "RangeIndex: 1431 entries, 0 to 1430\n",
      "Data columns (total 5 columns):\n",
      "Ano                 1431 non-null int64\n",
      "Mandante            1431 non-null object\n",
      "Visitante           1431 non-null object\n",
      "Placar_mandante     1431 non-null int64\n",
      "Placar_visitante    1431 non-null int64\n",
      "dtypes: int64(3), object(2)\n",
      "memory usage: 56.0+ KB\n"
     ]
    }
   ],
   "source": [
    "jogos.info()"
   ]
  },
  {
   "cell_type": "markdown",
   "metadata": {},
   "source": [
    "### Remover espaços em branco dos nomes dos times"
   ]
  },
  {
   "cell_type": "code",
   "execution_count": 7,
   "metadata": {
    "collapsed": true
   },
   "outputs": [],
   "source": [
    "jogos_obj = jogos.select_dtypes(['object'])\n",
    "jogos[jogos_obj.columns] = jogos_obj.apply(lambda x: x.str.strip())"
   ]
  },
  {
   "cell_type": "markdown",
   "metadata": {},
   "source": [
    "### Lista de times participantes"
   ]
  },
  {
   "cell_type": "code",
   "execution_count": 8,
   "metadata": {
    "collapsed": true
   },
   "outputs": [],
   "source": [
    "times = list(jogos[\"Visitante\"].unique())"
   ]
  },
  {
   "cell_type": "code",
   "execution_count": 9,
   "metadata": {
    "collapsed": true
   },
   "outputs": [],
   "source": [
    "times.sort()"
   ]
  },
  {
   "cell_type": "code",
   "execution_count": 10,
   "metadata": {},
   "outputs": [
    {
     "data": {
      "text/plain": [
       "['América-MG',\n",
       " 'Atlético-GO',\n",
       " 'Atlético-MG',\n",
       " 'Atlético-PR',\n",
       " 'Avaí',\n",
       " 'Bahia',\n",
       " 'Botafogo',\n",
       " 'Chapecoense',\n",
       " 'Corinthians',\n",
       " 'Coritiba',\n",
       " 'Criciúma',\n",
       " 'Cruzeiro',\n",
       " 'Figueirense',\n",
       " 'Flamengo',\n",
       " 'Fluminense',\n",
       " 'Goias',\n",
       " 'Grêmio',\n",
       " 'Internacional',\n",
       " 'Joinville',\n",
       " 'Palmeiras',\n",
       " 'Ponte Preta',\n",
       " 'Santa Cruz',\n",
       " 'Santos',\n",
       " 'Sport Recife',\n",
       " 'São Paulo',\n",
       " 'Vasco',\n",
       " 'Vitória']"
      ]
     },
     "execution_count": 10,
     "metadata": {},
     "output_type": "execute_result"
    }
   ],
   "source": [
    "times"
   ]
  },
  {
   "cell_type": "code",
   "execution_count": 17,
   "metadata": {},
   "outputs": [
    {
     "data": {
      "text/plain": [
       "27"
      ]
     },
     "execution_count": 17,
     "metadata": {},
     "output_type": "execute_result"
    }
   ],
   "source": [
    "len(times)"
   ]
  },
  {
   "cell_type": "markdown",
   "metadata": {},
   "source": [
    "### Criar coluna com resultado"
   ]
  },
  {
   "cell_type": "code",
   "execution_count": 18,
   "metadata": {
    "collapsed": true
   },
   "outputs": [],
   "source": [
    "def resultado(row):\n",
    "    if (row[\"Placar_mandante\"] > row[\"Placar_visitante\"]):\n",
    "        return \"MANDANTE\"\n",
    "    elif (row[\"Placar_mandante\"] < row[\"Placar_visitante\"]):\n",
    "        return \"VISITANTE\"\n",
    "    else:\n",
    "        return \"EMPATE\""
   ]
  },
  {
   "cell_type": "code",
   "execution_count": 19,
   "metadata": {},
   "outputs": [],
   "source": [
    "jogos['Resultado'] = jogos.apply (lambda row: resultado(row),axis=1)"
   ]
  },
  {
   "cell_type": "code",
   "execution_count": 21,
   "metadata": {},
   "outputs": [
    {
     "data": {
      "text/html": [
       "<div>\n",
       "<style>\n",
       "    .dataframe thead tr:only-child th {\n",
       "        text-align: right;\n",
       "    }\n",
       "\n",
       "    .dataframe thead th {\n",
       "        text-align: left;\n",
       "    }\n",
       "\n",
       "    .dataframe tbody tr th {\n",
       "        vertical-align: top;\n",
       "    }\n",
       "</style>\n",
       "<table border=\"1\" class=\"dataframe\">\n",
       "  <thead>\n",
       "    <tr style=\"text-align: right;\">\n",
       "      <th></th>\n",
       "      <th>Ano</th>\n",
       "      <th>Mandante</th>\n",
       "      <th>Visitante</th>\n",
       "      <th>Placar_mandante</th>\n",
       "      <th>Placar_visitante</th>\n",
       "      <th>Resultado</th>\n",
       "    </tr>\n",
       "  </thead>\n",
       "  <tbody>\n",
       "    <tr>\n",
       "      <th>0</th>\n",
       "      <td>2017</td>\n",
       "      <td>Vasco</td>\n",
       "      <td>Coritiba</td>\n",
       "      <td>1</td>\n",
       "      <td>1</td>\n",
       "      <td>EMPATE</td>\n",
       "    </tr>\n",
       "    <tr>\n",
       "      <th>1</th>\n",
       "      <td>2017</td>\n",
       "      <td>Flamengo</td>\n",
       "      <td>Bahia</td>\n",
       "      <td>4</td>\n",
       "      <td>1</td>\n",
       "      <td>MANDANTE</td>\n",
       "    </tr>\n",
       "    <tr>\n",
       "      <th>2</th>\n",
       "      <td>2017</td>\n",
       "      <td>Sport Recife</td>\n",
       "      <td>Santos</td>\n",
       "      <td>1</td>\n",
       "      <td>1</td>\n",
       "      <td>EMPATE</td>\n",
       "    </tr>\n",
       "    <tr>\n",
       "      <th>3</th>\n",
       "      <td>2017</td>\n",
       "      <td>Palmeiras</td>\n",
       "      <td>Ponte Preta</td>\n",
       "      <td>2</td>\n",
       "      <td>0</td>\n",
       "      <td>MANDANTE</td>\n",
       "    </tr>\n",
       "    <tr>\n",
       "      <th>4</th>\n",
       "      <td>2017</td>\n",
       "      <td>Vitória</td>\n",
       "      <td>Atlético-PR</td>\n",
       "      <td>2</td>\n",
       "      <td>3</td>\n",
       "      <td>VISITANTE</td>\n",
       "    </tr>\n",
       "  </tbody>\n",
       "</table>\n",
       "</div>"
      ],
      "text/plain": [
       "    Ano      Mandante    Visitante  Placar_mandante  Placar_visitante  \\\n",
       "0  2017         Vasco     Coritiba                1                 1   \n",
       "1  2017      Flamengo        Bahia                4                 1   \n",
       "2  2017  Sport Recife       Santos                1                 1   \n",
       "3  2017     Palmeiras  Ponte Preta                2                 0   \n",
       "4  2017       Vitória  Atlético-PR                2                 3   \n",
       "\n",
       "   Resultado  \n",
       "0     EMPATE  \n",
       "1   MANDANTE  \n",
       "2     EMPATE  \n",
       "3   MANDANTE  \n",
       "4  VISITANTE  "
      ]
     },
     "execution_count": 21,
     "metadata": {},
     "output_type": "execute_result"
    }
   ],
   "source": [
    "jogos.head()"
   ]
  },
  {
   "cell_type": "code",
   "execution_count": null,
   "metadata": {
    "collapsed": true
   },
   "outputs": [],
   "source": []
  }
 ],
 "metadata": {
  "kernelspec": {
   "display_name": "Python 3",
   "language": "python",
   "name": "python3"
  },
  "language_info": {
   "codemirror_mode": {
    "name": "ipython",
    "version": 3
   },
   "file_extension": ".py",
   "mimetype": "text/x-python",
   "name": "python",
   "nbconvert_exporter": "python",
   "pygments_lexer": "ipython3",
   "version": "3.6.2"
  }
 },
 "nbformat": 4,
 "nbformat_minor": 2
}
