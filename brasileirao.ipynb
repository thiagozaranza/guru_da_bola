{
 "cells": [
  {
   "cell_type": "code",
   "execution_count": 1,
   "metadata": {
    "collapsed": true
   },
   "outputs": [],
   "source": [
    "import pandas as pd"
   ]
  },
  {
   "cell_type": "code",
   "execution_count": 2,
   "metadata": {
    "collapsed": true
   },
   "outputs": [],
   "source": [
    "import numpy as np"
   ]
  },
  {
   "cell_type": "markdown",
   "metadata": {},
   "source": [
    "### Carregar dados"
   ]
  },
  {
   "cell_type": "code",
   "execution_count": 3,
   "metadata": {
    "collapsed": true
   },
   "outputs": [],
   "source": [
    "jogos = pd.read_csv(\"data/jogos.csv\")"
   ]
  },
  {
   "cell_type": "code",
   "execution_count": 4,
   "metadata": {},
   "outputs": [
    {
     "data": {
      "text/html": [
       "<div>\n",
       "<style>\n",
       "    .dataframe thead tr:only-child th {\n",
       "        text-align: right;\n",
       "    }\n",
       "\n",
       "    .dataframe thead th {\n",
       "        text-align: left;\n",
       "    }\n",
       "\n",
       "    .dataframe tbody tr th {\n",
       "        vertical-align: top;\n",
       "    }\n",
       "</style>\n",
       "<table border=\"1\" class=\"dataframe\">\n",
       "  <thead>\n",
       "    <tr style=\"text-align: right;\">\n",
       "      <th></th>\n",
       "      <th>Ano</th>\n",
       "      <th>Mandante</th>\n",
       "      <th>Visitante</th>\n",
       "      <th>Placar_mandante</th>\n",
       "      <th>Placar_visitante</th>\n",
       "    </tr>\n",
       "  </thead>\n",
       "  <tbody>\n",
       "    <tr>\n",
       "      <th>0</th>\n",
       "      <td>2017</td>\n",
       "      <td>Vasco</td>\n",
       "      <td>Coritiba</td>\n",
       "      <td>1</td>\n",
       "      <td>1</td>\n",
       "    </tr>\n",
       "    <tr>\n",
       "      <th>1</th>\n",
       "      <td>2017</td>\n",
       "      <td>Flamengo</td>\n",
       "      <td>Bahia</td>\n",
       "      <td>4</td>\n",
       "      <td>1</td>\n",
       "    </tr>\n",
       "    <tr>\n",
       "      <th>2</th>\n",
       "      <td>2017</td>\n",
       "      <td>Sport Recife</td>\n",
       "      <td>Santos</td>\n",
       "      <td>1</td>\n",
       "      <td>1</td>\n",
       "    </tr>\n",
       "    <tr>\n",
       "      <th>3</th>\n",
       "      <td>2017</td>\n",
       "      <td>Palmeiras</td>\n",
       "      <td>Ponte Preta</td>\n",
       "      <td>2</td>\n",
       "      <td>0</td>\n",
       "    </tr>\n",
       "    <tr>\n",
       "      <th>4</th>\n",
       "      <td>2017</td>\n",
       "      <td>Vitória</td>\n",
       "      <td>Atlético-PR</td>\n",
       "      <td>2</td>\n",
       "      <td>3</td>\n",
       "    </tr>\n",
       "  </tbody>\n",
       "</table>\n",
       "</div>"
      ],
      "text/plain": [
       "    Ano      Mandante    Visitante  Placar_mandante  Placar_visitante\n",
       "0  2017         Vasco     Coritiba                1                 1\n",
       "1  2017      Flamengo        Bahia                4                 1\n",
       "2  2017  Sport Recife       Santos                1                 1\n",
       "3  2017     Palmeiras  Ponte Preta                2                 0\n",
       "4  2017       Vitória  Atlético-PR                2                 3"
      ]
     },
     "execution_count": 4,
     "metadata": {},
     "output_type": "execute_result"
    }
   ],
   "source": [
    "jogos.head()"
   ]
  },
  {
   "cell_type": "code",
   "execution_count": 5,
   "metadata": {},
   "outputs": [
    {
     "name": "stdout",
     "output_type": "stream",
     "text": [
      "<class 'pandas.core.frame.DataFrame'>\n",
      "RangeIndex: 1431 entries, 0 to 1430\n",
      "Data columns (total 5 columns):\n",
      "Ano                 1431 non-null int64\n",
      "Mandante            1431 non-null object\n",
      "Visitante           1431 non-null object\n",
      "Placar_mandante     1431 non-null int64\n",
      "Placar_visitante    1431 non-null int64\n",
      "dtypes: int64(3), object(2)\n",
      "memory usage: 56.0+ KB\n"
     ]
    }
   ],
   "source": [
    "jogos.info()"
   ]
  },
  {
   "cell_type": "markdown",
   "metadata": {},
   "source": [
    "### Remover espaços em branco dos nomes dos times"
   ]
  },
  {
   "cell_type": "code",
   "execution_count": 6,
   "metadata": {
    "collapsed": true
   },
   "outputs": [],
   "source": [
    "jogos_obj = jogos.select_dtypes(['object'])\n",
    "jogos[jogos_obj.columns] = jogos_obj.apply(lambda x: x.str.strip())"
   ]
  },
  {
   "cell_type": "markdown",
   "metadata": {},
   "source": [
    "### Lista de times participantes"
   ]
  },
  {
   "cell_type": "code",
   "execution_count": 7,
   "metadata": {
    "collapsed": true
   },
   "outputs": [],
   "source": [
    "times = list(jogos[\"Visitante\"].unique())"
   ]
  },
  {
   "cell_type": "code",
   "execution_count": 8,
   "metadata": {
    "collapsed": true
   },
   "outputs": [],
   "source": [
    "times.sort()"
   ]
  },
  {
   "cell_type": "code",
   "execution_count": 9,
   "metadata": {},
   "outputs": [
    {
     "data": {
      "text/plain": [
       "['América-MG',\n",
       " 'Atlético-GO',\n",
       " 'Atlético-MG',\n",
       " 'Atlético-PR',\n",
       " 'Avaí',\n",
       " 'Bahia',\n",
       " 'Botafogo',\n",
       " 'Chapecoense',\n",
       " 'Corinthians',\n",
       " 'Coritiba',\n",
       " 'Criciúma',\n",
       " 'Cruzeiro',\n",
       " 'Figueirense',\n",
       " 'Flamengo',\n",
       " 'Fluminense',\n",
       " 'Goias',\n",
       " 'Grêmio',\n",
       " 'Internacional',\n",
       " 'Joinville',\n",
       " 'Palmeiras',\n",
       " 'Ponte Preta',\n",
       " 'Santa Cruz',\n",
       " 'Santos',\n",
       " 'Sport Recife',\n",
       " 'São Paulo',\n",
       " 'Vasco',\n",
       " 'Vitória']"
      ]
     },
     "execution_count": 9,
     "metadata": {},
     "output_type": "execute_result"
    }
   ],
   "source": [
    "times"
   ]
  },
  {
   "cell_type": "code",
   "execution_count": 10,
   "metadata": {},
   "outputs": [
    {
     "data": {
      "text/plain": [
       "27"
      ]
     },
     "execution_count": 10,
     "metadata": {},
     "output_type": "execute_result"
    }
   ],
   "source": [
    "len(times)"
   ]
  },
  {
   "cell_type": "markdown",
   "metadata": {},
   "source": [
    "### Criar coluna com resultado"
   ]
  },
  {
   "cell_type": "code",
   "execution_count": 11,
   "metadata": {
    "collapsed": true
   },
   "outputs": [],
   "source": [
    "def resultado(row):\n",
    "    if (row[\"Placar_mandante\"] > row[\"Placar_visitante\"]):\n",
    "        return \"MANDANTE\"\n",
    "    elif (row[\"Placar_mandante\"] < row[\"Placar_visitante\"]):\n",
    "        return \"VISITANTE\"\n",
    "    else:\n",
    "        return \"EMPATE\""
   ]
  },
  {
   "cell_type": "code",
   "execution_count": 12,
   "metadata": {
    "collapsed": true
   },
   "outputs": [],
   "source": [
    "jogos['Resultado'] = jogos.apply (lambda row: resultado(row),axis=1)"
   ]
  },
  {
   "cell_type": "code",
   "execution_count": 13,
   "metadata": {},
   "outputs": [
    {
     "data": {
      "text/html": [
       "<div>\n",
       "<style>\n",
       "    .dataframe thead tr:only-child th {\n",
       "        text-align: right;\n",
       "    }\n",
       "\n",
       "    .dataframe thead th {\n",
       "        text-align: left;\n",
       "    }\n",
       "\n",
       "    .dataframe tbody tr th {\n",
       "        vertical-align: top;\n",
       "    }\n",
       "</style>\n",
       "<table border=\"1\" class=\"dataframe\">\n",
       "  <thead>\n",
       "    <tr style=\"text-align: right;\">\n",
       "      <th></th>\n",
       "      <th>Ano</th>\n",
       "      <th>Mandante</th>\n",
       "      <th>Visitante</th>\n",
       "      <th>Placar_mandante</th>\n",
       "      <th>Placar_visitante</th>\n",
       "      <th>Resultado</th>\n",
       "    </tr>\n",
       "  </thead>\n",
       "  <tbody>\n",
       "    <tr>\n",
       "      <th>0</th>\n",
       "      <td>2017</td>\n",
       "      <td>Vasco</td>\n",
       "      <td>Coritiba</td>\n",
       "      <td>1</td>\n",
       "      <td>1</td>\n",
       "      <td>EMPATE</td>\n",
       "    </tr>\n",
       "    <tr>\n",
       "      <th>1</th>\n",
       "      <td>2017</td>\n",
       "      <td>Flamengo</td>\n",
       "      <td>Bahia</td>\n",
       "      <td>4</td>\n",
       "      <td>1</td>\n",
       "      <td>MANDANTE</td>\n",
       "    </tr>\n",
       "    <tr>\n",
       "      <th>2</th>\n",
       "      <td>2017</td>\n",
       "      <td>Sport Recife</td>\n",
       "      <td>Santos</td>\n",
       "      <td>1</td>\n",
       "      <td>1</td>\n",
       "      <td>EMPATE</td>\n",
       "    </tr>\n",
       "    <tr>\n",
       "      <th>3</th>\n",
       "      <td>2017</td>\n",
       "      <td>Palmeiras</td>\n",
       "      <td>Ponte Preta</td>\n",
       "      <td>2</td>\n",
       "      <td>0</td>\n",
       "      <td>MANDANTE</td>\n",
       "    </tr>\n",
       "    <tr>\n",
       "      <th>4</th>\n",
       "      <td>2017</td>\n",
       "      <td>Vitória</td>\n",
       "      <td>Atlético-PR</td>\n",
       "      <td>2</td>\n",
       "      <td>3</td>\n",
       "      <td>VISITANTE</td>\n",
       "    </tr>\n",
       "  </tbody>\n",
       "</table>\n",
       "</div>"
      ],
      "text/plain": [
       "    Ano      Mandante    Visitante  Placar_mandante  Placar_visitante  \\\n",
       "0  2017         Vasco     Coritiba                1                 1   \n",
       "1  2017      Flamengo        Bahia                4                 1   \n",
       "2  2017  Sport Recife       Santos                1                 1   \n",
       "3  2017     Palmeiras  Ponte Preta                2                 0   \n",
       "4  2017       Vitória  Atlético-PR                2                 3   \n",
       "\n",
       "   Resultado  \n",
       "0     EMPATE  \n",
       "1   MANDANTE  \n",
       "2     EMPATE  \n",
       "3   MANDANTE  \n",
       "4  VISITANTE  "
      ]
     },
     "execution_count": 13,
     "metadata": {},
     "output_type": "execute_result"
    }
   ],
   "source": [
    "jogos.head()"
   ]
  },
  {
   "cell_type": "markdown",
   "metadata": {},
   "source": [
    "### Totais de resultados por ano"
   ]
  },
  {
   "cell_type": "code",
   "execution_count": 25,
   "metadata": {},
   "outputs": [
    {
     "data": {
      "text/html": [
       "<div>\n",
       "<style>\n",
       "    .dataframe thead tr:only-child th {\n",
       "        text-align: right;\n",
       "    }\n",
       "\n",
       "    .dataframe thead th {\n",
       "        text-align: left;\n",
       "    }\n",
       "\n",
       "    .dataframe tbody tr th {\n",
       "        vertical-align: top;\n",
       "    }\n",
       "</style>\n",
       "<table border=\"1\" class=\"dataframe\">\n",
       "  <thead>\n",
       "    <tr style=\"text-align: right;\">\n",
       "      <th></th>\n",
       "      <th></th>\n",
       "      <th>Ano</th>\n",
       "    </tr>\n",
       "    <tr>\n",
       "      <th>Ano</th>\n",
       "      <th>Resultado</th>\n",
       "      <th></th>\n",
       "    </tr>\n",
       "  </thead>\n",
       "  <tbody>\n",
       "    <tr>\n",
       "      <th rowspan=\"3\" valign=\"top\">2014</th>\n",
       "      <th>EMPATE</th>\n",
       "      <td>92</td>\n",
       "    </tr>\n",
       "    <tr>\n",
       "      <th>MANDANTE</th>\n",
       "      <td>197</td>\n",
       "    </tr>\n",
       "    <tr>\n",
       "      <th>VISITANTE</th>\n",
       "      <td>91</td>\n",
       "    </tr>\n",
       "    <tr>\n",
       "      <th rowspan=\"3\" valign=\"top\">2015</th>\n",
       "      <th>EMPATE</th>\n",
       "      <td>91</td>\n",
       "    </tr>\n",
       "    <tr>\n",
       "      <th>MANDANTE</th>\n",
       "      <td>200</td>\n",
       "    </tr>\n",
       "    <tr>\n",
       "      <th>VISITANTE</th>\n",
       "      <td>89</td>\n",
       "    </tr>\n",
       "    <tr>\n",
       "      <th rowspan=\"3\" valign=\"top\">2016</th>\n",
       "      <th>EMPATE</th>\n",
       "      <td>95</td>\n",
       "    </tr>\n",
       "    <tr>\n",
       "      <th>MANDANTE</th>\n",
       "      <td>202</td>\n",
       "    </tr>\n",
       "    <tr>\n",
       "      <th>VISITANTE</th>\n",
       "      <td>83</td>\n",
       "    </tr>\n",
       "    <tr>\n",
       "      <th rowspan=\"3\" valign=\"top\">2017</th>\n",
       "      <th>EMPATE</th>\n",
       "      <td>77</td>\n",
       "    </tr>\n",
       "    <tr>\n",
       "      <th>MANDANTE</th>\n",
       "      <td>124</td>\n",
       "    </tr>\n",
       "    <tr>\n",
       "      <th>VISITANTE</th>\n",
       "      <td>90</td>\n",
       "    </tr>\n",
       "  </tbody>\n",
       "</table>\n",
       "</div>"
      ],
      "text/plain": [
       "                Ano\n",
       "Ano  Resultado     \n",
       "2014 EMPATE      92\n",
       "     MANDANTE   197\n",
       "     VISITANTE   91\n",
       "2015 EMPATE      91\n",
       "     MANDANTE   200\n",
       "     VISITANTE   89\n",
       "2016 EMPATE      95\n",
       "     MANDANTE   202\n",
       "     VISITANTE   83\n",
       "2017 EMPATE      77\n",
       "     MANDANTE   124\n",
       "     VISITANTE   90"
      ]
     },
     "execution_count": 25,
     "metadata": {},
     "output_type": "execute_result"
    }
   ],
   "source": [
    "jogos.groupby([\"Ano\", \"Resultado\"])[[\"Ano\"]].count()"
   ]
  },
  {
   "cell_type": "markdown",
   "metadata": {},
   "source": [
    "### Totais por resultado"
   ]
  },
  {
   "cell_type": "code",
   "execution_count": 28,
   "metadata": {},
   "outputs": [],
   "source": [
    "totais_resultados = jogos.groupby(\"Resultado\").size()"
   ]
  },
  {
   "cell_type": "code",
   "execution_count": 29,
   "metadata": {},
   "outputs": [
    {
     "data": {
      "text/plain": [
       "Resultado\n",
       "EMPATE       355\n",
       "MANDANTE     723\n",
       "VISITANTE    353\n",
       "dtype: int64"
      ]
     },
     "execution_count": 29,
     "metadata": {},
     "output_type": "execute_result"
    }
   ],
   "source": [
    "totais_resultados"
   ]
  },
  {
   "cell_type": "code",
   "execution_count": 39,
   "metadata": {},
   "outputs": [],
   "source": [
    "total_jogos = totais_resultados.sum()"
   ]
  },
  {
   "cell_type": "code",
   "execution_count": 40,
   "metadata": {},
   "outputs": [
    {
     "data": {
      "text/plain": [
       "Index(['EMPATE', 'MANDANTE', 'VISITANTE'], dtype='object', name='Resultado')"
      ]
     },
     "execution_count": 40,
     "metadata": {},
     "output_type": "execute_result"
    }
   ],
   "source": [
    "totais_resultados.keys()"
   ]
  },
  {
   "cell_type": "code",
   "execution_count": 41,
   "metadata": {},
   "outputs": [
    {
     "data": {
      "text/plain": [
       "array([355, 723, 353])"
      ]
     },
     "execution_count": 41,
     "metadata": {},
     "output_type": "execute_result"
    }
   ],
   "source": [
    "totais_resultados.values"
   ]
  },
  {
   "cell_type": "code",
   "execution_count": 42,
   "metadata": {},
   "outputs": [],
   "source": [
    "resultados_DF = pd.DataFrame({'Resultados': totais_resultados.keys(), 'Totais': totais_resultados.values})"
   ]
  },
  {
   "cell_type": "code",
   "execution_count": 43,
   "metadata": {},
   "outputs": [
    {
     "data": {
      "text/html": [
       "<div>\n",
       "<style>\n",
       "    .dataframe thead tr:only-child th {\n",
       "        text-align: right;\n",
       "    }\n",
       "\n",
       "    .dataframe thead th {\n",
       "        text-align: left;\n",
       "    }\n",
       "\n",
       "    .dataframe tbody tr th {\n",
       "        vertical-align: top;\n",
       "    }\n",
       "</style>\n",
       "<table border=\"1\" class=\"dataframe\">\n",
       "  <thead>\n",
       "    <tr style=\"text-align: right;\">\n",
       "      <th></th>\n",
       "      <th>Resultados</th>\n",
       "      <th>Totais</th>\n",
       "    </tr>\n",
       "  </thead>\n",
       "  <tbody>\n",
       "    <tr>\n",
       "      <th>0</th>\n",
       "      <td>EMPATE</td>\n",
       "      <td>355</td>\n",
       "    </tr>\n",
       "    <tr>\n",
       "      <th>1</th>\n",
       "      <td>MANDANTE</td>\n",
       "      <td>723</td>\n",
       "    </tr>\n",
       "    <tr>\n",
       "      <th>2</th>\n",
       "      <td>VISITANTE</td>\n",
       "      <td>353</td>\n",
       "    </tr>\n",
       "  </tbody>\n",
       "</table>\n",
       "</div>"
      ],
      "text/plain": [
       "  Resultados  Totais\n",
       "0     EMPATE     355\n",
       "1   MANDANTE     723\n",
       "2  VISITANTE     353"
      ]
     },
     "execution_count": 43,
     "metadata": {},
     "output_type": "execute_result"
    }
   ],
   "source": [
    "resultados_DF"
   ]
  },
  {
   "cell_type": "code",
   "execution_count": 47,
   "metadata": {
    "collapsed": true
   },
   "outputs": [],
   "source": [
    "def percentual(valor, total):\n",
    "    return round(valor/total, 3)"
   ]
  },
  {
   "cell_type": "code",
   "execution_count": 48,
   "metadata": {},
   "outputs": [],
   "source": [
    "resultados_DF['Perc'] = resultados_DF.apply (lambda row: percentual(row[\"Totais\"], total_jogos),axis=1)"
   ]
  },
  {
   "cell_type": "code",
   "execution_count": 49,
   "metadata": {},
   "outputs": [
    {
     "data": {
      "text/html": [
       "<div>\n",
       "<style>\n",
       "    .dataframe thead tr:only-child th {\n",
       "        text-align: right;\n",
       "    }\n",
       "\n",
       "    .dataframe thead th {\n",
       "        text-align: left;\n",
       "    }\n",
       "\n",
       "    .dataframe tbody tr th {\n",
       "        vertical-align: top;\n",
       "    }\n",
       "</style>\n",
       "<table border=\"1\" class=\"dataframe\">\n",
       "  <thead>\n",
       "    <tr style=\"text-align: right;\">\n",
       "      <th></th>\n",
       "      <th>Resultados</th>\n",
       "      <th>Totais</th>\n",
       "      <th>Perc</th>\n",
       "    </tr>\n",
       "  </thead>\n",
       "  <tbody>\n",
       "    <tr>\n",
       "      <th>0</th>\n",
       "      <td>EMPATE</td>\n",
       "      <td>355</td>\n",
       "      <td>0.248</td>\n",
       "    </tr>\n",
       "    <tr>\n",
       "      <th>1</th>\n",
       "      <td>MANDANTE</td>\n",
       "      <td>723</td>\n",
       "      <td>0.505</td>\n",
       "    </tr>\n",
       "    <tr>\n",
       "      <th>2</th>\n",
       "      <td>VISITANTE</td>\n",
       "      <td>353</td>\n",
       "      <td>0.247</td>\n",
       "    </tr>\n",
       "  </tbody>\n",
       "</table>\n",
       "</div>"
      ],
      "text/plain": [
       "  Resultados  Totais   Perc\n",
       "0     EMPATE     355  0.248\n",
       "1   MANDANTE     723  0.505\n",
       "2  VISITANTE     353  0.247"
      ]
     },
     "execution_count": 49,
     "metadata": {},
     "output_type": "execute_result"
    }
   ],
   "source": [
    "resultados_DF"
   ]
  },
  {
   "cell_type": "markdown",
   "metadata": {},
   "source": [
    "### Calcular resultados de um time"
   ]
  },
  {
   "cell_type": "code",
   "execution_count": 57,
   "metadata": {},
   "outputs": [
    {
     "data": {
      "text/plain": [
       "39"
      ]
     },
     "execution_count": 57,
     "metadata": {},
     "output_type": "execute_result"
    }
   ],
   "source": [
    "len(jogos[(jogos[\"Mandante\"] == \"São Paulo\") & (jogos[\"Resultado\"] == \"MANDANTE\")]) "
   ]
  },
  {
   "cell_type": "code",
   "execution_count": 58,
   "metadata": {},
   "outputs": [
    {
     "data": {
      "text/plain": [
       "22"
      ]
     },
     "execution_count": 58,
     "metadata": {},
     "output_type": "execute_result"
    }
   ],
   "source": [
    "len(jogos[(jogos[\"Mandante\"] == \"São Paulo\") & (jogos[\"Resultado\"] == \"EMPATE\")])"
   ]
  },
  {
   "cell_type": "code",
   "execution_count": 59,
   "metadata": {},
   "outputs": [
    {
     "data": {
      "text/plain": [
       "10"
      ]
     },
     "execution_count": 59,
     "metadata": {},
     "output_type": "execute_result"
    }
   ],
   "source": [
    "len(jogos[(jogos[\"Mandante\"] == \"São Paulo\") & (jogos[\"Resultado\"] == \"VISITANTE\")])"
   ]
  },
  {
   "cell_type": "code",
   "execution_count": 60,
   "metadata": {},
   "outputs": [
    {
     "data": {
      "text/plain": [
       "37"
      ]
     },
     "execution_count": 60,
     "metadata": {},
     "output_type": "execute_result"
    }
   ],
   "source": [
    "len(jogos[(jogos[\"Visitante\"] == \"São Paulo\") & (jogos[\"Resultado\"] == \"MANDANTE\")]) "
   ]
  },
  {
   "cell_type": "code",
   "execution_count": 61,
   "metadata": {},
   "outputs": [
    {
     "data": {
      "text/plain": [
       "13"
      ]
     },
     "execution_count": 61,
     "metadata": {},
     "output_type": "execute_result"
    }
   ],
   "source": [
    "len(jogos[(jogos[\"Visitante\"] == \"São Paulo\") & (jogos[\"Resultado\"] == \"EMPATE\")]) "
   ]
  },
  {
   "cell_type": "code",
   "execution_count": 62,
   "metadata": {},
   "outputs": [
    {
     "data": {
      "text/plain": [
       "22"
      ]
     },
     "execution_count": 62,
     "metadata": {},
     "output_type": "execute_result"
    }
   ],
   "source": [
    "len(jogos[(jogos[\"Visitante\"] == \"São Paulo\") & (jogos[\"Resultado\"] == \"VISITANTE\")]) "
   ]
  },
  {
   "cell_type": "code",
   "execution_count": 98,
   "metadata": {
    "collapsed": true
   },
   "outputs": [],
   "source": [
    "def resultadosTime(time, casa, resultado):\n",
    "    return len(jogos[(jogos[casa] == time) & (jogos[\"Resultado\"] == resultado)]) "
   ]
  },
  {
   "cell_type": "code",
   "execution_count": 99,
   "metadata": {},
   "outputs": [
    {
     "data": {
      "text/plain": [
       "39"
      ]
     },
     "execution_count": 99,
     "metadata": {},
     "output_type": "execute_result"
    }
   ],
   "source": [
    "resultadosTime(\"São Paulo\", \"Mandante\", \"MANDANTE\")"
   ]
  },
  {
   "cell_type": "code",
   "execution_count": 100,
   "metadata": {
    "collapsed": true
   },
   "outputs": [],
   "source": [
    "resultados_time_DF = pd.DataFrame({'Times': times })"
   ]
  },
  {
   "cell_type": "code",
   "execution_count": 101,
   "metadata": {},
   "outputs": [],
   "source": [
    "resultados_time_DF[\"vitorias_casa\"] = resultados_time_DF.apply (lambda row: resultadosTime(row[\"Times\"], \"Mandante\", \"MANDANTE\"),axis=1)\n",
    "resultados_time_DF[\"empates_casa\"] = resultados_time_DF.apply (lambda row: resultadosTime(row[\"Times\"], \"Mandante\", \"EMPATE\"),axis=1)\n",
    "resultados_time_DF[\"derrotas_casa\"] = resultados_time_DF.apply (lambda row: resultadosTime(row[\"Times\"], \"Mandante\", \"VISITANTE\"),axis=1)\n",
    "resultados_time_DF[\"vitorias_fora\"] = resultados_time_DF.apply (lambda row: resultadosTime(row[\"Times\"], \"Visitante\", \"VISITANTE\"),axis=1)\n",
    "resultados_time_DF[\"empates_fora\"] = resultados_time_DF.apply (lambda row: resultadosTime(row[\"Times\"], \"Visitante\", \"EMPATE\"),axis=1)\n",
    "resultados_time_DF[\"derrotas_fora\"] = resultados_time_DF.apply (lambda row: resultadosTime(row[\"Times\"], \"Visitante\", \"MANDANTE\"),axis=1)"
   ]
  },
  {
   "cell_type": "code",
   "execution_count": 102,
   "metadata": {},
   "outputs": [
    {
     "data": {
      "text/html": [
       "<div>\n",
       "<style>\n",
       "    .dataframe thead tr:only-child th {\n",
       "        text-align: right;\n",
       "    }\n",
       "\n",
       "    .dataframe thead th {\n",
       "        text-align: left;\n",
       "    }\n",
       "\n",
       "    .dataframe tbody tr th {\n",
       "        vertical-align: top;\n",
       "    }\n",
       "</style>\n",
       "<table border=\"1\" class=\"dataframe\">\n",
       "  <thead>\n",
       "    <tr style=\"text-align: right;\">\n",
       "      <th></th>\n",
       "      <th>Times</th>\n",
       "      <th>vitorias_casa</th>\n",
       "      <th>empates_casa</th>\n",
       "      <th>derrotas_casa</th>\n",
       "      <th>vitorias_fora</th>\n",
       "      <th>empates_fora</th>\n",
       "      <th>derrotas_fora</th>\n",
       "    </tr>\n",
       "  </thead>\n",
       "  <tbody>\n",
       "    <tr>\n",
       "      <th>0</th>\n",
       "      <td>América-MG</td>\n",
       "      <td>7</td>\n",
       "      <td>3</td>\n",
       "      <td>9</td>\n",
       "      <td>0</td>\n",
       "      <td>4</td>\n",
       "      <td>15</td>\n",
       "    </tr>\n",
       "    <tr>\n",
       "      <th>1</th>\n",
       "      <td>Atlético-GO</td>\n",
       "      <td>3</td>\n",
       "      <td>3</td>\n",
       "      <td>9</td>\n",
       "      <td>4</td>\n",
       "      <td>2</td>\n",
       "      <td>8</td>\n",
       "    </tr>\n",
       "    <tr>\n",
       "      <th>2</th>\n",
       "      <td>Atlético-MG</td>\n",
       "      <td>42</td>\n",
       "      <td>13</td>\n",
       "      <td>17</td>\n",
       "      <td>23</td>\n",
       "      <td>24</td>\n",
       "      <td>24</td>\n",
       "    </tr>\n",
       "  </tbody>\n",
       "</table>\n",
       "</div>"
      ],
      "text/plain": [
       "         Times  vitorias_casa  empates_casa  derrotas_casa  vitorias_fora  \\\n",
       "0   América-MG              7             3              9              0   \n",
       "1  Atlético-GO              3             3              9              4   \n",
       "2  Atlético-MG             42            13             17             23   \n",
       "\n",
       "   empates_fora  derrotas_fora  \n",
       "0             4             15  \n",
       "1             2              8  \n",
       "2            24             24  "
      ]
     },
     "execution_count": 102,
     "metadata": {},
     "output_type": "execute_result"
    }
   ],
   "source": [
    "resultados_time_DF.head(3)"
   ]
  },
  {
   "cell_type": "code",
   "execution_count": 103,
   "metadata": {
    "collapsed": true
   },
   "outputs": [],
   "source": [
    "def totalJogos(row):\n",
    "    return row[\"vitorias_casa\"] + row[\"empates_casa\"] + row[\"derrotas_casa\"] + row[\"vitorias_fora\"] + row[\"empates_fora\"] +  row[\"derrotas_fora\"]"
   ]
  },
  {
   "cell_type": "code",
   "execution_count": 104,
   "metadata": {
    "collapsed": true
   },
   "outputs": [],
   "source": [
    "resultados_time_DF[\"TOTAL\"] = resultados_time_DF.apply (lambda row: totalJogos(row),axis=1)"
   ]
  },
  {
   "cell_type": "code",
   "execution_count": 105,
   "metadata": {},
   "outputs": [
    {
     "data": {
      "text/html": [
       "<div>\n",
       "<style>\n",
       "    .dataframe thead tr:only-child th {\n",
       "        text-align: right;\n",
       "    }\n",
       "\n",
       "    .dataframe thead th {\n",
       "        text-align: left;\n",
       "    }\n",
       "\n",
       "    .dataframe tbody tr th {\n",
       "        vertical-align: top;\n",
       "    }\n",
       "</style>\n",
       "<table border=\"1\" class=\"dataframe\">\n",
       "  <thead>\n",
       "    <tr style=\"text-align: right;\">\n",
       "      <th></th>\n",
       "      <th>Times</th>\n",
       "      <th>vitorias_casa</th>\n",
       "      <th>empates_casa</th>\n",
       "      <th>derrotas_casa</th>\n",
       "      <th>vitorias_fora</th>\n",
       "      <th>empates_fora</th>\n",
       "      <th>derrotas_fora</th>\n",
       "      <th>TOTAL</th>\n",
       "    </tr>\n",
       "  </thead>\n",
       "  <tbody>\n",
       "    <tr>\n",
       "      <th>0</th>\n",
       "      <td>América-MG</td>\n",
       "      <td>7</td>\n",
       "      <td>3</td>\n",
       "      <td>9</td>\n",
       "      <td>0</td>\n",
       "      <td>4</td>\n",
       "      <td>15</td>\n",
       "      <td>38</td>\n",
       "    </tr>\n",
       "    <tr>\n",
       "      <th>1</th>\n",
       "      <td>Atlético-GO</td>\n",
       "      <td>3</td>\n",
       "      <td>3</td>\n",
       "      <td>9</td>\n",
       "      <td>4</td>\n",
       "      <td>2</td>\n",
       "      <td>8</td>\n",
       "      <td>29</td>\n",
       "    </tr>\n",
       "    <tr>\n",
       "      <th>2</th>\n",
       "      <td>Atlético-MG</td>\n",
       "      <td>42</td>\n",
       "      <td>13</td>\n",
       "      <td>17</td>\n",
       "      <td>23</td>\n",
       "      <td>24</td>\n",
       "      <td>24</td>\n",
       "      <td>143</td>\n",
       "    </tr>\n",
       "  </tbody>\n",
       "</table>\n",
       "</div>"
      ],
      "text/plain": [
       "         Times  vitorias_casa  empates_casa  derrotas_casa  vitorias_fora  \\\n",
       "0   América-MG              7             3              9              0   \n",
       "1  Atlético-GO              3             3              9              4   \n",
       "2  Atlético-MG             42            13             17             23   \n",
       "\n",
       "   empates_fora  derrotas_fora  TOTAL  \n",
       "0             4             15     38  \n",
       "1             2              8     29  \n",
       "2            24             24    143  "
      ]
     },
     "execution_count": 105,
     "metadata": {},
     "output_type": "execute_result"
    }
   ],
   "source": [
    "resultados_time_DF.head(3)"
   ]
  },
  {
   "cell_type": "code",
   "execution_count": 106,
   "metadata": {
    "collapsed": true
   },
   "outputs": [],
   "source": [
    "def aproveitamentoMandante(row):\n",
    "    total_jogos_mandante = row[\"vitorias_casa\"] + row[\"empates_casa\"] + row[\"derrotas_casa\"]\n",
    "    return (3*row[\"vitorias_casa\"] + row[\"empates_casa\"]) / (3*total_jogos_mandante)"
   ]
  },
  {
   "cell_type": "code",
   "execution_count": 107,
   "metadata": {},
   "outputs": [
    {
     "data": {
      "text/html": [
       "<div>\n",
       "<style>\n",
       "    .dataframe thead tr:only-child th {\n",
       "        text-align: right;\n",
       "    }\n",
       "\n",
       "    .dataframe thead th {\n",
       "        text-align: left;\n",
       "    }\n",
       "\n",
       "    .dataframe tbody tr th {\n",
       "        vertical-align: top;\n",
       "    }\n",
       "</style>\n",
       "<table border=\"1\" class=\"dataframe\">\n",
       "  <thead>\n",
       "    <tr style=\"text-align: right;\">\n",
       "      <th></th>\n",
       "      <th>Times</th>\n",
       "      <th>vitorias_casa</th>\n",
       "      <th>empates_casa</th>\n",
       "      <th>derrotas_casa</th>\n",
       "      <th>vitorias_fora</th>\n",
       "      <th>empates_fora</th>\n",
       "      <th>derrotas_fora</th>\n",
       "      <th>TOTAL</th>\n",
       "      <th>aprov_casa</th>\n",
       "    </tr>\n",
       "  </thead>\n",
       "  <tbody>\n",
       "    <tr>\n",
       "      <th>0</th>\n",
       "      <td>América-MG</td>\n",
       "      <td>7</td>\n",
       "      <td>3</td>\n",
       "      <td>9</td>\n",
       "      <td>0</td>\n",
       "      <td>4</td>\n",
       "      <td>15</td>\n",
       "      <td>38</td>\n",
       "      <td>0.421053</td>\n",
       "    </tr>\n",
       "    <tr>\n",
       "      <th>1</th>\n",
       "      <td>Atlético-GO</td>\n",
       "      <td>3</td>\n",
       "      <td>3</td>\n",
       "      <td>9</td>\n",
       "      <td>4</td>\n",
       "      <td>2</td>\n",
       "      <td>8</td>\n",
       "      <td>29</td>\n",
       "      <td>0.266667</td>\n",
       "    </tr>\n",
       "    <tr>\n",
       "      <th>2</th>\n",
       "      <td>Atlético-MG</td>\n",
       "      <td>42</td>\n",
       "      <td>13</td>\n",
       "      <td>17</td>\n",
       "      <td>23</td>\n",
       "      <td>24</td>\n",
       "      <td>24</td>\n",
       "      <td>143</td>\n",
       "      <td>0.643519</td>\n",
       "    </tr>\n",
       "  </tbody>\n",
       "</table>\n",
       "</div>"
      ],
      "text/plain": [
       "         Times  vitorias_casa  empates_casa  derrotas_casa  vitorias_fora  \\\n",
       "0   América-MG              7             3              9              0   \n",
       "1  Atlético-GO              3             3              9              4   \n",
       "2  Atlético-MG             42            13             17             23   \n",
       "\n",
       "   empates_fora  derrotas_fora  TOTAL  aprov_casa  \n",
       "0             4             15     38    0.421053  \n",
       "1             2              8     29    0.266667  \n",
       "2            24             24    143    0.643519  "
      ]
     },
     "execution_count": 107,
     "metadata": {},
     "output_type": "execute_result"
    }
   ],
   "source": [
    "resultados_time_DF[\"aprov_casa\"] = resultados_time_DF.apply (lambda row: aproveitamentoMandante(row),axis=1)\n",
    "resultados_time_DF.head(3)\n"
   ]
  },
  {
   "cell_type": "code",
   "execution_count": 108,
   "metadata": {
    "collapsed": true
   },
   "outputs": [],
   "source": [
    "def aproveitamentoVisitante(row):\n",
    "    total_jogos_visitante = row[\"vitorias_fora\"] + row[\"empates_fora\"] + row[\"derrotas_fora\"]\n",
    "    return (3*row[\"vitorias_fora\"] + row[\"empates_fora\"]) / (3*total_jogos_visitante)"
   ]
  },
  {
   "cell_type": "code",
   "execution_count": 109,
   "metadata": {},
   "outputs": [
    {
     "data": {
      "text/html": [
       "<div>\n",
       "<style>\n",
       "    .dataframe thead tr:only-child th {\n",
       "        text-align: right;\n",
       "    }\n",
       "\n",
       "    .dataframe thead th {\n",
       "        text-align: left;\n",
       "    }\n",
       "\n",
       "    .dataframe tbody tr th {\n",
       "        vertical-align: top;\n",
       "    }\n",
       "</style>\n",
       "<table border=\"1\" class=\"dataframe\">\n",
       "  <thead>\n",
       "    <tr style=\"text-align: right;\">\n",
       "      <th></th>\n",
       "      <th>Times</th>\n",
       "      <th>vitorias_casa</th>\n",
       "      <th>empates_casa</th>\n",
       "      <th>derrotas_casa</th>\n",
       "      <th>vitorias_fora</th>\n",
       "      <th>empates_fora</th>\n",
       "      <th>derrotas_fora</th>\n",
       "      <th>TOTAL</th>\n",
       "      <th>aprov_casa</th>\n",
       "      <th>aprov_fora</th>\n",
       "    </tr>\n",
       "  </thead>\n",
       "  <tbody>\n",
       "    <tr>\n",
       "      <th>0</th>\n",
       "      <td>América-MG</td>\n",
       "      <td>7</td>\n",
       "      <td>3</td>\n",
       "      <td>9</td>\n",
       "      <td>0</td>\n",
       "      <td>4</td>\n",
       "      <td>15</td>\n",
       "      <td>38</td>\n",
       "      <td>0.421053</td>\n",
       "      <td>0.070175</td>\n",
       "    </tr>\n",
       "    <tr>\n",
       "      <th>1</th>\n",
       "      <td>Atlético-GO</td>\n",
       "      <td>3</td>\n",
       "      <td>3</td>\n",
       "      <td>9</td>\n",
       "      <td>4</td>\n",
       "      <td>2</td>\n",
       "      <td>8</td>\n",
       "      <td>29</td>\n",
       "      <td>0.266667</td>\n",
       "      <td>0.333333</td>\n",
       "    </tr>\n",
       "    <tr>\n",
       "      <th>2</th>\n",
       "      <td>Atlético-MG</td>\n",
       "      <td>42</td>\n",
       "      <td>13</td>\n",
       "      <td>17</td>\n",
       "      <td>23</td>\n",
       "      <td>24</td>\n",
       "      <td>24</td>\n",
       "      <td>143</td>\n",
       "      <td>0.643519</td>\n",
       "      <td>0.436620</td>\n",
       "    </tr>\n",
       "  </tbody>\n",
       "</table>\n",
       "</div>"
      ],
      "text/plain": [
       "         Times  vitorias_casa  empates_casa  derrotas_casa  vitorias_fora  \\\n",
       "0   América-MG              7             3              9              0   \n",
       "1  Atlético-GO              3             3              9              4   \n",
       "2  Atlético-MG             42            13             17             23   \n",
       "\n",
       "   empates_fora  derrotas_fora  TOTAL  aprov_casa  aprov_fora  \n",
       "0             4             15     38    0.421053    0.070175  \n",
       "1             2              8     29    0.266667    0.333333  \n",
       "2            24             24    143    0.643519    0.436620  "
      ]
     },
     "execution_count": 109,
     "metadata": {},
     "output_type": "execute_result"
    }
   ],
   "source": [
    "resultados_time_DF[\"aprov_fora\"] = resultados_time_DF.apply (lambda row: aproveitamentoVisitante(row),axis=1)\n",
    "resultados_time_DF.head(3)"
   ]
  },
  {
   "cell_type": "code",
   "execution_count": 110,
   "metadata": {
    "collapsed": true
   },
   "outputs": [],
   "source": [
    "def aproveitamentoTotal(row):\n",
    "    total_jogos_mandante = row[\"vitorias_casa\"] + row[\"empates_casa\"] + row[\"derrotas_casa\"]\n",
    "    total_jogos_visitante = row[\"vitorias_fora\"] + row[\"empates_fora\"] + row[\"derrotas_fora\"]\n",
    "    return (3*row[\"vitorias_fora\"] + row[\"empates_fora\"] + 3*row[\"vitorias_casa\"] + row[\"empates_casa\"]) / (3*total_jogos_mandante + 3*total_jogos_visitante)"
   ]
  },
  {
   "cell_type": "code",
   "execution_count": 128,
   "metadata": {},
   "outputs": [
    {
     "data": {
      "text/html": [
       "<div>\n",
       "<style>\n",
       "    .dataframe thead tr:only-child th {\n",
       "        text-align: right;\n",
       "    }\n",
       "\n",
       "    .dataframe thead th {\n",
       "        text-align: left;\n",
       "    }\n",
       "\n",
       "    .dataframe tbody tr th {\n",
       "        vertical-align: top;\n",
       "    }\n",
       "</style>\n",
       "<table border=\"1\" class=\"dataframe\">\n",
       "  <thead>\n",
       "    <tr style=\"text-align: right;\">\n",
       "      <th></th>\n",
       "      <th>Times</th>\n",
       "      <th>vitorias_casa</th>\n",
       "      <th>empates_casa</th>\n",
       "      <th>derrotas_casa</th>\n",
       "      <th>vitorias_fora</th>\n",
       "      <th>empates_fora</th>\n",
       "      <th>derrotas_fora</th>\n",
       "      <th>TOTAL</th>\n",
       "      <th>aprov_casa</th>\n",
       "      <th>aprov_fora</th>\n",
       "      <th>aprov_total</th>\n",
       "    </tr>\n",
       "  </thead>\n",
       "  <tbody>\n",
       "    <tr>\n",
       "      <th>8</th>\n",
       "      <td>Corinthians</td>\n",
       "      <td>47</td>\n",
       "      <td>19</td>\n",
       "      <td>6</td>\n",
       "      <td>28</td>\n",
       "      <td>20</td>\n",
       "      <td>23</td>\n",
       "      <td>143</td>\n",
       "      <td>0.740741</td>\n",
       "      <td>0.488263</td>\n",
       "      <td>0.615385</td>\n",
       "    </tr>\n",
       "    <tr>\n",
       "      <th>11</th>\n",
       "      <td>Cruzeiro</td>\n",
       "      <td>39</td>\n",
       "      <td>21</td>\n",
       "      <td>11</td>\n",
       "      <td>27</td>\n",
       "      <td>14</td>\n",
       "      <td>31</td>\n",
       "      <td>143</td>\n",
       "      <td>0.647887</td>\n",
       "      <td>0.439815</td>\n",
       "      <td>0.543124</td>\n",
       "    </tr>\n",
       "    <tr>\n",
       "      <th>22</th>\n",
       "      <td>Santos</td>\n",
       "      <td>49</td>\n",
       "      <td>11</td>\n",
       "      <td>11</td>\n",
       "      <td>17</td>\n",
       "      <td>23</td>\n",
       "      <td>32</td>\n",
       "      <td>143</td>\n",
       "      <td>0.741784</td>\n",
       "      <td>0.342593</td>\n",
       "      <td>0.540793</td>\n",
       "    </tr>\n",
       "  </tbody>\n",
       "</table>\n",
       "</div>"
      ],
      "text/plain": [
       "          Times  vitorias_casa  empates_casa  derrotas_casa  vitorias_fora  \\\n",
       "8   Corinthians             47            19              6             28   \n",
       "11     Cruzeiro             39            21             11             27   \n",
       "22       Santos             49            11             11             17   \n",
       "\n",
       "    empates_fora  derrotas_fora  TOTAL  aprov_casa  aprov_fora  aprov_total  \n",
       "8             20             23    143    0.740741    0.488263     0.615385  \n",
       "11            14             31    143    0.647887    0.439815     0.543124  \n",
       "22            23             32    143    0.741784    0.342593     0.540793  "
      ]
     },
     "execution_count": 128,
     "metadata": {},
     "output_type": "execute_result"
    }
   ],
   "source": [
    "resultados_time_DF[\"aprov_total\"] = resultados_time_DF.apply (lambda row: aproveitamentoTotal(row),axis=1)\n",
    "resultados_time_DF.sort_values([\"aprov_total\"], ascending=[0]).head(3)"
   ]
  },
  {
   "cell_type": "code",
   "execution_count": 136,
   "metadata": {},
   "outputs": [
    {
     "data": {
      "text/html": [
       "<div>\n",
       "<style>\n",
       "    .dataframe thead tr:only-child th {\n",
       "        text-align: right;\n",
       "    }\n",
       "\n",
       "    .dataframe thead th {\n",
       "        text-align: left;\n",
       "    }\n",
       "\n",
       "    .dataframe tbody tr th {\n",
       "        vertical-align: top;\n",
       "    }\n",
       "</style>\n",
       "<table border=\"1\" class=\"dataframe\">\n",
       "  <thead>\n",
       "    <tr style=\"text-align: right;\">\n",
       "      <th></th>\n",
       "      <th>Times</th>\n",
       "      <th>TOTAL</th>\n",
       "      <th>aprov_casa</th>\n",
       "      <th>aprov_fora</th>\n",
       "      <th>aprov_total</th>\n",
       "    </tr>\n",
       "  </thead>\n",
       "  <tbody>\n",
       "    <tr>\n",
       "      <th>8</th>\n",
       "      <td>Corinthians</td>\n",
       "      <td>143</td>\n",
       "      <td>0.740741</td>\n",
       "      <td>0.488263</td>\n",
       "      <td>0.615385</td>\n",
       "    </tr>\n",
       "    <tr>\n",
       "      <th>11</th>\n",
       "      <td>Cruzeiro</td>\n",
       "      <td>143</td>\n",
       "      <td>0.647887</td>\n",
       "      <td>0.439815</td>\n",
       "      <td>0.543124</td>\n",
       "    </tr>\n",
       "    <tr>\n",
       "      <th>22</th>\n",
       "      <td>Santos</td>\n",
       "      <td>143</td>\n",
       "      <td>0.741784</td>\n",
       "      <td>0.342593</td>\n",
       "      <td>0.540793</td>\n",
       "    </tr>\n",
       "    <tr>\n",
       "      <th>2</th>\n",
       "      <td>Atlético-MG</td>\n",
       "      <td>143</td>\n",
       "      <td>0.643519</td>\n",
       "      <td>0.436620</td>\n",
       "      <td>0.540793</td>\n",
       "    </tr>\n",
       "    <tr>\n",
       "      <th>16</th>\n",
       "      <td>Grêmio</td>\n",
       "      <td>143</td>\n",
       "      <td>0.694836</td>\n",
       "      <td>0.388889</td>\n",
       "      <td>0.540793</td>\n",
       "    </tr>\n",
       "    <tr>\n",
       "      <th>19</th>\n",
       "      <td>Palmeiras</td>\n",
       "      <td>143</td>\n",
       "      <td>0.606481</td>\n",
       "      <td>0.431925</td>\n",
       "      <td>0.519814</td>\n",
       "    </tr>\n",
       "    <tr>\n",
       "      <th>13</th>\n",
       "      <td>Flamengo</td>\n",
       "      <td>143</td>\n",
       "      <td>0.611111</td>\n",
       "      <td>0.403756</td>\n",
       "      <td>0.508159</td>\n",
       "    </tr>\n",
       "    <tr>\n",
       "      <th>24</th>\n",
       "      <td>São Paulo</td>\n",
       "      <td>143</td>\n",
       "      <td>0.652582</td>\n",
       "      <td>0.365741</td>\n",
       "      <td>0.508159</td>\n",
       "    </tr>\n",
       "    <tr>\n",
       "      <th>17</th>\n",
       "      <td>Internacional</td>\n",
       "      <td>113</td>\n",
       "      <td>0.708333</td>\n",
       "      <td>0.292398</td>\n",
       "      <td>0.498525</td>\n",
       "    </tr>\n",
       "    <tr>\n",
       "      <th>3</th>\n",
       "      <td>Atlético-PR</td>\n",
       "      <td>143</td>\n",
       "      <td>0.633803</td>\n",
       "      <td>0.300926</td>\n",
       "      <td>0.466200</td>\n",
       "    </tr>\n",
       "    <tr>\n",
       "      <th>14</th>\n",
       "      <td>Fluminense</td>\n",
       "      <td>143</td>\n",
       "      <td>0.574074</td>\n",
       "      <td>0.338028</td>\n",
       "      <td>0.456876</td>\n",
       "    </tr>\n",
       "    <tr>\n",
       "      <th>23</th>\n",
       "      <td>Sport Recife</td>\n",
       "      <td>143</td>\n",
       "      <td>0.634259</td>\n",
       "      <td>0.262911</td>\n",
       "      <td>0.449883</td>\n",
       "    </tr>\n",
       "    <tr>\n",
       "      <th>6</th>\n",
       "      <td>Botafogo</td>\n",
       "      <td>105</td>\n",
       "      <td>0.576923</td>\n",
       "      <td>0.295597</td>\n",
       "      <td>0.434921</td>\n",
       "    </tr>\n",
       "    <tr>\n",
       "      <th>20</th>\n",
       "      <td>Ponte Preta</td>\n",
       "      <td>105</td>\n",
       "      <td>0.615385</td>\n",
       "      <td>0.251572</td>\n",
       "      <td>0.431746</td>\n",
       "    </tr>\n",
       "    <tr>\n",
       "      <th>7</th>\n",
       "      <td>Chapecoense</td>\n",
       "      <td>143</td>\n",
       "      <td>0.521127</td>\n",
       "      <td>0.310185</td>\n",
       "      <td>0.414918</td>\n",
       "    </tr>\n",
       "    <tr>\n",
       "      <th>25</th>\n",
       "      <td>Vasco</td>\n",
       "      <td>68</td>\n",
       "      <td>0.450980</td>\n",
       "      <td>0.372549</td>\n",
       "      <td>0.411765</td>\n",
       "    </tr>\n",
       "    <tr>\n",
       "      <th>9</th>\n",
       "      <td>Coritiba</td>\n",
       "      <td>144</td>\n",
       "      <td>0.527778</td>\n",
       "      <td>0.254630</td>\n",
       "      <td>0.391204</td>\n",
       "    </tr>\n",
       "    <tr>\n",
       "      <th>15</th>\n",
       "      <td>Goias</td>\n",
       "      <td>76</td>\n",
       "      <td>0.517544</td>\n",
       "      <td>0.228070</td>\n",
       "      <td>0.372807</td>\n",
       "    </tr>\n",
       "    <tr>\n",
       "      <th>12</th>\n",
       "      <td>Figueirense</td>\n",
       "      <td>114</td>\n",
       "      <td>0.485380</td>\n",
       "      <td>0.257310</td>\n",
       "      <td>0.371345</td>\n",
       "    </tr>\n",
       "    <tr>\n",
       "      <th>26</th>\n",
       "      <td>Vitória</td>\n",
       "      <td>105</td>\n",
       "      <td>0.377358</td>\n",
       "      <td>0.358974</td>\n",
       "      <td>0.368254</td>\n",
       "    </tr>\n",
       "    <tr>\n",
       "      <th>4</th>\n",
       "      <td>Avaí</td>\n",
       "      <td>67</td>\n",
       "      <td>0.450980</td>\n",
       "      <td>0.272727</td>\n",
       "      <td>0.363184</td>\n",
       "    </tr>\n",
       "    <tr>\n",
       "      <th>5</th>\n",
       "      <td>Bahia</td>\n",
       "      <td>67</td>\n",
       "      <td>0.464646</td>\n",
       "      <td>0.254902</td>\n",
       "      <td>0.358209</td>\n",
       "    </tr>\n",
       "    <tr>\n",
       "      <th>1</th>\n",
       "      <td>Atlético-GO</td>\n",
       "      <td>29</td>\n",
       "      <td>0.266667</td>\n",
       "      <td>0.333333</td>\n",
       "      <td>0.298851</td>\n",
       "    </tr>\n",
       "    <tr>\n",
       "      <th>10</th>\n",
       "      <td>Criciúma</td>\n",
       "      <td>38</td>\n",
       "      <td>0.456140</td>\n",
       "      <td>0.105263</td>\n",
       "      <td>0.280702</td>\n",
       "    </tr>\n",
       "    <tr>\n",
       "      <th>18</th>\n",
       "      <td>Joinville</td>\n",
       "      <td>38</td>\n",
       "      <td>0.438596</td>\n",
       "      <td>0.105263</td>\n",
       "      <td>0.271930</td>\n",
       "    </tr>\n",
       "    <tr>\n",
       "      <th>21</th>\n",
       "      <td>Santa Cruz</td>\n",
       "      <td>38</td>\n",
       "      <td>0.403509</td>\n",
       "      <td>0.140351</td>\n",
       "      <td>0.271930</td>\n",
       "    </tr>\n",
       "    <tr>\n",
       "      <th>0</th>\n",
       "      <td>América-MG</td>\n",
       "      <td>38</td>\n",
       "      <td>0.421053</td>\n",
       "      <td>0.070175</td>\n",
       "      <td>0.245614</td>\n",
       "    </tr>\n",
       "  </tbody>\n",
       "</table>\n",
       "</div>"
      ],
      "text/plain": [
       "            Times  TOTAL  aprov_casa  aprov_fora  aprov_total\n",
       "8     Corinthians    143    0.740741    0.488263     0.615385\n",
       "11       Cruzeiro    143    0.647887    0.439815     0.543124\n",
       "22         Santos    143    0.741784    0.342593     0.540793\n",
       "2     Atlético-MG    143    0.643519    0.436620     0.540793\n",
       "16         Grêmio    143    0.694836    0.388889     0.540793\n",
       "19      Palmeiras    143    0.606481    0.431925     0.519814\n",
       "13       Flamengo    143    0.611111    0.403756     0.508159\n",
       "24      São Paulo    143    0.652582    0.365741     0.508159\n",
       "17  Internacional    113    0.708333    0.292398     0.498525\n",
       "3     Atlético-PR    143    0.633803    0.300926     0.466200\n",
       "14     Fluminense    143    0.574074    0.338028     0.456876\n",
       "23   Sport Recife    143    0.634259    0.262911     0.449883\n",
       "6        Botafogo    105    0.576923    0.295597     0.434921\n",
       "20    Ponte Preta    105    0.615385    0.251572     0.431746\n",
       "7     Chapecoense    143    0.521127    0.310185     0.414918\n",
       "25          Vasco     68    0.450980    0.372549     0.411765\n",
       "9        Coritiba    144    0.527778    0.254630     0.391204\n",
       "15          Goias     76    0.517544    0.228070     0.372807\n",
       "12    Figueirense    114    0.485380    0.257310     0.371345\n",
       "26        Vitória    105    0.377358    0.358974     0.368254\n",
       "4            Avaí     67    0.450980    0.272727     0.363184\n",
       "5           Bahia     67    0.464646    0.254902     0.358209\n",
       "1     Atlético-GO     29    0.266667    0.333333     0.298851\n",
       "10       Criciúma     38    0.456140    0.105263     0.280702\n",
       "18      Joinville     38    0.438596    0.105263     0.271930\n",
       "21     Santa Cruz     38    0.403509    0.140351     0.271930\n",
       "0      América-MG     38    0.421053    0.070175     0.245614"
      ]
     },
     "execution_count": 136,
     "metadata": {},
     "output_type": "execute_result"
    }
   ],
   "source": [
    "resultados_time_DF[[\"Times\", \"TOTAL\", \"aprov_casa\", \"aprov_fora\", \"aprov_total\"]].sort_values([\"aprov_total\"], ascending=[0])"
   ]
  },
  {
   "cell_type": "code",
   "execution_count": null,
   "metadata": {
    "collapsed": true
   },
   "outputs": [],
   "source": []
  }
 ],
 "metadata": {
  "kernelspec": {
   "display_name": "Python 3",
   "language": "python",
   "name": "python3"
  },
  "language_info": {
   "codemirror_mode": {
    "name": "ipython",
    "version": 3
   },
   "file_extension": ".py",
   "mimetype": "text/x-python",
   "name": "python",
   "nbconvert_exporter": "python",
   "pygments_lexer": "ipython3",
   "version": "3.6.2"
  }
 },
 "nbformat": 4,
 "nbformat_minor": 2
}
