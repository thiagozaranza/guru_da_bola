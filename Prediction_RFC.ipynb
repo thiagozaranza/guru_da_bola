{
 "cells": [
  {
   "cell_type": "markdown",
   "metadata": {},
   "source": [
    "# Campeonato Brasileiro - Série A"
   ]
  },
  {
   "cell_type": "markdown",
   "metadata": {},
   "source": [
    "## Radom Forest Classifier"
   ]
  },
  {
   "cell_type": "markdown",
   "metadata": {},
   "source": [
    "### 1. Import packages"
   ]
  },
  {
   "cell_type": "code",
   "execution_count": 523,
   "metadata": {
    "collapsed": true
   },
   "outputs": [],
   "source": [
    "import matplotlib.pyplot as plt\n",
    "import numpy as np\n",
    "import pandas as pd"
   ]
  },
  {
   "cell_type": "code",
   "execution_count": 524,
   "metadata": {
    "collapsed": true
   },
   "outputs": [],
   "source": [
    "from sklearn.ensemble import RandomForestClassifier"
   ]
  },
  {
   "cell_type": "code",
   "execution_count": 525,
   "metadata": {
    "collapsed": true
   },
   "outputs": [],
   "source": [
    "from sklearn.ensemble import AdaBoostClassifier"
   ]
  },
  {
   "cell_type": "code",
   "execution_count": 526,
   "metadata": {
    "collapsed": true
   },
   "outputs": [],
   "source": [
    "from sklearn.model_selection import cross_val_score"
   ]
  },
  {
   "cell_type": "code",
   "execution_count": 527,
   "metadata": {
    "collapsed": true
   },
   "outputs": [],
   "source": [
    "from sklearn.metrics import confusion_matrix\n",
    "from sklearn.metrics import accuracy_score,precision_score, recall_score\n",
    "from sklearn.metrics import f1_score"
   ]
  },
  {
   "cell_type": "code",
   "execution_count": 528,
   "metadata": {
    "collapsed": true
   },
   "outputs": [],
   "source": [
    "from sklearn import datasets"
   ]
  },
  {
   "cell_type": "markdown",
   "metadata": {},
   "source": [
    "### 2. Reading data"
   ]
  },
  {
   "cell_type": "code",
   "execution_count": 529,
   "metadata": {
    "collapsed": true
   },
   "outputs": [],
   "source": [
    "jogos = pd.read_csv(\"data/jogos-resultado-posicao.csv\",sep=\",\")"
   ]
  },
  {
   "cell_type": "code",
   "execution_count": 530,
   "metadata": {
    "collapsed": true
   },
   "outputs": [],
   "source": [
    "del jogos[\"Unnamed: 0\"]"
   ]
  },
  {
   "cell_type": "code",
   "execution_count": 531,
   "metadata": {
    "collapsed": true
   },
   "outputs": [],
   "source": [
    "#jogos.query('ano > 2012', inplace=True)"
   ]
  },
  {
   "cell_type": "code",
   "execution_count": 532,
   "metadata": {},
   "outputs": [
    {
     "data": {
      "text/html": [
       "<div>\n",
       "<style>\n",
       "    .dataframe thead tr:only-child th {\n",
       "        text-align: right;\n",
       "    }\n",
       "\n",
       "    .dataframe thead th {\n",
       "        text-align: left;\n",
       "    }\n",
       "\n",
       "    .dataframe tbody tr th {\n",
       "        vertical-align: top;\n",
       "    }\n",
       "</style>\n",
       "<table border=\"1\" class=\"dataframe\">\n",
       "  <thead>\n",
       "    <tr style=\"text-align: right;\">\n",
       "      <th></th>\n",
       "      <th>campeonato</th>\n",
       "      <th>ano</th>\n",
       "      <th>rodada</th>\n",
       "      <th>data</th>\n",
       "      <th>mandante</th>\n",
       "      <th>visitante</th>\n",
       "      <th>gols_mandante</th>\n",
       "      <th>gols_visitante</th>\n",
       "      <th>resultado</th>\n",
       "      <th>posicao_m</th>\n",
       "      <th>posicao_v</th>\n",
       "      <th>aproveitamento_5r_v</th>\n",
       "      <th>aproveitamento_5r_m</th>\n",
       "      <th>aproveitamento_10r_v</th>\n",
       "      <th>aproveitamento_10r_m</th>\n",
       "    </tr>\n",
       "  </thead>\n",
       "  <tbody>\n",
       "    <tr>\n",
       "      <th>0</th>\n",
       "      <td>brasileiro-a</td>\n",
       "      <td>2018</td>\n",
       "      <td>5</td>\n",
       "      <td>14-05</td>\n",
       "      <td>Botafogo</td>\n",
       "      <td>Fluminense</td>\n",
       "      <td>2</td>\n",
       "      <td>1</td>\n",
       "      <td>MANDANTE</td>\n",
       "      <td>6.0</td>\n",
       "      <td>9.0</td>\n",
       "      <td>0.78</td>\n",
       "      <td>0.44</td>\n",
       "      <td>0.78</td>\n",
       "      <td>0.44</td>\n",
       "    </tr>\n",
       "    <tr>\n",
       "      <th>1</th>\n",
       "      <td>brasileiro-a</td>\n",
       "      <td>2018</td>\n",
       "      <td>5</td>\n",
       "      <td>14-05</td>\n",
       "      <td>Ceará</td>\n",
       "      <td>América-MG</td>\n",
       "      <td>2</td>\n",
       "      <td>2</td>\n",
       "      <td>EMPATE</td>\n",
       "      <td>19.0</td>\n",
       "      <td>10.0</td>\n",
       "      <td>0.33</td>\n",
       "      <td>0.22</td>\n",
       "      <td>0.33</td>\n",
       "      <td>0.22</td>\n",
       "    </tr>\n",
       "    <tr>\n",
       "      <th>2</th>\n",
       "      <td>brasileiro-a</td>\n",
       "      <td>2018</td>\n",
       "      <td>5</td>\n",
       "      <td>13-05</td>\n",
       "      <td>Santos</td>\n",
       "      <td>Paraná</td>\n",
       "      <td>3</td>\n",
       "      <td>1</td>\n",
       "      <td>MANDANTE</td>\n",
       "      <td>13.0</td>\n",
       "      <td>20.0</td>\n",
       "      <td>0.11</td>\n",
       "      <td>0.00</td>\n",
       "      <td>0.11</td>\n",
       "      <td>0.00</td>\n",
       "    </tr>\n",
       "  </tbody>\n",
       "</table>\n",
       "</div>"
      ],
      "text/plain": [
       "     campeonato   ano  rodada   data  mandante   visitante  gols_mandante  \\\n",
       "0  brasileiro-a  2018       5  14-05  Botafogo  Fluminense              2   \n",
       "1  brasileiro-a  2018       5  14-05     Ceará  América-MG              2   \n",
       "2  brasileiro-a  2018       5  13-05    Santos      Paraná              3   \n",
       "\n",
       "   gols_visitante resultado  posicao_m  posicao_v  aproveitamento_5r_v  \\\n",
       "0               1  MANDANTE        6.0        9.0                 0.78   \n",
       "1               2    EMPATE       19.0       10.0                 0.33   \n",
       "2               1  MANDANTE       13.0       20.0                 0.11   \n",
       "\n",
       "   aproveitamento_5r_m  aproveitamento_10r_v  aproveitamento_10r_m  \n",
       "0                 0.44                  0.78                  0.44  \n",
       "1                 0.22                  0.33                  0.22  \n",
       "2                 0.00                  0.11                  0.00  "
      ]
     },
     "execution_count": 532,
     "metadata": {},
     "output_type": "execute_result"
    }
   ],
   "source": [
    "jogos.head(3)"
   ]
  },
  {
   "cell_type": "code",
   "execution_count": 533,
   "metadata": {},
   "outputs": [
    {
     "data": {
      "text/plain": [
       "Index(['campeonato', 'ano', 'rodada', 'data', 'mandante', 'visitante',\n",
       "       'gols_mandante', 'gols_visitante', 'resultado', 'posicao_m',\n",
       "       'posicao_v', 'aproveitamento_5r_v', 'aproveitamento_5r_m',\n",
       "       'aproveitamento_10r_v', 'aproveitamento_10r_m'],\n",
       "      dtype='object')"
      ]
     },
     "execution_count": 533,
     "metadata": {},
     "output_type": "execute_result"
    }
   ],
   "source": [
    "jogos.keys()"
   ]
  },
  {
   "cell_type": "code",
   "execution_count": 534,
   "metadata": {},
   "outputs": [],
   "source": [
    "times = np.concatenate((jogos[\"visitante\"].unique(), jogos[\"mandante\"].unique()), axis=0)"
   ]
  },
  {
   "cell_type": "code",
   "execution_count": 535,
   "metadata": {
    "collapsed": true
   },
   "outputs": [],
   "source": [
    "times_dict = dict(zip(times, range(1, len(times))))"
   ]
  },
  {
   "cell_type": "code",
   "execution_count": 536,
   "metadata": {},
   "outputs": [
    {
     "data": {
      "text/plain": [
       "{'América-MG': 56,\n",
       " 'América-RN': 78,\n",
       " 'Atlético-GO': 62,\n",
       " 'Atlético-MG': 58,\n",
       " 'Atlético-PR': 45,\n",
       " 'Avaí': 63,\n",
       " 'Bahia': 46,\n",
       " 'Barueri': 73,\n",
       " 'Botafogo': 42,\n",
       " 'Brasiliense': 40,\n",
       " 'Ceará': 43,\n",
       " 'Chapecoense': 47,\n",
       " 'Corinthians': 48,\n",
       " 'Coritiba': 64,\n",
       " 'Criciúma': 70,\n",
       " 'Cruzeiro': 50,\n",
       " 'Figueirense': 66,\n",
       " 'Flamengo': 53,\n",
       " 'Fluminense': 59,\n",
       " 'Fortaleza': 79,\n",
       " 'Goias': 68,\n",
       " 'Grêmio': 51,\n",
       " 'Guarani': 74,\n",
       " 'Internacional': 57,\n",
       " 'Ipatinga': 76,\n",
       " 'Joinville': 69,\n",
       " 'Juventude': 77,\n",
       " 'Náutico': 72,\n",
       " 'Palmeiras': 60,\n",
       " 'Paraná': 61,\n",
       " 'Paysandu': 81,\n",
       " 'Ponte Preta': 65,\n",
       " 'Portuguesa': 71,\n",
       " 'Santa Cruz': 67,\n",
       " 'Santo Andre': 75,\n",
       " 'Santos': 44,\n",
       " 'Sao Caetano': 80,\n",
       " 'Sport Recife': 52,\n",
       " 'São Paulo': 55,\n",
       " 'Vasco': 49,\n",
       " 'Vitória': 54}"
      ]
     },
     "execution_count": 536,
     "metadata": {},
     "output_type": "execute_result"
    }
   ],
   "source": [
    "times_dict"
   ]
  },
  {
   "cell_type": "code",
   "execution_count": 537,
   "metadata": {
    "collapsed": true
   },
   "outputs": [],
   "source": [
    "jogos = jogos.applymap(lambda s: times_dict.get(s) if s in times_dict else s)"
   ]
  },
  {
   "cell_type": "markdown",
   "metadata": {},
   "source": [
    "### 3. Define target and data subset"
   ]
  },
  {
   "cell_type": "code",
   "execution_count": 538,
   "metadata": {
    "collapsed": true
   },
   "outputs": [],
   "source": [
    "jogos_X_df = jogos.copy()"
   ]
  },
  {
   "cell_type": "code",
   "execution_count": 539,
   "metadata": {
    "collapsed": true
   },
   "outputs": [],
   "source": [
    "del jogos_X_df[\"resultado\"]"
   ]
  },
  {
   "cell_type": "code",
   "execution_count": 540,
   "metadata": {
    "collapsed": true
   },
   "outputs": [],
   "source": [
    "del jogos_X_df[\"campeonato\"]"
   ]
  },
  {
   "cell_type": "code",
   "execution_count": 541,
   "metadata": {
    "collapsed": true
   },
   "outputs": [],
   "source": [
    "del jogos_X_df[\"data\"]"
   ]
  },
  {
   "cell_type": "code",
   "execution_count": 542,
   "metadata": {
    "collapsed": true
   },
   "outputs": [],
   "source": [
    "del jogos_X_df[\"gols_mandante\"]"
   ]
  },
  {
   "cell_type": "code",
   "execution_count": 543,
   "metadata": {
    "collapsed": true
   },
   "outputs": [],
   "source": [
    "del jogos_X_df[\"gols_visitante\"]"
   ]
  },
  {
   "cell_type": "code",
   "execution_count": 544,
   "metadata": {
    "collapsed": true
   },
   "outputs": [],
   "source": [
    "del jogos_X_df[\"aproveitamento_5r_v\"]"
   ]
  },
  {
   "cell_type": "code",
   "execution_count": 545,
   "metadata": {
    "collapsed": true
   },
   "outputs": [],
   "source": [
    "del jogos_X_df[\"aproveitamento_5r_m\"]"
   ]
  },
  {
   "cell_type": "code",
   "execution_count": 546,
   "metadata": {},
   "outputs": [
    {
     "data": {
      "text/html": [
       "<div>\n",
       "<style>\n",
       "    .dataframe thead tr:only-child th {\n",
       "        text-align: right;\n",
       "    }\n",
       "\n",
       "    .dataframe thead th {\n",
       "        text-align: left;\n",
       "    }\n",
       "\n",
       "    .dataframe tbody tr th {\n",
       "        vertical-align: top;\n",
       "    }\n",
       "</style>\n",
       "<table border=\"1\" class=\"dataframe\">\n",
       "  <thead>\n",
       "    <tr style=\"text-align: right;\">\n",
       "      <th></th>\n",
       "      <th>ano</th>\n",
       "      <th>rodada</th>\n",
       "      <th>mandante</th>\n",
       "      <th>visitante</th>\n",
       "      <th>posicao_m</th>\n",
       "      <th>posicao_v</th>\n",
       "      <th>aproveitamento_10r_v</th>\n",
       "      <th>aproveitamento_10r_m</th>\n",
       "    </tr>\n",
       "  </thead>\n",
       "  <tbody>\n",
       "    <tr>\n",
       "      <th>0</th>\n",
       "      <td>2018</td>\n",
       "      <td>5</td>\n",
       "      <td>42</td>\n",
       "      <td>59</td>\n",
       "      <td>6.0</td>\n",
       "      <td>9.0</td>\n",
       "      <td>0.78</td>\n",
       "      <td>0.44</td>\n",
       "    </tr>\n",
       "    <tr>\n",
       "      <th>1</th>\n",
       "      <td>2018</td>\n",
       "      <td>5</td>\n",
       "      <td>43</td>\n",
       "      <td>56</td>\n",
       "      <td>19.0</td>\n",
       "      <td>10.0</td>\n",
       "      <td>0.33</td>\n",
       "      <td>0.22</td>\n",
       "    </tr>\n",
       "    <tr>\n",
       "      <th>2</th>\n",
       "      <td>2018</td>\n",
       "      <td>5</td>\n",
       "      <td>44</td>\n",
       "      <td>61</td>\n",
       "      <td>13.0</td>\n",
       "      <td>20.0</td>\n",
       "      <td>0.11</td>\n",
       "      <td>0.00</td>\n",
       "    </tr>\n",
       "    <tr>\n",
       "      <th>3</th>\n",
       "      <td>2018</td>\n",
       "      <td>5</td>\n",
       "      <td>45</td>\n",
       "      <td>58</td>\n",
       "      <td>15.0</td>\n",
       "      <td>3.0</td>\n",
       "      <td>0.78</td>\n",
       "      <td>0.22</td>\n",
       "    </tr>\n",
       "    <tr>\n",
       "      <th>4</th>\n",
       "      <td>2018</td>\n",
       "      <td>5</td>\n",
       "      <td>46</td>\n",
       "      <td>55</td>\n",
       "      <td>17.0</td>\n",
       "      <td>12.0</td>\n",
       "      <td>0.33</td>\n",
       "      <td>0.44</td>\n",
       "    </tr>\n",
       "  </tbody>\n",
       "</table>\n",
       "</div>"
      ],
      "text/plain": [
       "    ano  rodada  mandante  visitante  posicao_m  posicao_v  \\\n",
       "0  2018       5        42         59        6.0        9.0   \n",
       "1  2018       5        43         56       19.0       10.0   \n",
       "2  2018       5        44         61       13.0       20.0   \n",
       "3  2018       5        45         58       15.0        3.0   \n",
       "4  2018       5        46         55       17.0       12.0   \n",
       "\n",
       "   aproveitamento_10r_v  aproveitamento_10r_m  \n",
       "0                  0.78                  0.44  \n",
       "1                  0.33                  0.22  \n",
       "2                  0.11                  0.00  \n",
       "3                  0.78                  0.22  \n",
       "4                  0.33                  0.44  "
      ]
     },
     "execution_count": 546,
     "metadata": {},
     "output_type": "execute_result"
    }
   ],
   "source": [
    "jogos_X_df.head()"
   ]
  },
  {
   "cell_type": "code",
   "execution_count": 547,
   "metadata": {},
   "outputs": [
    {
     "data": {
      "text/plain": [
       "Index(['ano', 'rodada', 'mandante', 'visitante', 'posicao_m', 'posicao_v',\n",
       "       'aproveitamento_10r_v', 'aproveitamento_10r_m'],\n",
       "      dtype='object')"
      ]
     },
     "execution_count": 547,
     "metadata": {},
     "output_type": "execute_result"
    }
   ],
   "source": [
    "jogos_X_df.keys()"
   ]
  },
  {
   "cell_type": "code",
   "execution_count": 548,
   "metadata": {
    "collapsed": true
   },
   "outputs": [],
   "source": [
    "y = jogos[\"resultado\"].values"
   ]
  },
  {
   "cell_type": "code",
   "execution_count": 549,
   "metadata": {
    "collapsed": true
   },
   "outputs": [],
   "source": [
    "X = jogos_X_df.values"
   ]
  },
  {
   "cell_type": "markdown",
   "metadata": {},
   "source": [
    "### 4. Train and Test Split"
   ]
  },
  {
   "cell_type": "code",
   "execution_count": 550,
   "metadata": {
    "collapsed": true
   },
   "outputs": [],
   "source": [
    "from sklearn.model_selection import train_test_split"
   ]
  },
  {
   "cell_type": "code",
   "execution_count": 551,
   "metadata": {
    "collapsed": true
   },
   "outputs": [],
   "source": [
    "X_train, X_test, y_train, y_test = train_test_split(\n",
    "                                        X,\n",
    "                                        y, \n",
    "                                        test_size=0.2, \n",
    "                                        random_state=1)"
   ]
  },
  {
   "cell_type": "markdown",
   "metadata": {},
   "source": [
    "### 4.1 Grid Search"
   ]
  },
  {
   "cell_type": "code",
   "execution_count": 552,
   "metadata": {},
   "outputs": [],
   "source": [
    "from sklearn.grid_search import GridSearchCV"
   ]
  },
  {
   "cell_type": "code",
   "execution_count": 553,
   "metadata": {
    "collapsed": true
   },
   "outputs": [],
   "source": [
    "from sklearn.datasets import make_classification"
   ]
  },
  {
   "cell_type": "code",
   "execution_count": 554,
   "metadata": {
    "collapsed": true
   },
   "outputs": [],
   "source": [
    "from sklearn.ensemble import RandomForestClassifier"
   ]
  },
  {
   "cell_type": "code",
   "execution_count": 555,
   "metadata": {
    "collapsed": true
   },
   "outputs": [],
   "source": [
    "rfc = RandomForestClassifier(n_jobs=-1,max_features= 'sqrt' ,n_estimators=50, oob_score = True)"
   ]
  },
  {
   "cell_type": "code",
   "execution_count": 556,
   "metadata": {
    "collapsed": true
   },
   "outputs": [],
   "source": [
    "param_grid = {     \n",
    "    'n_estimators': [800],\n",
    "    'min_samples_leaf': [10],\n",
    "    'max_features': ['log2'],\n",
    "    'n_jobs': [-1],\n",
    "    'min_samples_split': [3],\n",
    "    'warm_start': [False],\n",
    "    'oob_score':  [False], \n",
    "    'bootstrap': [True],\n",
    "    'criterion': ['entropy'],\n",
    "    'class_weight': ['balanced', 'balanced_subsample', None]\n",
    "}"
   ]
  },
  {
   "cell_type": "code",
   "execution_count": 557,
   "metadata": {
    "collapsed": true
   },
   "outputs": [],
   "source": [
    "CV_rfc = GridSearchCV(estimator=rfc, param_grid=param_grid, cv= 5)"
   ]
  },
  {
   "cell_type": "code",
   "execution_count": 558,
   "metadata": {},
   "outputs": [
    {
     "data": {
      "text/plain": [
       "GridSearchCV(cv=5, error_score='raise',\n",
       "       estimator=RandomForestClassifier(bootstrap=True, class_weight=None, criterion='gini',\n",
       "            max_depth=None, max_features='sqrt', max_leaf_nodes=None,\n",
       "            min_impurity_decrease=0.0, min_impurity_split=None,\n",
       "            min_samples_leaf=1, min_samples_split=2,\n",
       "            min_weight_fraction_leaf=0.0, n_estimators=50, n_jobs=-1,\n",
       "            oob_score=True, random_state=None, verbose=0, warm_start=False),\n",
       "       fit_params={}, iid=True, n_jobs=1,\n",
       "       param_grid={'n_estimators': [800], 'min_samples_leaf': [10], 'max_features': ['log2'], 'n_jobs': [-1], 'min_samples_split': [3], 'warm_start': [False], 'oob_score': [False], 'bootstrap': [True], 'criterion': ['entropy'], 'class_weight': ['balanced', 'balanced_subsample', None]},\n",
       "       pre_dispatch='2*n_jobs', refit=True, scoring=None, verbose=0)"
      ]
     },
     "execution_count": 558,
     "metadata": {},
     "output_type": "execute_result"
    }
   ],
   "source": [
    "CV_rfc.fit(X, y)"
   ]
  },
  {
   "cell_type": "code",
   "execution_count": 559,
   "metadata": {},
   "outputs": [
    {
     "name": "stdout",
     "output_type": "stream",
     "text": [
      "{'bootstrap': True, 'class_weight': None, 'criterion': 'entropy', 'max_features': 'log2', 'min_samples_leaf': 10, 'min_samples_split': 3, 'n_estimators': 800, 'n_jobs': -1, 'oob_score': False, 'warm_start': False}\n"
     ]
    }
   ],
   "source": [
    "print (CV_rfc.best_params_)"
   ]
  },
  {
   "cell_type": "markdown",
   "metadata": {},
   "source": [
    "### 5. Apply Random Forest Classifier"
   ]
  },
  {
   "cell_type": "code",
   "execution_count": 560,
   "metadata": {
    "collapsed": true
   },
   "outputs": [],
   "source": [
    "rf_model = RandomForestClassifier(random_state=1, criterion='entropy', max_features='log2', n_estimators=800, min_samples_leaf=10)"
   ]
  },
  {
   "cell_type": "code",
   "execution_count": 561,
   "metadata": {},
   "outputs": [
    {
     "data": {
      "text/plain": [
       "RandomForestClassifier(bootstrap=True, class_weight=None, criterion='entropy',\n",
       "            max_depth=None, max_features='log2', max_leaf_nodes=None,\n",
       "            min_impurity_decrease=0.0, min_impurity_split=None,\n",
       "            min_samples_leaf=10, min_samples_split=2,\n",
       "            min_weight_fraction_leaf=0.0, n_estimators=800, n_jobs=1,\n",
       "            oob_score=False, random_state=1, verbose=0, warm_start=False)"
      ]
     },
     "execution_count": 561,
     "metadata": {},
     "output_type": "execute_result"
    }
   ],
   "source": [
    "rf_model.fit(X_train, y_train)"
   ]
  },
  {
   "cell_type": "markdown",
   "metadata": {},
   "source": [
    "### 6. Model Cross-Validation"
   ]
  },
  {
   "cell_type": "code",
   "execution_count": 562,
   "metadata": {},
   "outputs": [
    {
     "data": {
      "text/plain": [
       "array([ 0.57591093,  0.58603239,  0.57489879,  0.59008097,  0.58805668])"
      ]
     },
     "execution_count": 562,
     "metadata": {},
     "output_type": "execute_result"
    }
   ],
   "source": [
    "cv_scores_rf = cross_val_score(rf_model, X_train, y_train, \n",
    "                               cv=5,scoring=\"accuracy\")\n",
    "cv_scores_rf"
   ]
  },
  {
   "cell_type": "code",
   "execution_count": 563,
   "metadata": {},
   "outputs": [
    {
     "data": {
      "text/plain": [
       "0.582995951417004"
      ]
     },
     "execution_count": 563,
     "metadata": {},
     "output_type": "execute_result"
    }
   ],
   "source": [
    "cv_scores_rf_mean =  np.mean(cv_scores_rf)\n",
    "cv_scores_rf_mean"
   ]
  },
  {
   "cell_type": "markdown",
   "metadata": {},
   "source": [
    "### Apply AdaBoostClassifier"
   ]
  },
  {
   "cell_type": "code",
   "execution_count": 564,
   "metadata": {
    "collapsed": true
   },
   "outputs": [],
   "source": [
    "abc_model = AdaBoostClassifier(random_state=1, n_estimators=50, learning_rate=1., algorithm=\"SAMME.R\")"
   ]
  },
  {
   "cell_type": "code",
   "execution_count": 565,
   "metadata": {},
   "outputs": [
    {
     "data": {
      "text/plain": [
       "AdaBoostClassifier(algorithm='SAMME.R', base_estimator=None,\n",
       "          learning_rate=1.0, n_estimators=50, random_state=1)"
      ]
     },
     "execution_count": 565,
     "metadata": {},
     "output_type": "execute_result"
    }
   ],
   "source": [
    "abc_model.fit(X_train, y_train)"
   ]
  },
  {
   "cell_type": "code",
   "execution_count": 566,
   "metadata": {},
   "outputs": [
    {
     "data": {
      "text/plain": [
       "array([ 0.57995951,  0.59109312,  0.54554656,  0.58502024,  0.59210526])"
      ]
     },
     "execution_count": 566,
     "metadata": {},
     "output_type": "execute_result"
    }
   ],
   "source": [
    "cv_scores_abc = cross_val_score(abc_model, X_train, y_train, \n",
    "                               cv=5,scoring=\"accuracy\")\n",
    "cv_scores_abc"
   ]
  },
  {
   "cell_type": "code",
   "execution_count": 567,
   "metadata": {},
   "outputs": [
    {
     "data": {
      "text/plain": [
       "0.57874493927125514"
      ]
     },
     "execution_count": 567,
     "metadata": {},
     "output_type": "execute_result"
    }
   ],
   "source": [
    "cv_scores_abc_mean =  np.mean(cv_scores_abc)\n",
    "cv_scores_abc_mean"
   ]
  },
  {
   "cell_type": "markdown",
   "metadata": {},
   "source": [
    "### 7. Model Test"
   ]
  },
  {
   "cell_type": "code",
   "execution_count": 568,
   "metadata": {
    "collapsed": true
   },
   "outputs": [],
   "source": [
    "y_test_pred = rf_model.predict(X_test)"
   ]
  },
  {
   "cell_type": "code",
   "execution_count": 569,
   "metadata": {},
   "outputs": [
    {
     "data": {
      "text/plain": [
       "(1235,)"
      ]
     },
     "execution_count": 569,
     "metadata": {},
     "output_type": "execute_result"
    }
   ],
   "source": [
    "y_test.shape"
   ]
  },
  {
   "cell_type": "code",
   "execution_count": 570,
   "metadata": {},
   "outputs": [
    {
     "data": {
      "text/html": [
       "<div>\n",
       "<style>\n",
       "    .dataframe thead tr:only-child th {\n",
       "        text-align: right;\n",
       "    }\n",
       "\n",
       "    .dataframe thead th {\n",
       "        text-align: left;\n",
       "    }\n",
       "\n",
       "    .dataframe tbody tr th {\n",
       "        vertical-align: top;\n",
       "    }\n",
       "</style>\n",
       "<table border=\"1\" class=\"dataframe\">\n",
       "  <thead>\n",
       "    <tr style=\"text-align: right;\">\n",
       "      <th>Predicted</th>\n",
       "      <th>EMPATE</th>\n",
       "      <th>MANDANTE</th>\n",
       "      <th>VISITANTE</th>\n",
       "    </tr>\n",
       "    <tr>\n",
       "      <th>Actual</th>\n",
       "      <th></th>\n",
       "      <th></th>\n",
       "      <th></th>\n",
       "    </tr>\n",
       "  </thead>\n",
       "  <tbody>\n",
       "    <tr>\n",
       "      <th>EMPATE</th>\n",
       "      <td>38</td>\n",
       "      <td>214</td>\n",
       "      <td>66</td>\n",
       "    </tr>\n",
       "    <tr>\n",
       "      <th>MANDANTE</th>\n",
       "      <td>15</td>\n",
       "      <td>553</td>\n",
       "      <td>54</td>\n",
       "    </tr>\n",
       "    <tr>\n",
       "      <th>VISITANTE</th>\n",
       "      <td>22</td>\n",
       "      <td>135</td>\n",
       "      <td>138</td>\n",
       "    </tr>\n",
       "  </tbody>\n",
       "</table>\n",
       "</div>"
      ],
      "text/plain": [
       "Predicted  EMPATE  MANDANTE  VISITANTE\n",
       "Actual                                \n",
       "EMPATE         38       214         66\n",
       "MANDANTE       15       553         54\n",
       "VISITANTE      22       135        138"
      ]
     },
     "execution_count": 570,
     "metadata": {},
     "output_type": "execute_result"
    }
   ],
   "source": [
    "# Results\n",
    "pd.crosstab(y_test, y_test_pred,\n",
    "            rownames=['Actual'], \n",
    "            colnames=['Predicted'])"
   ]
  },
  {
   "cell_type": "code",
   "execution_count": 571,
   "metadata": {},
   "outputs": [
    {
     "data": {
      "text/plain": [
       "array([[ 38, 214,  66],\n",
       "       [ 15, 553,  54],\n",
       "       [ 22, 135, 138]])"
      ]
     },
     "execution_count": 571,
     "metadata": {},
     "output_type": "execute_result"
    }
   ],
   "source": [
    "confusion_matrix(y_test, y_test_pred)"
   ]
  },
  {
   "cell_type": "code",
   "execution_count": 572,
   "metadata": {},
   "outputs": [
    {
     "data": {
      "text/plain": [
       "0.59028340080971664"
      ]
     },
     "execution_count": 572,
     "metadata": {},
     "output_type": "execute_result"
    }
   ],
   "source": [
    "accuracy_score_test = accuracy_score(y_test, y_test_pred)\n",
    "accuracy_score_test"
   ]
  },
  {
   "cell_type": "code",
   "execution_count": 573,
   "metadata": {
    "collapsed": true
   },
   "outputs": [],
   "source": [
    "#precision_score_forest = precision_score(y_test, y_test_pred)\n",
    "#precision_score_forest"
   ]
  },
  {
   "cell_type": "code",
   "execution_count": 574,
   "metadata": {
    "collapsed": true
   },
   "outputs": [],
   "source": [
    "#recall_score_forest = recall_score(y_test, y_test_pred)\n",
    "#recall_score_forest"
   ]
  },
  {
   "cell_type": "code",
   "execution_count": 575,
   "metadata": {
    "collapsed": true
   },
   "outputs": [],
   "source": [
    "#f1_score_forest = f1_score(y_test, y_test_pred)\n",
    "#f1_score_forest"
   ]
  },
  {
   "cell_type": "markdown",
   "metadata": {},
   "source": [
    "### 8. Comparison accuracy: Validation vs Test"
   ]
  },
  {
   "cell_type": "code",
   "execution_count": 576,
   "metadata": {},
   "outputs": [
    {
     "data": {
      "text/html": [
       "<div>\n",
       "<style>\n",
       "    .dataframe thead tr:only-child th {\n",
       "        text-align: right;\n",
       "    }\n",
       "\n",
       "    .dataframe thead th {\n",
       "        text-align: left;\n",
       "    }\n",
       "\n",
       "    .dataframe tbody tr th {\n",
       "        vertical-align: top;\n",
       "    }\n",
       "</style>\n",
       "<table border=\"1\" class=\"dataframe\">\n",
       "  <thead>\n",
       "    <tr style=\"text-align: right;\">\n",
       "      <th></th>\n",
       "      <th>Test</th>\n",
       "      <th>Validation</th>\n",
       "    </tr>\n",
       "  </thead>\n",
       "  <tbody>\n",
       "    <tr>\n",
       "      <th>Accuracy</th>\n",
       "      <td>0.590283</td>\n",
       "      <td>0.582996</td>\n",
       "    </tr>\n",
       "  </tbody>\n",
       "</table>\n",
       "</div>"
      ],
      "text/plain": [
       "              Test  Validation\n",
       "Accuracy  0.590283    0.582996"
      ]
     },
     "execution_count": 576,
     "metadata": {},
     "output_type": "execute_result"
    }
   ],
   "source": [
    "comparison = {\"Validation\": [cv_scores_rf_mean],\n",
    "             \"Test\": [accuracy_score_test]}\n",
    "pd.DataFrame(comparison, index = [\"Accuracy\"])"
   ]
  },
  {
   "cell_type": "markdown",
   "metadata": {},
   "source": [
    "### 9. Feature Importance"
   ]
  },
  {
   "cell_type": "code",
   "execution_count": 577,
   "metadata": {},
   "outputs": [
    {
     "data": {
      "text/plain": [
       "array([ 0.06948818,  0.13273535,  0.08164099,  0.08564545,  0.21740812,\n",
       "        0.19722893,  0.10139086,  0.11446213])"
      ]
     },
     "execution_count": 577,
     "metadata": {},
     "output_type": "execute_result"
    }
   ],
   "source": [
    "rf_model.feature_importances_"
   ]
  },
  {
   "cell_type": "code",
   "execution_count": 578,
   "metadata": {
    "scrolled": true
   },
   "outputs": [
    {
     "data": {
      "text/html": [
       "<div>\n",
       "<style>\n",
       "    .dataframe thead tr:only-child th {\n",
       "        text-align: right;\n",
       "    }\n",
       "\n",
       "    .dataframe thead th {\n",
       "        text-align: left;\n",
       "    }\n",
       "\n",
       "    .dataframe tbody tr th {\n",
       "        vertical-align: top;\n",
       "    }\n",
       "</style>\n",
       "<table border=\"1\" class=\"dataframe\">\n",
       "  <thead>\n",
       "    <tr style=\"text-align: right;\">\n",
       "      <th></th>\n",
       "      <th>Features</th>\n",
       "      <th>Importance</th>\n",
       "    </tr>\n",
       "  </thead>\n",
       "  <tbody>\n",
       "    <tr>\n",
       "      <th>4</th>\n",
       "      <td>posicao_m</td>\n",
       "      <td>0.217408</td>\n",
       "    </tr>\n",
       "    <tr>\n",
       "      <th>5</th>\n",
       "      <td>posicao_v</td>\n",
       "      <td>0.197229</td>\n",
       "    </tr>\n",
       "    <tr>\n",
       "      <th>1</th>\n",
       "      <td>rodada</td>\n",
       "      <td>0.132735</td>\n",
       "    </tr>\n",
       "    <tr>\n",
       "      <th>7</th>\n",
       "      <td>aproveitamento_10r_m</td>\n",
       "      <td>0.114462</td>\n",
       "    </tr>\n",
       "    <tr>\n",
       "      <th>6</th>\n",
       "      <td>aproveitamento_10r_v</td>\n",
       "      <td>0.101391</td>\n",
       "    </tr>\n",
       "    <tr>\n",
       "      <th>3</th>\n",
       "      <td>visitante</td>\n",
       "      <td>0.085645</td>\n",
       "    </tr>\n",
       "    <tr>\n",
       "      <th>2</th>\n",
       "      <td>mandante</td>\n",
       "      <td>0.081641</td>\n",
       "    </tr>\n",
       "    <tr>\n",
       "      <th>0</th>\n",
       "      <td>ano</td>\n",
       "      <td>0.069488</td>\n",
       "    </tr>\n",
       "  </tbody>\n",
       "</table>\n",
       "</div>"
      ],
      "text/plain": [
       "               Features  Importance\n",
       "4             posicao_m    0.217408\n",
       "5             posicao_v    0.197229\n",
       "1                rodada    0.132735\n",
       "7  aproveitamento_10r_m    0.114462\n",
       "6  aproveitamento_10r_v    0.101391\n",
       "3             visitante    0.085645\n",
       "2              mandante    0.081641\n",
       "0                   ano    0.069488"
      ]
     },
     "execution_count": 578,
     "metadata": {},
     "output_type": "execute_result"
    }
   ],
   "source": [
    "# View a list of the features and their importance scores\n",
    "imp_list = list(zip(jogos_X_df.keys(), \n",
    "                    rf_model.feature_importances_))\n",
    "imp_df = pd.DataFrame(imp_list, columns = [\"Features\", \"Importance\"])\n",
    "imp_df.sort_values(by = \"Importance\", ascending = False)"
   ]
  },
  {
   "cell_type": "markdown",
   "metadata": {},
   "source": [
    "### 10. Predict"
   ]
  },
  {
   "cell_type": "code",
   "execution_count": 579,
   "metadata": {
    "collapsed": true
   },
   "outputs": [],
   "source": [
    "rodada = pd.read_csv(\"data/rodada.csv\",sep=\",\")"
   ]
  },
  {
   "cell_type": "code",
   "execution_count": 580,
   "metadata": {},
   "outputs": [
    {
     "data": {
      "text/html": [
       "<div>\n",
       "<style>\n",
       "    .dataframe thead tr:only-child th {\n",
       "        text-align: right;\n",
       "    }\n",
       "\n",
       "    .dataframe thead th {\n",
       "        text-align: left;\n",
       "    }\n",
       "\n",
       "    .dataframe tbody tr th {\n",
       "        vertical-align: top;\n",
       "    }\n",
       "</style>\n",
       "<table border=\"1\" class=\"dataframe\">\n",
       "  <thead>\n",
       "    <tr style=\"text-align: right;\">\n",
       "      <th></th>\n",
       "      <th>mandante</th>\n",
       "      <th>visitante</th>\n",
       "      <th>placar</th>\n",
       "    </tr>\n",
       "  </thead>\n",
       "  <tbody>\n",
       "    <tr>\n",
       "      <th>0</th>\n",
       "      <td>Internacional</td>\n",
       "      <td>Chapecoense</td>\n",
       "      <td>NaN</td>\n",
       "    </tr>\n",
       "    <tr>\n",
       "      <th>1</th>\n",
       "      <td>Fluminense</td>\n",
       "      <td>Atlético-PR</td>\n",
       "      <td>NaN</td>\n",
       "    </tr>\n",
       "    <tr>\n",
       "      <th>2</th>\n",
       "      <td>América-MG</td>\n",
       "      <td>Botafogo</td>\n",
       "      <td>NaN</td>\n",
       "    </tr>\n",
       "    <tr>\n",
       "      <th>3</th>\n",
       "      <td>Paraná</td>\n",
       "      <td>Grêmio</td>\n",
       "      <td>\\t</td>\n",
       "    </tr>\n",
       "    <tr>\n",
       "      <th>4</th>\n",
       "      <td>São Paulo</td>\n",
       "      <td>Santos</td>\n",
       "      <td>NaN</td>\n",
       "    </tr>\n",
       "    <tr>\n",
       "      <th>5</th>\n",
       "      <td>Sport Recife</td>\n",
       "      <td>Corinthians</td>\n",
       "      <td>NaN</td>\n",
       "    </tr>\n",
       "    <tr>\n",
       "      <th>6</th>\n",
       "      <td>Vitória</td>\n",
       "      <td>Ceará</td>\n",
       "      <td>NaN</td>\n",
       "    </tr>\n",
       "    <tr>\n",
       "      <th>7</th>\n",
       "      <td>Palmeiras</td>\n",
       "      <td>Bahia</td>\n",
       "      <td>NaN</td>\n",
       "    </tr>\n",
       "    <tr>\n",
       "      <th>8</th>\n",
       "      <td>Flamengo</td>\n",
       "      <td>Vasco</td>\n",
       "      <td>NaN</td>\n",
       "    </tr>\n",
       "    <tr>\n",
       "      <th>9</th>\n",
       "      <td>Atlético-MG</td>\n",
       "      <td>Cruzeiro</td>\n",
       "      <td>NaN</td>\n",
       "    </tr>\n",
       "  </tbody>\n",
       "</table>\n",
       "</div>"
      ],
      "text/plain": [
       "        mandante    visitante placar\n",
       "0  Internacional  Chapecoense    NaN\n",
       "1     Fluminense  Atlético-PR    NaN\n",
       "2     América-MG     Botafogo    NaN\n",
       "3         Paraná       Grêmio     \\t\n",
       "4      São Paulo       Santos    NaN\n",
       "5   Sport Recife  Corinthians    NaN\n",
       "6        Vitória        Ceará    NaN\n",
       "7      Palmeiras        Bahia    NaN\n",
       "8       Flamengo        Vasco    NaN\n",
       "9    Atlético-MG     Cruzeiro    NaN"
      ]
     },
     "execution_count": 580,
     "metadata": {},
     "output_type": "execute_result"
    }
   ],
   "source": [
    "rodada"
   ]
  },
  {
   "cell_type": "code",
   "execution_count": 581,
   "metadata": {
    "collapsed": true
   },
   "outputs": [],
   "source": [
    "rodada_DF = rodada.copy()"
   ]
  },
  {
   "cell_type": "code",
   "execution_count": 582,
   "metadata": {
    "collapsed": true
   },
   "outputs": [],
   "source": [
    "rodada_DF = rodada_DF.applymap(lambda s: times_dict.get(s) if s in times_dict else s)"
   ]
  },
  {
   "cell_type": "code",
   "execution_count": 583,
   "metadata": {},
   "outputs": [
    {
     "data": {
      "text/html": [
       "<div>\n",
       "<style>\n",
       "    .dataframe thead tr:only-child th {\n",
       "        text-align: right;\n",
       "    }\n",
       "\n",
       "    .dataframe thead th {\n",
       "        text-align: left;\n",
       "    }\n",
       "\n",
       "    .dataframe tbody tr th {\n",
       "        vertical-align: top;\n",
       "    }\n",
       "</style>\n",
       "<table border=\"1\" class=\"dataframe\">\n",
       "  <thead>\n",
       "    <tr style=\"text-align: right;\">\n",
       "      <th></th>\n",
       "      <th>mandante</th>\n",
       "      <th>visitante</th>\n",
       "      <th>placar</th>\n",
       "    </tr>\n",
       "  </thead>\n",
       "  <tbody>\n",
       "    <tr>\n",
       "      <th>0</th>\n",
       "      <td>57</td>\n",
       "      <td>47</td>\n",
       "      <td>NaN</td>\n",
       "    </tr>\n",
       "    <tr>\n",
       "      <th>1</th>\n",
       "      <td>59</td>\n",
       "      <td>45</td>\n",
       "      <td>NaN</td>\n",
       "    </tr>\n",
       "    <tr>\n",
       "      <th>2</th>\n",
       "      <td>56</td>\n",
       "      <td>42</td>\n",
       "      <td>NaN</td>\n",
       "    </tr>\n",
       "    <tr>\n",
       "      <th>3</th>\n",
       "      <td>61</td>\n",
       "      <td>51</td>\n",
       "      <td>\\t</td>\n",
       "    </tr>\n",
       "    <tr>\n",
       "      <th>4</th>\n",
       "      <td>55</td>\n",
       "      <td>44</td>\n",
       "      <td>NaN</td>\n",
       "    </tr>\n",
       "    <tr>\n",
       "      <th>5</th>\n",
       "      <td>52</td>\n",
       "      <td>48</td>\n",
       "      <td>NaN</td>\n",
       "    </tr>\n",
       "    <tr>\n",
       "      <th>6</th>\n",
       "      <td>54</td>\n",
       "      <td>43</td>\n",
       "      <td>NaN</td>\n",
       "    </tr>\n",
       "    <tr>\n",
       "      <th>7</th>\n",
       "      <td>60</td>\n",
       "      <td>46</td>\n",
       "      <td>NaN</td>\n",
       "    </tr>\n",
       "    <tr>\n",
       "      <th>8</th>\n",
       "      <td>53</td>\n",
       "      <td>49</td>\n",
       "      <td>NaN</td>\n",
       "    </tr>\n",
       "    <tr>\n",
       "      <th>9</th>\n",
       "      <td>58</td>\n",
       "      <td>50</td>\n",
       "      <td>NaN</td>\n",
       "    </tr>\n",
       "  </tbody>\n",
       "</table>\n",
       "</div>"
      ],
      "text/plain": [
       "   mandante  visitante placar\n",
       "0        57         47    NaN\n",
       "1        59         45    NaN\n",
       "2        56         42    NaN\n",
       "3        61         51     \\t\n",
       "4        55         44    NaN\n",
       "5        52         48    NaN\n",
       "6        54         43    NaN\n",
       "7        60         46    NaN\n",
       "8        53         49    NaN\n",
       "9        58         50    NaN"
      ]
     },
     "execution_count": 583,
     "metadata": {},
     "output_type": "execute_result"
    }
   ],
   "source": [
    "rodada_DF"
   ]
  },
  {
   "cell_type": "code",
   "execution_count": 584,
   "metadata": {},
   "outputs": [
    {
     "data": {
      "text/html": [
       "<div>\n",
       "<style>\n",
       "    .dataframe thead tr:only-child th {\n",
       "        text-align: right;\n",
       "    }\n",
       "\n",
       "    .dataframe thead th {\n",
       "        text-align: left;\n",
       "    }\n",
       "\n",
       "    .dataframe tbody tr th {\n",
       "        vertical-align: top;\n",
       "    }\n",
       "</style>\n",
       "<table border=\"1\" class=\"dataframe\">\n",
       "  <thead>\n",
       "    <tr style=\"text-align: right;\">\n",
       "      <th></th>\n",
       "      <th>campeonato</th>\n",
       "      <th>ano</th>\n",
       "      <th>rodada</th>\n",
       "      <th>data</th>\n",
       "      <th>mandante</th>\n",
       "      <th>visitante</th>\n",
       "      <th>gols_mandante</th>\n",
       "      <th>gols_visitante</th>\n",
       "      <th>resultado</th>\n",
       "      <th>posicao_m</th>\n",
       "      <th>posicao_v</th>\n",
       "      <th>aproveitamento_5r_v</th>\n",
       "      <th>aproveitamento_5r_m</th>\n",
       "      <th>aproveitamento_10r_v</th>\n",
       "      <th>aproveitamento_10r_m</th>\n",
       "    </tr>\n",
       "  </thead>\n",
       "  <tbody>\n",
       "    <tr>\n",
       "      <th>0</th>\n",
       "      <td>brasileiro-a</td>\n",
       "      <td>2018</td>\n",
       "      <td>5</td>\n",
       "      <td>14-05</td>\n",
       "      <td>42</td>\n",
       "      <td>59</td>\n",
       "      <td>2</td>\n",
       "      <td>1</td>\n",
       "      <td>MANDANTE</td>\n",
       "      <td>6.0</td>\n",
       "      <td>9.0</td>\n",
       "      <td>0.78</td>\n",
       "      <td>0.44</td>\n",
       "      <td>0.78</td>\n",
       "      <td>0.44</td>\n",
       "    </tr>\n",
       "    <tr>\n",
       "      <th>1</th>\n",
       "      <td>brasileiro-a</td>\n",
       "      <td>2018</td>\n",
       "      <td>5</td>\n",
       "      <td>14-05</td>\n",
       "      <td>43</td>\n",
       "      <td>56</td>\n",
       "      <td>2</td>\n",
       "      <td>2</td>\n",
       "      <td>EMPATE</td>\n",
       "      <td>19.0</td>\n",
       "      <td>10.0</td>\n",
       "      <td>0.33</td>\n",
       "      <td>0.22</td>\n",
       "      <td>0.33</td>\n",
       "      <td>0.22</td>\n",
       "    </tr>\n",
       "    <tr>\n",
       "      <th>2</th>\n",
       "      <td>brasileiro-a</td>\n",
       "      <td>2018</td>\n",
       "      <td>5</td>\n",
       "      <td>13-05</td>\n",
       "      <td>44</td>\n",
       "      <td>61</td>\n",
       "      <td>3</td>\n",
       "      <td>1</td>\n",
       "      <td>MANDANTE</td>\n",
       "      <td>13.0</td>\n",
       "      <td>20.0</td>\n",
       "      <td>0.11</td>\n",
       "      <td>0.00</td>\n",
       "      <td>0.11</td>\n",
       "      <td>0.00</td>\n",
       "    </tr>\n",
       "  </tbody>\n",
       "</table>\n",
       "</div>"
      ],
      "text/plain": [
       "     campeonato   ano  rodada   data  mandante  visitante  gols_mandante  \\\n",
       "0  brasileiro-a  2018       5  14-05        42         59              2   \n",
       "1  brasileiro-a  2018       5  14-05        43         56              2   \n",
       "2  brasileiro-a  2018       5  13-05        44         61              3   \n",
       "\n",
       "   gols_visitante resultado  posicao_m  posicao_v  aproveitamento_5r_v  \\\n",
       "0               1  MANDANTE        6.0        9.0                 0.78   \n",
       "1               2    EMPATE       19.0       10.0                 0.33   \n",
       "2               1  MANDANTE       13.0       20.0                 0.11   \n",
       "\n",
       "   aproveitamento_5r_m  aproveitamento_10r_v  aproveitamento_10r_m  \n",
       "0                 0.44                  0.78                  0.44  \n",
       "1                 0.22                  0.33                  0.22  \n",
       "2                 0.00                  0.11                  0.00  "
      ]
     },
     "execution_count": 584,
     "metadata": {},
     "output_type": "execute_result"
    }
   ],
   "source": [
    "jogos.head(3)"
   ]
  },
  {
   "cell_type": "code",
   "execution_count": 585,
   "metadata": {},
   "outputs": [
    {
     "data": {
      "text/html": [
       "<div>\n",
       "<style>\n",
       "    .dataframe thead tr:only-child th {\n",
       "        text-align: right;\n",
       "    }\n",
       "\n",
       "    .dataframe thead th {\n",
       "        text-align: left;\n",
       "    }\n",
       "\n",
       "    .dataframe tbody tr th {\n",
       "        vertical-align: top;\n",
       "    }\n",
       "</style>\n",
       "<table border=\"1\" class=\"dataframe\">\n",
       "  <thead>\n",
       "    <tr style=\"text-align: right;\">\n",
       "      <th></th>\n",
       "      <th>campeonato</th>\n",
       "      <th>ano</th>\n",
       "      <th>rodada</th>\n",
       "      <th>data</th>\n",
       "      <th>mandante</th>\n",
       "      <th>visitante</th>\n",
       "      <th>gols_mandante</th>\n",
       "      <th>gols_visitante</th>\n",
       "      <th>resultado</th>\n",
       "      <th>posicao_m</th>\n",
       "      <th>posicao_v</th>\n",
       "      <th>aproveitamento_5r_v</th>\n",
       "      <th>aproveitamento_5r_m</th>\n",
       "      <th>aproveitamento_10r_v</th>\n",
       "      <th>aproveitamento_10r_m</th>\n",
       "    </tr>\n",
       "  </thead>\n",
       "  <tbody>\n",
       "    <tr>\n",
       "      <th>133</th>\n",
       "      <td>brasileiro-a</td>\n",
       "      <td>2017</td>\n",
       "      <td>30</td>\n",
       "      <td>22-10</td>\n",
       "      <td>46</td>\n",
       "      <td>54</td>\n",
       "      <td>2</td>\n",
       "      <td>1</td>\n",
       "      <td>MANDANTE</td>\n",
       "      <td>12.0</td>\n",
       "      <td>17.0</td>\n",
       "      <td>0.47</td>\n",
       "      <td>0.53</td>\n",
       "      <td>0.47</td>\n",
       "      <td>0.4</td>\n",
       "    </tr>\n",
       "  </tbody>\n",
       "</table>\n",
       "</div>"
      ],
      "text/plain": [
       "       campeonato   ano  rodada   data  mandante  visitante  gols_mandante  \\\n",
       "133  brasileiro-a  2017      30  22-10        46         54              2   \n",
       "\n",
       "     gols_visitante resultado  posicao_m  posicao_v  aproveitamento_5r_v  \\\n",
       "133               1  MANDANTE       12.0       17.0                 0.47   \n",
       "\n",
       "     aproveitamento_5r_m  aproveitamento_10r_v  aproveitamento_10r_m  \n",
       "133                 0.53                  0.47                   0.4  "
      ]
     },
     "execution_count": 585,
     "metadata": {},
     "output_type": "execute_result"
    }
   ],
   "source": [
    "jogos.query(\"visitante == 54 and rodada == 30 and ano == 2017\")"
   ]
  },
  {
   "cell_type": "code",
   "execution_count": 586,
   "metadata": {
    "collapsed": true
   },
   "outputs": [],
   "source": [
    "ano = jogos[\"ano\"].max()"
   ]
  },
  {
   "cell_type": "code",
   "execution_count": 587,
   "metadata": {
    "collapsed": true
   },
   "outputs": [],
   "source": [
    "rod = jogos[jogos[\"ano\"] == ano][\"rodada\"].max()"
   ]
  },
  {
   "cell_type": "code",
   "execution_count": 588,
   "metadata": {
    "collapsed": true
   },
   "outputs": [],
   "source": [
    "rodada_DF[\"ano\"] = ano"
   ]
  },
  {
   "cell_type": "code",
   "execution_count": 589,
   "metadata": {
    "collapsed": true
   },
   "outputs": [],
   "source": [
    "rodada_DF[\"rodada\"] = rod + 1"
   ]
  },
  {
   "cell_type": "code",
   "execution_count": 590,
   "metadata": {
    "collapsed": true
   },
   "outputs": [],
   "source": [
    "def getPosicao(jogos, ano, rodada, time):    \n",
    "\n",
    "    ultimo_jogo = jogos.query(\"ano == \" + str(ano) + \" and rodada == \" + str(rodada) + \" and mandante == \" + str(time))\n",
    "    if not ultimo_jogo.empty:\n",
    "        return ultimo_jogo[\"posicao_m\"].values[0]\n",
    "    \n",
    "    ultimo_jogo = jogos.query(\"ano == \" + str(ano) + \" and rodada == \" + str(rodada) + \" and visitante == \" + str(time))        \n",
    "    return ultimo_jogo[\"posicao_v\"].values[0]"
   ]
  },
  {
   "cell_type": "code",
   "execution_count": 591,
   "metadata": {
    "collapsed": true
   },
   "outputs": [],
   "source": [
    "def getAproveitamento(jogos, ano, rodada, time):    \n",
    "\n",
    "    ultimo_jogo = jogos.query(\"ano == \" + str(ano) + \" and rodada == \" + str(rodada) + \" and mandante == \" + str(time))\n",
    "    if not ultimo_jogo.empty:\n",
    "        return ultimo_jogo[\"aproveitamento_10r_m\"].values[0]\n",
    "    \n",
    "    ultimo_jogo = jogos.query(\"ano == \" + str(ano) + \" and rodada == \" + str(rodada) + \" and visitante == \" + str(time))        \n",
    "    return ultimo_jogo[\"aproveitamento_10r_v\"].values[0]"
   ]
  },
  {
   "cell_type": "code",
   "execution_count": 592,
   "metadata": {},
   "outputs": [
    {
     "data": {
      "text/html": [
       "<div>\n",
       "<style>\n",
       "    .dataframe thead tr:only-child th {\n",
       "        text-align: right;\n",
       "    }\n",
       "\n",
       "    .dataframe thead th {\n",
       "        text-align: left;\n",
       "    }\n",
       "\n",
       "    .dataframe tbody tr th {\n",
       "        vertical-align: top;\n",
       "    }\n",
       "</style>\n",
       "<table border=\"1\" class=\"dataframe\">\n",
       "  <thead>\n",
       "    <tr style=\"text-align: right;\">\n",
       "      <th></th>\n",
       "      <th>campeonato</th>\n",
       "      <th>ano</th>\n",
       "      <th>rodada</th>\n",
       "      <th>data</th>\n",
       "      <th>mandante</th>\n",
       "      <th>visitante</th>\n",
       "      <th>gols_mandante</th>\n",
       "      <th>gols_visitante</th>\n",
       "      <th>resultado</th>\n",
       "      <th>posicao_m</th>\n",
       "      <th>posicao_v</th>\n",
       "      <th>aproveitamento_5r_v</th>\n",
       "      <th>aproveitamento_5r_m</th>\n",
       "      <th>aproveitamento_10r_v</th>\n",
       "      <th>aproveitamento_10r_m</th>\n",
       "    </tr>\n",
       "  </thead>\n",
       "  <tbody>\n",
       "    <tr>\n",
       "      <th>0</th>\n",
       "      <td>brasileiro-a</td>\n",
       "      <td>2018</td>\n",
       "      <td>5</td>\n",
       "      <td>14-05</td>\n",
       "      <td>42</td>\n",
       "      <td>59</td>\n",
       "      <td>2</td>\n",
       "      <td>1</td>\n",
       "      <td>MANDANTE</td>\n",
       "      <td>6.0</td>\n",
       "      <td>9.0</td>\n",
       "      <td>0.78</td>\n",
       "      <td>0.44</td>\n",
       "      <td>0.78</td>\n",
       "      <td>0.44</td>\n",
       "    </tr>\n",
       "    <tr>\n",
       "      <th>1</th>\n",
       "      <td>brasileiro-a</td>\n",
       "      <td>2018</td>\n",
       "      <td>5</td>\n",
       "      <td>14-05</td>\n",
       "      <td>43</td>\n",
       "      <td>56</td>\n",
       "      <td>2</td>\n",
       "      <td>2</td>\n",
       "      <td>EMPATE</td>\n",
       "      <td>19.0</td>\n",
       "      <td>10.0</td>\n",
       "      <td>0.33</td>\n",
       "      <td>0.22</td>\n",
       "      <td>0.33</td>\n",
       "      <td>0.22</td>\n",
       "    </tr>\n",
       "    <tr>\n",
       "      <th>2</th>\n",
       "      <td>brasileiro-a</td>\n",
       "      <td>2018</td>\n",
       "      <td>5</td>\n",
       "      <td>13-05</td>\n",
       "      <td>44</td>\n",
       "      <td>61</td>\n",
       "      <td>3</td>\n",
       "      <td>1</td>\n",
       "      <td>MANDANTE</td>\n",
       "      <td>13.0</td>\n",
       "      <td>20.0</td>\n",
       "      <td>0.11</td>\n",
       "      <td>0.00</td>\n",
       "      <td>0.11</td>\n",
       "      <td>0.00</td>\n",
       "    </tr>\n",
       "    <tr>\n",
       "      <th>3</th>\n",
       "      <td>brasileiro-a</td>\n",
       "      <td>2018</td>\n",
       "      <td>5</td>\n",
       "      <td>13-05</td>\n",
       "      <td>45</td>\n",
       "      <td>58</td>\n",
       "      <td>1</td>\n",
       "      <td>2</td>\n",
       "      <td>VISITANTE</td>\n",
       "      <td>15.0</td>\n",
       "      <td>3.0</td>\n",
       "      <td>0.78</td>\n",
       "      <td>0.22</td>\n",
       "      <td>0.78</td>\n",
       "      <td>0.22</td>\n",
       "    </tr>\n",
       "    <tr>\n",
       "      <th>4</th>\n",
       "      <td>brasileiro-a</td>\n",
       "      <td>2018</td>\n",
       "      <td>5</td>\n",
       "      <td>13-05</td>\n",
       "      <td>46</td>\n",
       "      <td>55</td>\n",
       "      <td>2</td>\n",
       "      <td>2</td>\n",
       "      <td>EMPATE</td>\n",
       "      <td>17.0</td>\n",
       "      <td>12.0</td>\n",
       "      <td>0.33</td>\n",
       "      <td>0.44</td>\n",
       "      <td>0.33</td>\n",
       "      <td>0.44</td>\n",
       "    </tr>\n",
       "    <tr>\n",
       "      <th>5</th>\n",
       "      <td>brasileiro-a</td>\n",
       "      <td>2018</td>\n",
       "      <td>5</td>\n",
       "      <td>13-05</td>\n",
       "      <td>47</td>\n",
       "      <td>53</td>\n",
       "      <td>3</td>\n",
       "      <td>2</td>\n",
       "      <td>MANDANTE</td>\n",
       "      <td>14.0</td>\n",
       "      <td>1.0</td>\n",
       "      <td>1.00</td>\n",
       "      <td>0.33</td>\n",
       "      <td>1.00</td>\n",
       "      <td>0.33</td>\n",
       "    </tr>\n",
       "    <tr>\n",
       "      <th>6</th>\n",
       "      <td>brasileiro-a</td>\n",
       "      <td>2018</td>\n",
       "      <td>5</td>\n",
       "      <td>13-05</td>\n",
       "      <td>48</td>\n",
       "      <td>60</td>\n",
       "      <td>1</td>\n",
       "      <td>0</td>\n",
       "      <td>MANDANTE</td>\n",
       "      <td>2.0</td>\n",
       "      <td>5.0</td>\n",
       "      <td>0.78</td>\n",
       "      <td>0.44</td>\n",
       "      <td>0.78</td>\n",
       "      <td>0.44</td>\n",
       "    </tr>\n",
       "    <tr>\n",
       "      <th>7</th>\n",
       "      <td>brasileiro-a</td>\n",
       "      <td>2018</td>\n",
       "      <td>5</td>\n",
       "      <td>13-05</td>\n",
       "      <td>49</td>\n",
       "      <td>54</td>\n",
       "      <td>2</td>\n",
       "      <td>3</td>\n",
       "      <td>VISITANTE</td>\n",
       "      <td>7.0</td>\n",
       "      <td>18.0</td>\n",
       "      <td>0.00</td>\n",
       "      <td>0.44</td>\n",
       "      <td>0.00</td>\n",
       "      <td>0.44</td>\n",
       "    </tr>\n",
       "    <tr>\n",
       "      <th>8</th>\n",
       "      <td>brasileiro-a</td>\n",
       "      <td>2018</td>\n",
       "      <td>5</td>\n",
       "      <td>13-05</td>\n",
       "      <td>50</td>\n",
       "      <td>52</td>\n",
       "      <td>2</td>\n",
       "      <td>0</td>\n",
       "      <td>MANDANTE</td>\n",
       "      <td>8.0</td>\n",
       "      <td>11.0</td>\n",
       "      <td>0.78</td>\n",
       "      <td>0.44</td>\n",
       "      <td>0.78</td>\n",
       "      <td>0.44</td>\n",
       "    </tr>\n",
       "    <tr>\n",
       "      <th>9</th>\n",
       "      <td>brasileiro-a</td>\n",
       "      <td>2018</td>\n",
       "      <td>5</td>\n",
       "      <td>12-05</td>\n",
       "      <td>51</td>\n",
       "      <td>57</td>\n",
       "      <td>0</td>\n",
       "      <td>0</td>\n",
       "      <td>EMPATE</td>\n",
       "      <td>4.0</td>\n",
       "      <td>16.0</td>\n",
       "      <td>0.11</td>\n",
       "      <td>0.44</td>\n",
       "      <td>0.11</td>\n",
       "      <td>0.44</td>\n",
       "    </tr>\n",
       "    <tr>\n",
       "      <th>10</th>\n",
       "      <td>brasileiro-a</td>\n",
       "      <td>2018</td>\n",
       "      <td>4</td>\n",
       "      <td>07-05</td>\n",
       "      <td>47</td>\n",
       "      <td>61</td>\n",
       "      <td>1</td>\n",
       "      <td>1</td>\n",
       "      <td>EMPATE</td>\n",
       "      <td>17.0</td>\n",
       "      <td>20.0</td>\n",
       "      <td>0.00</td>\n",
       "      <td>0.33</td>\n",
       "      <td>0.00</td>\n",
       "      <td>0.33</td>\n",
       "    </tr>\n",
       "    <tr>\n",
       "      <th>11</th>\n",
       "      <td>brasileiro-a</td>\n",
       "      <td>2018</td>\n",
       "      <td>4</td>\n",
       "      <td>06-05</td>\n",
       "      <td>51</td>\n",
       "      <td>44</td>\n",
       "      <td>5</td>\n",
       "      <td>1</td>\n",
       "      <td>MANDANTE</td>\n",
       "      <td>5.0</td>\n",
       "      <td>16.0</td>\n",
       "      <td>0.00</td>\n",
       "      <td>0.17</td>\n",
       "      <td>0.00</td>\n",
       "      <td>0.17</td>\n",
       "    </tr>\n",
       "    <tr>\n",
       "      <th>12</th>\n",
       "      <td>brasileiro-a</td>\n",
       "      <td>2018</td>\n",
       "      <td>4</td>\n",
       "      <td>06-05</td>\n",
       "      <td>52</td>\n",
       "      <td>46</td>\n",
       "      <td>2</td>\n",
       "      <td>0</td>\n",
       "      <td>MANDANTE</td>\n",
       "      <td>8.0</td>\n",
       "      <td>15.0</td>\n",
       "      <td>0.67</td>\n",
       "      <td>0.67</td>\n",
       "      <td>0.67</td>\n",
       "      <td>0.67</td>\n",
       "    </tr>\n",
       "    <tr>\n",
       "      <th>13</th>\n",
       "      <td>brasileiro-a</td>\n",
       "      <td>2018</td>\n",
       "      <td>4</td>\n",
       "      <td>06-05</td>\n",
       "      <td>45</td>\n",
       "      <td>60</td>\n",
       "      <td>1</td>\n",
       "      <td>3</td>\n",
       "      <td>VISITANTE</td>\n",
       "      <td>11.0</td>\n",
       "      <td>2.0</td>\n",
       "      <td>0.67</td>\n",
       "      <td>0.33</td>\n",
       "      <td>0.67</td>\n",
       "      <td>0.33</td>\n",
       "    </tr>\n",
       "    <tr>\n",
       "      <th>14</th>\n",
       "      <td>brasileiro-a</td>\n",
       "      <td>2018</td>\n",
       "      <td>4</td>\n",
       "      <td>06-05</td>\n",
       "      <td>50</td>\n",
       "      <td>42</td>\n",
       "      <td>1</td>\n",
       "      <td>0</td>\n",
       "      <td>MANDANTE</td>\n",
       "      <td>14.0</td>\n",
       "      <td>12.0</td>\n",
       "      <td>0.67</td>\n",
       "      <td>0.17</td>\n",
       "      <td>0.67</td>\n",
       "      <td>0.17</td>\n",
       "    </tr>\n",
       "    <tr>\n",
       "      <th>15</th>\n",
       "      <td>brasileiro-a</td>\n",
       "      <td>2018</td>\n",
       "      <td>4</td>\n",
       "      <td>06-05</td>\n",
       "      <td>53</td>\n",
       "      <td>57</td>\n",
       "      <td>2</td>\n",
       "      <td>0</td>\n",
       "      <td>MANDANTE</td>\n",
       "      <td>1.0</td>\n",
       "      <td>13.0</td>\n",
       "      <td>0.17</td>\n",
       "      <td>1.00</td>\n",
       "      <td>0.17</td>\n",
       "      <td>1.00</td>\n",
       "    </tr>\n",
       "    <tr>\n",
       "      <th>16</th>\n",
       "      <td>brasileiro-a</td>\n",
       "      <td>2018</td>\n",
       "      <td>4</td>\n",
       "      <td>06-05</td>\n",
       "      <td>54</td>\n",
       "      <td>59</td>\n",
       "      <td>1</td>\n",
       "      <td>2</td>\n",
       "      <td>VISITANTE</td>\n",
       "      <td>19.0</td>\n",
       "      <td>7.0</td>\n",
       "      <td>0.67</td>\n",
       "      <td>0.00</td>\n",
       "      <td>0.67</td>\n",
       "      <td>0.00</td>\n",
       "    </tr>\n",
       "    <tr>\n",
       "      <th>17</th>\n",
       "      <td>brasileiro-a</td>\n",
       "      <td>2018</td>\n",
       "      <td>4</td>\n",
       "      <td>06-05</td>\n",
       "      <td>48</td>\n",
       "      <td>43</td>\n",
       "      <td>1</td>\n",
       "      <td>1</td>\n",
       "      <td>EMPATE</td>\n",
       "      <td>3.0</td>\n",
       "      <td>18.0</td>\n",
       "      <td>0.17</td>\n",
       "      <td>0.50</td>\n",
       "      <td>0.17</td>\n",
       "      <td>0.50</td>\n",
       "    </tr>\n",
       "    <tr>\n",
       "      <th>18</th>\n",
       "      <td>brasileiro-a</td>\n",
       "      <td>2018</td>\n",
       "      <td>4</td>\n",
       "      <td>05-05</td>\n",
       "      <td>55</td>\n",
       "      <td>58</td>\n",
       "      <td>2</td>\n",
       "      <td>2</td>\n",
       "      <td>EMPATE</td>\n",
       "      <td>10.0</td>\n",
       "      <td>6.0</td>\n",
       "      <td>1.00</td>\n",
       "      <td>0.33</td>\n",
       "      <td>1.00</td>\n",
       "      <td>0.33</td>\n",
       "    </tr>\n",
       "    <tr>\n",
       "      <th>19</th>\n",
       "      <td>brasileiro-a</td>\n",
       "      <td>2018</td>\n",
       "      <td>4</td>\n",
       "      <td>05-05</td>\n",
       "      <td>49</td>\n",
       "      <td>56</td>\n",
       "      <td>4</td>\n",
       "      <td>1</td>\n",
       "      <td>MANDANTE</td>\n",
       "      <td>4.0</td>\n",
       "      <td>9.0</td>\n",
       "      <td>0.50</td>\n",
       "      <td>0.17</td>\n",
       "      <td>0.50</td>\n",
       "      <td>0.17</td>\n",
       "    </tr>\n",
       "    <tr>\n",
       "      <th>20</th>\n",
       "      <td>brasileiro-a</td>\n",
       "      <td>2018</td>\n",
       "      <td>3</td>\n",
       "      <td>30-04</td>\n",
       "      <td>56</td>\n",
       "      <td>54</td>\n",
       "      <td>2</td>\n",
       "      <td>1</td>\n",
       "      <td>MANDANTE</td>\n",
       "      <td>3.0</td>\n",
       "      <td>17.0</td>\n",
       "      <td>0.00</td>\n",
       "      <td>0.00</td>\n",
       "      <td>0.00</td>\n",
       "      <td>0.00</td>\n",
       "    </tr>\n",
       "    <tr>\n",
       "      <th>21</th>\n",
       "      <td>brasileiro-a</td>\n",
       "      <td>2018</td>\n",
       "      <td>3</td>\n",
       "      <td>29-04</td>\n",
       "      <td>57</td>\n",
       "      <td>50</td>\n",
       "      <td>0</td>\n",
       "      <td>0</td>\n",
       "      <td>EMPATE</td>\n",
       "      <td>10.0</td>\n",
       "      <td>18.0</td>\n",
       "      <td>0.00</td>\n",
       "      <td>0.00</td>\n",
       "      <td>0.00</td>\n",
       "      <td>0.00</td>\n",
       "    </tr>\n",
       "    <tr>\n",
       "      <th>22</th>\n",
       "      <td>brasileiro-a</td>\n",
       "      <td>2018</td>\n",
       "      <td>3</td>\n",
       "      <td>29-04</td>\n",
       "      <td>58</td>\n",
       "      <td>48</td>\n",
       "      <td>1</td>\n",
       "      <td>0</td>\n",
       "      <td>MANDANTE</td>\n",
       "      <td>4.0</td>\n",
       "      <td>2.0</td>\n",
       "      <td>1.00</td>\n",
       "      <td>1.00</td>\n",
       "      <td>1.00</td>\n",
       "      <td>1.00</td>\n",
       "    </tr>\n",
       "    <tr>\n",
       "      <th>23</th>\n",
       "      <td>brasileiro-a</td>\n",
       "      <td>2018</td>\n",
       "      <td>3</td>\n",
       "      <td>29-04</td>\n",
       "      <td>46</td>\n",
       "      <td>45</td>\n",
       "      <td>0</td>\n",
       "      <td>0</td>\n",
       "      <td>EMPATE</td>\n",
       "      <td>13.0</td>\n",
       "      <td>5.0</td>\n",
       "      <td>0.33</td>\n",
       "      <td>1.00</td>\n",
       "      <td>0.33</td>\n",
       "      <td>1.00</td>\n",
       "    </tr>\n",
       "    <tr>\n",
       "      <th>24</th>\n",
       "      <td>brasileiro-a</td>\n",
       "      <td>2018</td>\n",
       "      <td>3</td>\n",
       "      <td>29-04</td>\n",
       "      <td>43</td>\n",
       "      <td>53</td>\n",
       "      <td>0</td>\n",
       "      <td>3</td>\n",
       "      <td>VISITANTE</td>\n",
       "      <td>19.0</td>\n",
       "      <td>1.0</td>\n",
       "      <td>1.00</td>\n",
       "      <td>0.33</td>\n",
       "      <td>1.00</td>\n",
       "      <td>0.33</td>\n",
       "    </tr>\n",
       "    <tr>\n",
       "      <th>25</th>\n",
       "      <td>brasileiro-a</td>\n",
       "      <td>2018</td>\n",
       "      <td>3</td>\n",
       "      <td>29-04</td>\n",
       "      <td>59</td>\n",
       "      <td>55</td>\n",
       "      <td>1</td>\n",
       "      <td>1</td>\n",
       "      <td>EMPATE</td>\n",
       "      <td>11.0</td>\n",
       "      <td>8.0</td>\n",
       "      <td>0.33</td>\n",
       "      <td>1.00</td>\n",
       "      <td>0.33</td>\n",
       "      <td>1.00</td>\n",
       "    </tr>\n",
       "    <tr>\n",
       "      <th>26</th>\n",
       "      <td>brasileiro-a</td>\n",
       "      <td>2018</td>\n",
       "      <td>3</td>\n",
       "      <td>29-04</td>\n",
       "      <td>60</td>\n",
       "      <td>47</td>\n",
       "      <td>0</td>\n",
       "      <td>0</td>\n",
       "      <td>EMPATE</td>\n",
       "      <td>7.0</td>\n",
       "      <td>16.0</td>\n",
       "      <td>0.33</td>\n",
       "      <td>1.00</td>\n",
       "      <td>0.33</td>\n",
       "      <td>1.00</td>\n",
       "    </tr>\n",
       "    <tr>\n",
       "      <th>27</th>\n",
       "      <td>brasileiro-a</td>\n",
       "      <td>2018</td>\n",
       "      <td>3</td>\n",
       "      <td>29-04</td>\n",
       "      <td>61</td>\n",
       "      <td>52</td>\n",
       "      <td>1</td>\n",
       "      <td>2</td>\n",
       "      <td>VISITANTE</td>\n",
       "      <td>20.0</td>\n",
       "      <td>14.0</td>\n",
       "      <td>0.33</td>\n",
       "      <td>0.00</td>\n",
       "      <td>0.33</td>\n",
       "      <td>0.00</td>\n",
       "    </tr>\n",
       "    <tr>\n",
       "      <th>28</th>\n",
       "      <td>brasileiro-a</td>\n",
       "      <td>2018</td>\n",
       "      <td>3</td>\n",
       "      <td>28-04</td>\n",
       "      <td>42</td>\n",
       "      <td>51</td>\n",
       "      <td>2</td>\n",
       "      <td>1</td>\n",
       "      <td>MANDANTE</td>\n",
       "      <td>6.0</td>\n",
       "      <td>12.0</td>\n",
       "      <td>0.33</td>\n",
       "      <td>0.33</td>\n",
       "      <td>0.33</td>\n",
       "      <td>0.33</td>\n",
       "    </tr>\n",
       "    <tr>\n",
       "      <th>29</th>\n",
       "      <td>brasileiro-a</td>\n",
       "      <td>2018</td>\n",
       "      <td>2</td>\n",
       "      <td>23-04</td>\n",
       "      <td>52</td>\n",
       "      <td>42</td>\n",
       "      <td>1</td>\n",
       "      <td>1</td>\n",
       "      <td>EMPATE</td>\n",
       "      <td>17.0</td>\n",
       "      <td>14.0</td>\n",
       "      <td>0.00</td>\n",
       "      <td>0.00</td>\n",
       "      <td>0.00</td>\n",
       "      <td>0.00</td>\n",
       "    </tr>\n",
       "    <tr>\n",
       "      <th>...</th>\n",
       "      <td>...</td>\n",
       "      <td>...</td>\n",
       "      <td>...</td>\n",
       "      <td>...</td>\n",
       "      <td>...</td>\n",
       "      <td>...</td>\n",
       "      <td>...</td>\n",
       "      <td>...</td>\n",
       "      <td>...</td>\n",
       "      <td>...</td>\n",
       "      <td>...</td>\n",
       "      <td>...</td>\n",
       "      <td>...</td>\n",
       "      <td>...</td>\n",
       "      <td>...</td>\n",
       "    </tr>\n",
       "    <tr>\n",
       "      <th>6145</th>\n",
       "      <td>brasileiro-a</td>\n",
       "      <td>2003</td>\n",
       "      <td>3</td>\n",
       "      <td>13-04</td>\n",
       "      <td>54</td>\n",
       "      <td>49</td>\n",
       "      <td>2</td>\n",
       "      <td>1</td>\n",
       "      <td>MANDANTE</td>\n",
       "      <td>5.0</td>\n",
       "      <td>15.0</td>\n",
       "      <td>1.00</td>\n",
       "      <td>1.00</td>\n",
       "      <td>1.00</td>\n",
       "      <td>1.00</td>\n",
       "    </tr>\n",
       "    <tr>\n",
       "      <th>6146</th>\n",
       "      <td>brasileiro-a</td>\n",
       "      <td>2003</td>\n",
       "      <td>3</td>\n",
       "      <td>12-04</td>\n",
       "      <td>48</td>\n",
       "      <td>81</td>\n",
       "      <td>6</td>\n",
       "      <td>1</td>\n",
       "      <td>MANDANTE</td>\n",
       "      <td>9.0</td>\n",
       "      <td>24.0</td>\n",
       "      <td>0.00</td>\n",
       "      <td>0.33</td>\n",
       "      <td>0.00</td>\n",
       "      <td>0.33</td>\n",
       "    </tr>\n",
       "    <tr>\n",
       "      <th>6147</th>\n",
       "      <td>brasileiro-a</td>\n",
       "      <td>2003</td>\n",
       "      <td>3</td>\n",
       "      <td>12-04</td>\n",
       "      <td>45</td>\n",
       "      <td>58</td>\n",
       "      <td>1</td>\n",
       "      <td>2</td>\n",
       "      <td>VISITANTE</td>\n",
       "      <td>16.0</td>\n",
       "      <td>3.0</td>\n",
       "      <td>0.33</td>\n",
       "      <td>0.00</td>\n",
       "      <td>0.33</td>\n",
       "      <td>0.00</td>\n",
       "    </tr>\n",
       "    <tr>\n",
       "      <th>6148</th>\n",
       "      <td>brasileiro-a</td>\n",
       "      <td>2003</td>\n",
       "      <td>3</td>\n",
       "      <td>12-04</td>\n",
       "      <td>57</td>\n",
       "      <td>46</td>\n",
       "      <td>2</td>\n",
       "      <td>0</td>\n",
       "      <td>MANDANTE</td>\n",
       "      <td>4.0</td>\n",
       "      <td>22.0</td>\n",
       "      <td>0.00</td>\n",
       "      <td>1.00</td>\n",
       "      <td>0.00</td>\n",
       "      <td>1.00</td>\n",
       "    </tr>\n",
       "    <tr>\n",
       "      <th>6149</th>\n",
       "      <td>brasileiro-a</td>\n",
       "      <td>2003</td>\n",
       "      <td>3</td>\n",
       "      <td>12-04</td>\n",
       "      <td>44</td>\n",
       "      <td>66</td>\n",
       "      <td>2</td>\n",
       "      <td>0</td>\n",
       "      <td>MANDANTE</td>\n",
       "      <td>7.0</td>\n",
       "      <td>20.0</td>\n",
       "      <td>0.33</td>\n",
       "      <td>0.33</td>\n",
       "      <td>0.33</td>\n",
       "      <td>0.33</td>\n",
       "    </tr>\n",
       "    <tr>\n",
       "      <th>6150</th>\n",
       "      <td>brasileiro-a</td>\n",
       "      <td>2003</td>\n",
       "      <td>4</td>\n",
       "      <td>09-04</td>\n",
       "      <td>81</td>\n",
       "      <td>44</td>\n",
       "      <td>2</td>\n",
       "      <td>1</td>\n",
       "      <td>MANDANTE</td>\n",
       "      <td>20.0</td>\n",
       "      <td>12.0</td>\n",
       "      <td>0.67</td>\n",
       "      <td>0.00</td>\n",
       "      <td>0.67</td>\n",
       "      <td>0.00</td>\n",
       "    </tr>\n",
       "    <tr>\n",
       "      <th>6151</th>\n",
       "      <td>brasileiro-a</td>\n",
       "      <td>2003</td>\n",
       "      <td>2</td>\n",
       "      <td>06-04</td>\n",
       "      <td>49</td>\n",
       "      <td>68</td>\n",
       "      <td>6</td>\n",
       "      <td>4</td>\n",
       "      <td>MANDANTE</td>\n",
       "      <td>10.0</td>\n",
       "      <td>21.0</td>\n",
       "      <td>0.00</td>\n",
       "      <td>0.00</td>\n",
       "      <td>0.00</td>\n",
       "      <td>0.00</td>\n",
       "    </tr>\n",
       "    <tr>\n",
       "      <th>6152</th>\n",
       "      <td>brasileiro-a</td>\n",
       "      <td>2003</td>\n",
       "      <td>2</td>\n",
       "      <td>06-04</td>\n",
       "      <td>46</td>\n",
       "      <td>53</td>\n",
       "      <td>1</td>\n",
       "      <td>2</td>\n",
       "      <td>VISITANTE</td>\n",
       "      <td>20.0</td>\n",
       "      <td>5.0</td>\n",
       "      <td>0.00</td>\n",
       "      <td>0.00</td>\n",
       "      <td>0.00</td>\n",
       "      <td>0.00</td>\n",
       "    </tr>\n",
       "    <tr>\n",
       "      <th>6153</th>\n",
       "      <td>brasileiro-a</td>\n",
       "      <td>2003</td>\n",
       "      <td>2</td>\n",
       "      <td>06-04</td>\n",
       "      <td>66</td>\n",
       "      <td>48</td>\n",
       "      <td>3</td>\n",
       "      <td>3</td>\n",
       "      <td>EMPATE</td>\n",
       "      <td>14.0</td>\n",
       "      <td>24.0</td>\n",
       "      <td>0.00</td>\n",
       "      <td>0.00</td>\n",
       "      <td>0.00</td>\n",
       "      <td>0.00</td>\n",
       "    </tr>\n",
       "    <tr>\n",
       "      <th>6154</th>\n",
       "      <td>brasileiro-a</td>\n",
       "      <td>2003</td>\n",
       "      <td>2</td>\n",
       "      <td>06-04</td>\n",
       "      <td>61</td>\n",
       "      <td>45</td>\n",
       "      <td>3</td>\n",
       "      <td>0</td>\n",
       "      <td>MANDANTE</td>\n",
       "      <td>1.0</td>\n",
       "      <td>13.0</td>\n",
       "      <td>0.00</td>\n",
       "      <td>0.00</td>\n",
       "      <td>0.00</td>\n",
       "      <td>0.00</td>\n",
       "    </tr>\n",
       "    <tr>\n",
       "      <th>6155</th>\n",
       "      <td>brasileiro-a</td>\n",
       "      <td>2003</td>\n",
       "      <td>2</td>\n",
       "      <td>06-04</td>\n",
       "      <td>81</td>\n",
       "      <td>54</td>\n",
       "      <td>1</td>\n",
       "      <td>2</td>\n",
       "      <td>VISITANTE</td>\n",
       "      <td>17.0</td>\n",
       "      <td>6.0</td>\n",
       "      <td>0.00</td>\n",
       "      <td>0.00</td>\n",
       "      <td>0.00</td>\n",
       "      <td>0.00</td>\n",
       "    </tr>\n",
       "    <tr>\n",
       "      <th>6156</th>\n",
       "      <td>brasileiro-a</td>\n",
       "      <td>2003</td>\n",
       "      <td>2</td>\n",
       "      <td>06-04</td>\n",
       "      <td>65</td>\n",
       "      <td>77</td>\n",
       "      <td>1</td>\n",
       "      <td>0</td>\n",
       "      <td>MANDANTE</td>\n",
       "      <td>7.0</td>\n",
       "      <td>18.0</td>\n",
       "      <td>0.00</td>\n",
       "      <td>0.00</td>\n",
       "      <td>0.00</td>\n",
       "      <td>0.00</td>\n",
       "    </tr>\n",
       "    <tr>\n",
       "      <th>6157</th>\n",
       "      <td>brasileiro-a</td>\n",
       "      <td>2003</td>\n",
       "      <td>2</td>\n",
       "      <td>06-04</td>\n",
       "      <td>80</td>\n",
       "      <td>70</td>\n",
       "      <td>3</td>\n",
       "      <td>2</td>\n",
       "      <td>MANDANTE</td>\n",
       "      <td>4.0</td>\n",
       "      <td>9.0</td>\n",
       "      <td>0.00</td>\n",
       "      <td>0.00</td>\n",
       "      <td>0.00</td>\n",
       "      <td>0.00</td>\n",
       "    </tr>\n",
       "    <tr>\n",
       "      <th>6158</th>\n",
       "      <td>brasileiro-a</td>\n",
       "      <td>2003</td>\n",
       "      <td>2</td>\n",
       "      <td>06-04</td>\n",
       "      <td>55</td>\n",
       "      <td>50</td>\n",
       "      <td>2</td>\n",
       "      <td>4</td>\n",
       "      <td>VISITANTE</td>\n",
       "      <td>22.0</td>\n",
       "      <td>3.0</td>\n",
       "      <td>0.00</td>\n",
       "      <td>0.00</td>\n",
       "      <td>0.00</td>\n",
       "      <td>0.00</td>\n",
       "    </tr>\n",
       "    <tr>\n",
       "      <th>6159</th>\n",
       "      <td>brasileiro-a</td>\n",
       "      <td>2003</td>\n",
       "      <td>2</td>\n",
       "      <td>05-04</td>\n",
       "      <td>51</td>\n",
       "      <td>74</td>\n",
       "      <td>3</td>\n",
       "      <td>1</td>\n",
       "      <td>MANDANTE</td>\n",
       "      <td>12.0</td>\n",
       "      <td>11.0</td>\n",
       "      <td>0.00</td>\n",
       "      <td>0.00</td>\n",
       "      <td>0.00</td>\n",
       "      <td>0.00</td>\n",
       "    </tr>\n",
       "    <tr>\n",
       "      <th>6160</th>\n",
       "      <td>brasileiro-a</td>\n",
       "      <td>2003</td>\n",
       "      <td>2</td>\n",
       "      <td>05-04</td>\n",
       "      <td>58</td>\n",
       "      <td>44</td>\n",
       "      <td>0</td>\n",
       "      <td>0</td>\n",
       "      <td>EMPATE</td>\n",
       "      <td>2.0</td>\n",
       "      <td>15.0</td>\n",
       "      <td>0.00</td>\n",
       "      <td>0.00</td>\n",
       "      <td>0.00</td>\n",
       "      <td>0.00</td>\n",
       "    </tr>\n",
       "    <tr>\n",
       "      <th>6161</th>\n",
       "      <td>brasileiro-a</td>\n",
       "      <td>2003</td>\n",
       "      <td>2</td>\n",
       "      <td>05-04</td>\n",
       "      <td>64</td>\n",
       "      <td>57</td>\n",
       "      <td>0</td>\n",
       "      <td>1</td>\n",
       "      <td>VISITANTE</td>\n",
       "      <td>19.0</td>\n",
       "      <td>8.0</td>\n",
       "      <td>0.00</td>\n",
       "      <td>0.00</td>\n",
       "      <td>0.00</td>\n",
       "      <td>0.00</td>\n",
       "    </tr>\n",
       "    <tr>\n",
       "      <th>6162</th>\n",
       "      <td>brasileiro-a</td>\n",
       "      <td>2003</td>\n",
       "      <td>2</td>\n",
       "      <td>05-04</td>\n",
       "      <td>59</td>\n",
       "      <td>79</td>\n",
       "      <td>1</td>\n",
       "      <td>1</td>\n",
       "      <td>EMPATE</td>\n",
       "      <td>23.0</td>\n",
       "      <td>16.0</td>\n",
       "      <td>0.00</td>\n",
       "      <td>0.00</td>\n",
       "      <td>0.00</td>\n",
       "      <td>0.00</td>\n",
       "    </tr>\n",
       "    <tr>\n",
       "      <th>6163</th>\n",
       "      <td>brasileiro-a</td>\n",
       "      <td>2003</td>\n",
       "      <td>1</td>\n",
       "      <td>30-03</td>\n",
       "      <td>48</td>\n",
       "      <td>58</td>\n",
       "      <td>0</td>\n",
       "      <td>3</td>\n",
       "      <td>VISITANTE</td>\n",
       "      <td>24.0</td>\n",
       "      <td>1.0</td>\n",
       "      <td>0.00</td>\n",
       "      <td>0.00</td>\n",
       "      <td>0.00</td>\n",
       "      <td>0.00</td>\n",
       "    </tr>\n",
       "    <tr>\n",
       "      <th>6164</th>\n",
       "      <td>brasileiro-a</td>\n",
       "      <td>2003</td>\n",
       "      <td>1</td>\n",
       "      <td>30-03</td>\n",
       "      <td>44</td>\n",
       "      <td>61</td>\n",
       "      <td>2</td>\n",
       "      <td>2</td>\n",
       "      <td>EMPATE</td>\n",
       "      <td>11.0</td>\n",
       "      <td>7.0</td>\n",
       "      <td>0.00</td>\n",
       "      <td>0.00</td>\n",
       "      <td>0.00</td>\n",
       "      <td>0.00</td>\n",
       "    </tr>\n",
       "    <tr>\n",
       "      <th>6165</th>\n",
       "      <td>brasileiro-a</td>\n",
       "      <td>2003</td>\n",
       "      <td>1</td>\n",
       "      <td>30-03</td>\n",
       "      <td>70</td>\n",
       "      <td>59</td>\n",
       "      <td>2</td>\n",
       "      <td>0</td>\n",
       "      <td>MANDANTE</td>\n",
       "      <td>3.0</td>\n",
       "      <td>22.0</td>\n",
       "      <td>0.00</td>\n",
       "      <td>0.00</td>\n",
       "      <td>0.00</td>\n",
       "      <td>0.00</td>\n",
       "    </tr>\n",
       "    <tr>\n",
       "      <th>6166</th>\n",
       "      <td>brasileiro-a</td>\n",
       "      <td>2003</td>\n",
       "      <td>1</td>\n",
       "      <td>30-03</td>\n",
       "      <td>50</td>\n",
       "      <td>80</td>\n",
       "      <td>2</td>\n",
       "      <td>2</td>\n",
       "      <td>EMPATE</td>\n",
       "      <td>10.0</td>\n",
       "      <td>8.0</td>\n",
       "      <td>0.00</td>\n",
       "      <td>0.00</td>\n",
       "      <td>0.00</td>\n",
       "      <td>0.00</td>\n",
       "    </tr>\n",
       "    <tr>\n",
       "      <th>6167</th>\n",
       "      <td>brasileiro-a</td>\n",
       "      <td>2003</td>\n",
       "      <td>1</td>\n",
       "      <td>30-03</td>\n",
       "      <td>53</td>\n",
       "      <td>64</td>\n",
       "      <td>1</td>\n",
       "      <td>1</td>\n",
       "      <td>EMPATE</td>\n",
       "      <td>17.0</td>\n",
       "      <td>14.0</td>\n",
       "      <td>0.00</td>\n",
       "      <td>0.00</td>\n",
       "      <td>0.00</td>\n",
       "      <td>0.00</td>\n",
       "    </tr>\n",
       "    <tr>\n",
       "      <th>6168</th>\n",
       "      <td>brasileiro-a</td>\n",
       "      <td>2003</td>\n",
       "      <td>1</td>\n",
       "      <td>30-03</td>\n",
       "      <td>79</td>\n",
       "      <td>46</td>\n",
       "      <td>0</td>\n",
       "      <td>0</td>\n",
       "      <td>EMPATE</td>\n",
       "      <td>20.0</td>\n",
       "      <td>19.0</td>\n",
       "      <td>0.00</td>\n",
       "      <td>0.00</td>\n",
       "      <td>0.00</td>\n",
       "      <td>0.00</td>\n",
       "    </tr>\n",
       "    <tr>\n",
       "      <th>6169</th>\n",
       "      <td>brasileiro-a</td>\n",
       "      <td>2003</td>\n",
       "      <td>1</td>\n",
       "      <td>30-03</td>\n",
       "      <td>68</td>\n",
       "      <td>81</td>\n",
       "      <td>2</td>\n",
       "      <td>2</td>\n",
       "      <td>EMPATE</td>\n",
       "      <td>12.0</td>\n",
       "      <td>5.0</td>\n",
       "      <td>0.00</td>\n",
       "      <td>0.00</td>\n",
       "      <td>0.00</td>\n",
       "      <td>0.00</td>\n",
       "    </tr>\n",
       "    <tr>\n",
       "      <th>6170</th>\n",
       "      <td>brasileiro-a</td>\n",
       "      <td>2003</td>\n",
       "      <td>1</td>\n",
       "      <td>30-03</td>\n",
       "      <td>57</td>\n",
       "      <td>65</td>\n",
       "      <td>1</td>\n",
       "      <td>1</td>\n",
       "      <td>EMPATE</td>\n",
       "      <td>16.0</td>\n",
       "      <td>13.0</td>\n",
       "      <td>0.00</td>\n",
       "      <td>0.00</td>\n",
       "      <td>0.00</td>\n",
       "      <td>0.00</td>\n",
       "    </tr>\n",
       "    <tr>\n",
       "      <th>6171</th>\n",
       "      <td>brasileiro-a</td>\n",
       "      <td>2003</td>\n",
       "      <td>1</td>\n",
       "      <td>30-03</td>\n",
       "      <td>77</td>\n",
       "      <td>55</td>\n",
       "      <td>2</td>\n",
       "      <td>2</td>\n",
       "      <td>EMPATE</td>\n",
       "      <td>9.0</td>\n",
       "      <td>6.0</td>\n",
       "      <td>0.00</td>\n",
       "      <td>0.00</td>\n",
       "      <td>0.00</td>\n",
       "      <td>0.00</td>\n",
       "    </tr>\n",
       "    <tr>\n",
       "      <th>6172</th>\n",
       "      <td>brasileiro-a</td>\n",
       "      <td>2003</td>\n",
       "      <td>1</td>\n",
       "      <td>30-03</td>\n",
       "      <td>54</td>\n",
       "      <td>66</td>\n",
       "      <td>1</td>\n",
       "      <td>1</td>\n",
       "      <td>EMPATE</td>\n",
       "      <td>18.0</td>\n",
       "      <td>15.0</td>\n",
       "      <td>0.00</td>\n",
       "      <td>0.00</td>\n",
       "      <td>0.00</td>\n",
       "      <td>0.00</td>\n",
       "    </tr>\n",
       "    <tr>\n",
       "      <th>6173</th>\n",
       "      <td>brasileiro-a</td>\n",
       "      <td>2003</td>\n",
       "      <td>1</td>\n",
       "      <td>29-03</td>\n",
       "      <td>45</td>\n",
       "      <td>51</td>\n",
       "      <td>2</td>\n",
       "      <td>0</td>\n",
       "      <td>MANDANTE</td>\n",
       "      <td>4.0</td>\n",
       "      <td>23.0</td>\n",
       "      <td>0.00</td>\n",
       "      <td>0.00</td>\n",
       "      <td>0.00</td>\n",
       "      <td>0.00</td>\n",
       "    </tr>\n",
       "    <tr>\n",
       "      <th>6174</th>\n",
       "      <td>brasileiro-a</td>\n",
       "      <td>2003</td>\n",
       "      <td>1</td>\n",
       "      <td>29-03</td>\n",
       "      <td>74</td>\n",
       "      <td>49</td>\n",
       "      <td>4</td>\n",
       "      <td>2</td>\n",
       "      <td>MANDANTE</td>\n",
       "      <td>2.0</td>\n",
       "      <td>21.0</td>\n",
       "      <td>0.00</td>\n",
       "      <td>0.00</td>\n",
       "      <td>0.00</td>\n",
       "      <td>0.00</td>\n",
       "    </tr>\n",
       "  </tbody>\n",
       "</table>\n",
       "<p>6175 rows × 15 columns</p>\n",
       "</div>"
      ],
      "text/plain": [
       "        campeonato   ano  rodada   data  mandante  visitante  gols_mandante  \\\n",
       "0     brasileiro-a  2018       5  14-05        42         59              2   \n",
       "1     brasileiro-a  2018       5  14-05        43         56              2   \n",
       "2     brasileiro-a  2018       5  13-05        44         61              3   \n",
       "3     brasileiro-a  2018       5  13-05        45         58              1   \n",
       "4     brasileiro-a  2018       5  13-05        46         55              2   \n",
       "5     brasileiro-a  2018       5  13-05        47         53              3   \n",
       "6     brasileiro-a  2018       5  13-05        48         60              1   \n",
       "7     brasileiro-a  2018       5  13-05        49         54              2   \n",
       "8     brasileiro-a  2018       5  13-05        50         52              2   \n",
       "9     brasileiro-a  2018       5  12-05        51         57              0   \n",
       "10    brasileiro-a  2018       4  07-05        47         61              1   \n",
       "11    brasileiro-a  2018       4  06-05        51         44              5   \n",
       "12    brasileiro-a  2018       4  06-05        52         46              2   \n",
       "13    brasileiro-a  2018       4  06-05        45         60              1   \n",
       "14    brasileiro-a  2018       4  06-05        50         42              1   \n",
       "15    brasileiro-a  2018       4  06-05        53         57              2   \n",
       "16    brasileiro-a  2018       4  06-05        54         59              1   \n",
       "17    brasileiro-a  2018       4  06-05        48         43              1   \n",
       "18    brasileiro-a  2018       4  05-05        55         58              2   \n",
       "19    brasileiro-a  2018       4  05-05        49         56              4   \n",
       "20    brasileiro-a  2018       3  30-04        56         54              2   \n",
       "21    brasileiro-a  2018       3  29-04        57         50              0   \n",
       "22    brasileiro-a  2018       3  29-04        58         48              1   \n",
       "23    brasileiro-a  2018       3  29-04        46         45              0   \n",
       "24    brasileiro-a  2018       3  29-04        43         53              0   \n",
       "25    brasileiro-a  2018       3  29-04        59         55              1   \n",
       "26    brasileiro-a  2018       3  29-04        60         47              0   \n",
       "27    brasileiro-a  2018       3  29-04        61         52              1   \n",
       "28    brasileiro-a  2018       3  28-04        42         51              2   \n",
       "29    brasileiro-a  2018       2  23-04        52         42              1   \n",
       "...            ...   ...     ...    ...       ...        ...            ...   \n",
       "6145  brasileiro-a  2003       3  13-04        54         49              2   \n",
       "6146  brasileiro-a  2003       3  12-04        48         81              6   \n",
       "6147  brasileiro-a  2003       3  12-04        45         58              1   \n",
       "6148  brasileiro-a  2003       3  12-04        57         46              2   \n",
       "6149  brasileiro-a  2003       3  12-04        44         66              2   \n",
       "6150  brasileiro-a  2003       4  09-04        81         44              2   \n",
       "6151  brasileiro-a  2003       2  06-04        49         68              6   \n",
       "6152  brasileiro-a  2003       2  06-04        46         53              1   \n",
       "6153  brasileiro-a  2003       2  06-04        66         48              3   \n",
       "6154  brasileiro-a  2003       2  06-04        61         45              3   \n",
       "6155  brasileiro-a  2003       2  06-04        81         54              1   \n",
       "6156  brasileiro-a  2003       2  06-04        65         77              1   \n",
       "6157  brasileiro-a  2003       2  06-04        80         70              3   \n",
       "6158  brasileiro-a  2003       2  06-04        55         50              2   \n",
       "6159  brasileiro-a  2003       2  05-04        51         74              3   \n",
       "6160  brasileiro-a  2003       2  05-04        58         44              0   \n",
       "6161  brasileiro-a  2003       2  05-04        64         57              0   \n",
       "6162  brasileiro-a  2003       2  05-04        59         79              1   \n",
       "6163  brasileiro-a  2003       1  30-03        48         58              0   \n",
       "6164  brasileiro-a  2003       1  30-03        44         61              2   \n",
       "6165  brasileiro-a  2003       1  30-03        70         59              2   \n",
       "6166  brasileiro-a  2003       1  30-03        50         80              2   \n",
       "6167  brasileiro-a  2003       1  30-03        53         64              1   \n",
       "6168  brasileiro-a  2003       1  30-03        79         46              0   \n",
       "6169  brasileiro-a  2003       1  30-03        68         81              2   \n",
       "6170  brasileiro-a  2003       1  30-03        57         65              1   \n",
       "6171  brasileiro-a  2003       1  30-03        77         55              2   \n",
       "6172  brasileiro-a  2003       1  30-03        54         66              1   \n",
       "6173  brasileiro-a  2003       1  29-03        45         51              2   \n",
       "6174  brasileiro-a  2003       1  29-03        74         49              4   \n",
       "\n",
       "      gols_visitante  resultado  posicao_m  posicao_v  aproveitamento_5r_v  \\\n",
       "0                  1   MANDANTE        6.0        9.0                 0.78   \n",
       "1                  2     EMPATE       19.0       10.0                 0.33   \n",
       "2                  1   MANDANTE       13.0       20.0                 0.11   \n",
       "3                  2  VISITANTE       15.0        3.0                 0.78   \n",
       "4                  2     EMPATE       17.0       12.0                 0.33   \n",
       "5                  2   MANDANTE       14.0        1.0                 1.00   \n",
       "6                  0   MANDANTE        2.0        5.0                 0.78   \n",
       "7                  3  VISITANTE        7.0       18.0                 0.00   \n",
       "8                  0   MANDANTE        8.0       11.0                 0.78   \n",
       "9                  0     EMPATE        4.0       16.0                 0.11   \n",
       "10                 1     EMPATE       17.0       20.0                 0.00   \n",
       "11                 1   MANDANTE        5.0       16.0                 0.00   \n",
       "12                 0   MANDANTE        8.0       15.0                 0.67   \n",
       "13                 3  VISITANTE       11.0        2.0                 0.67   \n",
       "14                 0   MANDANTE       14.0       12.0                 0.67   \n",
       "15                 0   MANDANTE        1.0       13.0                 0.17   \n",
       "16                 2  VISITANTE       19.0        7.0                 0.67   \n",
       "17                 1     EMPATE        3.0       18.0                 0.17   \n",
       "18                 2     EMPATE       10.0        6.0                 1.00   \n",
       "19                 1   MANDANTE        4.0        9.0                 0.50   \n",
       "20                 1   MANDANTE        3.0       17.0                 0.00   \n",
       "21                 0     EMPATE       10.0       18.0                 0.00   \n",
       "22                 0   MANDANTE        4.0        2.0                 1.00   \n",
       "23                 0     EMPATE       13.0        5.0                 0.33   \n",
       "24                 3  VISITANTE       19.0        1.0                 1.00   \n",
       "25                 1     EMPATE       11.0        8.0                 0.33   \n",
       "26                 0     EMPATE        7.0       16.0                 0.33   \n",
       "27                 2  VISITANTE       20.0       14.0                 0.33   \n",
       "28                 1   MANDANTE        6.0       12.0                 0.33   \n",
       "29                 1     EMPATE       17.0       14.0                 0.00   \n",
       "...              ...        ...        ...        ...                  ...   \n",
       "6145               1   MANDANTE        5.0       15.0                 1.00   \n",
       "6146               1   MANDANTE        9.0       24.0                 0.00   \n",
       "6147               2  VISITANTE       16.0        3.0                 0.33   \n",
       "6148               0   MANDANTE        4.0       22.0                 0.00   \n",
       "6149               0   MANDANTE        7.0       20.0                 0.33   \n",
       "6150               1   MANDANTE       20.0       12.0                 0.67   \n",
       "6151               4   MANDANTE       10.0       21.0                 0.00   \n",
       "6152               2  VISITANTE       20.0        5.0                 0.00   \n",
       "6153               3     EMPATE       14.0       24.0                 0.00   \n",
       "6154               0   MANDANTE        1.0       13.0                 0.00   \n",
       "6155               2  VISITANTE       17.0        6.0                 0.00   \n",
       "6156               0   MANDANTE        7.0       18.0                 0.00   \n",
       "6157               2   MANDANTE        4.0        9.0                 0.00   \n",
       "6158               4  VISITANTE       22.0        3.0                 0.00   \n",
       "6159               1   MANDANTE       12.0       11.0                 0.00   \n",
       "6160               0     EMPATE        2.0       15.0                 0.00   \n",
       "6161               1  VISITANTE       19.0        8.0                 0.00   \n",
       "6162               1     EMPATE       23.0       16.0                 0.00   \n",
       "6163               3  VISITANTE       24.0        1.0                 0.00   \n",
       "6164               2     EMPATE       11.0        7.0                 0.00   \n",
       "6165               0   MANDANTE        3.0       22.0                 0.00   \n",
       "6166               2     EMPATE       10.0        8.0                 0.00   \n",
       "6167               1     EMPATE       17.0       14.0                 0.00   \n",
       "6168               0     EMPATE       20.0       19.0                 0.00   \n",
       "6169               2     EMPATE       12.0        5.0                 0.00   \n",
       "6170               1     EMPATE       16.0       13.0                 0.00   \n",
       "6171               2     EMPATE        9.0        6.0                 0.00   \n",
       "6172               1     EMPATE       18.0       15.0                 0.00   \n",
       "6173               0   MANDANTE        4.0       23.0                 0.00   \n",
       "6174               2   MANDANTE        2.0       21.0                 0.00   \n",
       "\n",
       "      aproveitamento_5r_m  aproveitamento_10r_v  aproveitamento_10r_m  \n",
       "0                    0.44                  0.78                  0.44  \n",
       "1                    0.22                  0.33                  0.22  \n",
       "2                    0.00                  0.11                  0.00  \n",
       "3                    0.22                  0.78                  0.22  \n",
       "4                    0.44                  0.33                  0.44  \n",
       "5                    0.33                  1.00                  0.33  \n",
       "6                    0.44                  0.78                  0.44  \n",
       "7                    0.44                  0.00                  0.44  \n",
       "8                    0.44                  0.78                  0.44  \n",
       "9                    0.44                  0.11                  0.44  \n",
       "10                   0.33                  0.00                  0.33  \n",
       "11                   0.17                  0.00                  0.17  \n",
       "12                   0.67                  0.67                  0.67  \n",
       "13                   0.33                  0.67                  0.33  \n",
       "14                   0.17                  0.67                  0.17  \n",
       "15                   1.00                  0.17                  1.00  \n",
       "16                   0.00                  0.67                  0.00  \n",
       "17                   0.50                  0.17                  0.50  \n",
       "18                   0.33                  1.00                  0.33  \n",
       "19                   0.17                  0.50                  0.17  \n",
       "20                   0.00                  0.00                  0.00  \n",
       "21                   0.00                  0.00                  0.00  \n",
       "22                   1.00                  1.00                  1.00  \n",
       "23                   1.00                  0.33                  1.00  \n",
       "24                   0.33                  1.00                  0.33  \n",
       "25                   1.00                  0.33                  1.00  \n",
       "26                   1.00                  0.33                  1.00  \n",
       "27                   0.00                  0.33                  0.00  \n",
       "28                   0.33                  0.33                  0.33  \n",
       "29                   0.00                  0.00                  0.00  \n",
       "...                   ...                   ...                   ...  \n",
       "6145                 1.00                  1.00                  1.00  \n",
       "6146                 0.33                  0.00                  0.33  \n",
       "6147                 0.00                  0.33                  0.00  \n",
       "6148                 1.00                  0.00                  1.00  \n",
       "6149                 0.33                  0.33                  0.33  \n",
       "6150                 0.00                  0.67                  0.00  \n",
       "6151                 0.00                  0.00                  0.00  \n",
       "6152                 0.00                  0.00                  0.00  \n",
       "6153                 0.00                  0.00                  0.00  \n",
       "6154                 0.00                  0.00                  0.00  \n",
       "6155                 0.00                  0.00                  0.00  \n",
       "6156                 0.00                  0.00                  0.00  \n",
       "6157                 0.00                  0.00                  0.00  \n",
       "6158                 0.00                  0.00                  0.00  \n",
       "6159                 0.00                  0.00                  0.00  \n",
       "6160                 0.00                  0.00                  0.00  \n",
       "6161                 0.00                  0.00                  0.00  \n",
       "6162                 0.00                  0.00                  0.00  \n",
       "6163                 0.00                  0.00                  0.00  \n",
       "6164                 0.00                  0.00                  0.00  \n",
       "6165                 0.00                  0.00                  0.00  \n",
       "6166                 0.00                  0.00                  0.00  \n",
       "6167                 0.00                  0.00                  0.00  \n",
       "6168                 0.00                  0.00                  0.00  \n",
       "6169                 0.00                  0.00                  0.00  \n",
       "6170                 0.00                  0.00                  0.00  \n",
       "6171                 0.00                  0.00                  0.00  \n",
       "6172                 0.00                  0.00                  0.00  \n",
       "6173                 0.00                  0.00                  0.00  \n",
       "6174                 0.00                  0.00                  0.00  \n",
       "\n",
       "[6175 rows x 15 columns]"
      ]
     },
     "execution_count": 592,
     "metadata": {},
     "output_type": "execute_result"
    }
   ],
   "source": [
    "jogos"
   ]
  },
  {
   "cell_type": "code",
   "execution_count": 593,
   "metadata": {},
   "outputs": [
    {
     "data": {
      "text/plain": [
       "5"
      ]
     },
     "execution_count": 593,
     "metadata": {},
     "output_type": "execute_result"
    }
   ],
   "source": [
    "rod"
   ]
  },
  {
   "cell_type": "code",
   "execution_count": 594,
   "metadata": {},
   "outputs": [
    {
     "data": {
      "text/plain": [
       "2018"
      ]
     },
     "execution_count": 594,
     "metadata": {},
     "output_type": "execute_result"
    }
   ],
   "source": [
    "ano"
   ]
  },
  {
   "cell_type": "code",
   "execution_count": 595,
   "metadata": {},
   "outputs": [],
   "source": [
    "rodada_DF[\"posicao_m\"] = rodada_DF.apply(lambda row: getPosicao(jogos, ano, rod, row[\"mandante\"]),axis=1)"
   ]
  },
  {
   "cell_type": "code",
   "execution_count": 596,
   "metadata": {},
   "outputs": [
    {
     "data": {
      "text/html": [
       "<div>\n",
       "<style>\n",
       "    .dataframe thead tr:only-child th {\n",
       "        text-align: right;\n",
       "    }\n",
       "\n",
       "    .dataframe thead th {\n",
       "        text-align: left;\n",
       "    }\n",
       "\n",
       "    .dataframe tbody tr th {\n",
       "        vertical-align: top;\n",
       "    }\n",
       "</style>\n",
       "<table border=\"1\" class=\"dataframe\">\n",
       "  <thead>\n",
       "    <tr style=\"text-align: right;\">\n",
       "      <th></th>\n",
       "      <th>mandante</th>\n",
       "      <th>visitante</th>\n",
       "      <th>placar</th>\n",
       "      <th>ano</th>\n",
       "      <th>rodada</th>\n",
       "      <th>posicao_m</th>\n",
       "    </tr>\n",
       "  </thead>\n",
       "  <tbody>\n",
       "    <tr>\n",
       "      <th>0</th>\n",
       "      <td>57</td>\n",
       "      <td>47</td>\n",
       "      <td>NaN</td>\n",
       "      <td>2018</td>\n",
       "      <td>6</td>\n",
       "      <td>16.0</td>\n",
       "    </tr>\n",
       "    <tr>\n",
       "      <th>1</th>\n",
       "      <td>59</td>\n",
       "      <td>45</td>\n",
       "      <td>NaN</td>\n",
       "      <td>2018</td>\n",
       "      <td>6</td>\n",
       "      <td>9.0</td>\n",
       "    </tr>\n",
       "    <tr>\n",
       "      <th>2</th>\n",
       "      <td>56</td>\n",
       "      <td>42</td>\n",
       "      <td>NaN</td>\n",
       "      <td>2018</td>\n",
       "      <td>6</td>\n",
       "      <td>10.0</td>\n",
       "    </tr>\n",
       "    <tr>\n",
       "      <th>3</th>\n",
       "      <td>61</td>\n",
       "      <td>51</td>\n",
       "      <td>\\t</td>\n",
       "      <td>2018</td>\n",
       "      <td>6</td>\n",
       "      <td>20.0</td>\n",
       "    </tr>\n",
       "    <tr>\n",
       "      <th>4</th>\n",
       "      <td>55</td>\n",
       "      <td>44</td>\n",
       "      <td>NaN</td>\n",
       "      <td>2018</td>\n",
       "      <td>6</td>\n",
       "      <td>12.0</td>\n",
       "    </tr>\n",
       "    <tr>\n",
       "      <th>5</th>\n",
       "      <td>52</td>\n",
       "      <td>48</td>\n",
       "      <td>NaN</td>\n",
       "      <td>2018</td>\n",
       "      <td>6</td>\n",
       "      <td>11.0</td>\n",
       "    </tr>\n",
       "    <tr>\n",
       "      <th>6</th>\n",
       "      <td>54</td>\n",
       "      <td>43</td>\n",
       "      <td>NaN</td>\n",
       "      <td>2018</td>\n",
       "      <td>6</td>\n",
       "      <td>18.0</td>\n",
       "    </tr>\n",
       "    <tr>\n",
       "      <th>7</th>\n",
       "      <td>60</td>\n",
       "      <td>46</td>\n",
       "      <td>NaN</td>\n",
       "      <td>2018</td>\n",
       "      <td>6</td>\n",
       "      <td>5.0</td>\n",
       "    </tr>\n",
       "    <tr>\n",
       "      <th>8</th>\n",
       "      <td>53</td>\n",
       "      <td>49</td>\n",
       "      <td>NaN</td>\n",
       "      <td>2018</td>\n",
       "      <td>6</td>\n",
       "      <td>1.0</td>\n",
       "    </tr>\n",
       "    <tr>\n",
       "      <th>9</th>\n",
       "      <td>58</td>\n",
       "      <td>50</td>\n",
       "      <td>NaN</td>\n",
       "      <td>2018</td>\n",
       "      <td>6</td>\n",
       "      <td>3.0</td>\n",
       "    </tr>\n",
       "  </tbody>\n",
       "</table>\n",
       "</div>"
      ],
      "text/plain": [
       "   mandante  visitante placar   ano  rodada  posicao_m\n",
       "0        57         47    NaN  2018       6       16.0\n",
       "1        59         45    NaN  2018       6        9.0\n",
       "2        56         42    NaN  2018       6       10.0\n",
       "3        61         51     \\t  2018       6       20.0\n",
       "4        55         44    NaN  2018       6       12.0\n",
       "5        52         48    NaN  2018       6       11.0\n",
       "6        54         43    NaN  2018       6       18.0\n",
       "7        60         46    NaN  2018       6        5.0\n",
       "8        53         49    NaN  2018       6        1.0\n",
       "9        58         50    NaN  2018       6        3.0"
      ]
     },
     "execution_count": 596,
     "metadata": {},
     "output_type": "execute_result"
    }
   ],
   "source": [
    "rodada_DF.head(10)"
   ]
  },
  {
   "cell_type": "code",
   "execution_count": 597,
   "metadata": {},
   "outputs": [],
   "source": [
    "rodada_DF[\"posicao_v\"] = rodada_DF.apply(lambda row: getPosicao(jogos, ano, rod, row[\"visitante\"]),axis=1)"
   ]
  },
  {
   "cell_type": "code",
   "execution_count": 598,
   "metadata": {},
   "outputs": [],
   "source": [
    "rodada_DF[\"aproveitamento_10r_m\"] = rodada_DF.apply(lambda row: getAproveitamento(jogos, ano, rod, row[\"mandante\"]),axis=1)"
   ]
  },
  {
   "cell_type": "code",
   "execution_count": 599,
   "metadata": {
    "collapsed": true
   },
   "outputs": [],
   "source": [
    "rodada_DF[\"aproveitamento_10r_v\"] = rodada_DF.apply(lambda row: getAproveitamento(jogos, ano, rod, row[\"visitante\"]),axis=1)"
   ]
  },
  {
   "cell_type": "code",
   "execution_count": 600,
   "metadata": {
    "collapsed": true
   },
   "outputs": [],
   "source": [
    "del rodada_DF[\"placar\"]"
   ]
  },
  {
   "cell_type": "code",
   "execution_count": 601,
   "metadata": {},
   "outputs": [
    {
     "data": {
      "text/html": [
       "<div>\n",
       "<style>\n",
       "    .dataframe thead tr:only-child th {\n",
       "        text-align: right;\n",
       "    }\n",
       "\n",
       "    .dataframe thead th {\n",
       "        text-align: left;\n",
       "    }\n",
       "\n",
       "    .dataframe tbody tr th {\n",
       "        vertical-align: top;\n",
       "    }\n",
       "</style>\n",
       "<table border=\"1\" class=\"dataframe\">\n",
       "  <thead>\n",
       "    <tr style=\"text-align: right;\">\n",
       "      <th></th>\n",
       "      <th>mandante</th>\n",
       "      <th>visitante</th>\n",
       "      <th>ano</th>\n",
       "      <th>rodada</th>\n",
       "      <th>posicao_m</th>\n",
       "      <th>posicao_v</th>\n",
       "      <th>aproveitamento_10r_m</th>\n",
       "      <th>aproveitamento_10r_v</th>\n",
       "    </tr>\n",
       "  </thead>\n",
       "  <tbody>\n",
       "    <tr>\n",
       "      <th>0</th>\n",
       "      <td>57</td>\n",
       "      <td>47</td>\n",
       "      <td>2018</td>\n",
       "      <td>6</td>\n",
       "      <td>16.0</td>\n",
       "      <td>14.0</td>\n",
       "      <td>0.11</td>\n",
       "      <td>0.33</td>\n",
       "    </tr>\n",
       "    <tr>\n",
       "      <th>1</th>\n",
       "      <td>59</td>\n",
       "      <td>45</td>\n",
       "      <td>2018</td>\n",
       "      <td>6</td>\n",
       "      <td>9.0</td>\n",
       "      <td>15.0</td>\n",
       "      <td>0.78</td>\n",
       "      <td>0.22</td>\n",
       "    </tr>\n",
       "    <tr>\n",
       "      <th>2</th>\n",
       "      <td>56</td>\n",
       "      <td>42</td>\n",
       "      <td>2018</td>\n",
       "      <td>6</td>\n",
       "      <td>10.0</td>\n",
       "      <td>6.0</td>\n",
       "      <td>0.33</td>\n",
       "      <td>0.44</td>\n",
       "    </tr>\n",
       "    <tr>\n",
       "      <th>3</th>\n",
       "      <td>61</td>\n",
       "      <td>51</td>\n",
       "      <td>2018</td>\n",
       "      <td>6</td>\n",
       "      <td>20.0</td>\n",
       "      <td>4.0</td>\n",
       "      <td>0.11</td>\n",
       "      <td>0.44</td>\n",
       "    </tr>\n",
       "    <tr>\n",
       "      <th>4</th>\n",
       "      <td>55</td>\n",
       "      <td>44</td>\n",
       "      <td>2018</td>\n",
       "      <td>6</td>\n",
       "      <td>12.0</td>\n",
       "      <td>13.0</td>\n",
       "      <td>0.33</td>\n",
       "      <td>0.00</td>\n",
       "    </tr>\n",
       "    <tr>\n",
       "      <th>5</th>\n",
       "      <td>52</td>\n",
       "      <td>48</td>\n",
       "      <td>2018</td>\n",
       "      <td>6</td>\n",
       "      <td>11.0</td>\n",
       "      <td>2.0</td>\n",
       "      <td>0.78</td>\n",
       "      <td>0.44</td>\n",
       "    </tr>\n",
       "    <tr>\n",
       "      <th>6</th>\n",
       "      <td>54</td>\n",
       "      <td>43</td>\n",
       "      <td>2018</td>\n",
       "      <td>6</td>\n",
       "      <td>18.0</td>\n",
       "      <td>19.0</td>\n",
       "      <td>0.00</td>\n",
       "      <td>0.22</td>\n",
       "    </tr>\n",
       "    <tr>\n",
       "      <th>7</th>\n",
       "      <td>60</td>\n",
       "      <td>46</td>\n",
       "      <td>2018</td>\n",
       "      <td>6</td>\n",
       "      <td>5.0</td>\n",
       "      <td>17.0</td>\n",
       "      <td>0.78</td>\n",
       "      <td>0.44</td>\n",
       "    </tr>\n",
       "    <tr>\n",
       "      <th>8</th>\n",
       "      <td>53</td>\n",
       "      <td>49</td>\n",
       "      <td>2018</td>\n",
       "      <td>6</td>\n",
       "      <td>1.0</td>\n",
       "      <td>7.0</td>\n",
       "      <td>1.00</td>\n",
       "      <td>0.44</td>\n",
       "    </tr>\n",
       "    <tr>\n",
       "      <th>9</th>\n",
       "      <td>58</td>\n",
       "      <td>50</td>\n",
       "      <td>2018</td>\n",
       "      <td>6</td>\n",
       "      <td>3.0</td>\n",
       "      <td>8.0</td>\n",
       "      <td>0.78</td>\n",
       "      <td>0.44</td>\n",
       "    </tr>\n",
       "  </tbody>\n",
       "</table>\n",
       "</div>"
      ],
      "text/plain": [
       "   mandante  visitante   ano  rodada  posicao_m  posicao_v  \\\n",
       "0        57         47  2018       6       16.0       14.0   \n",
       "1        59         45  2018       6        9.0       15.0   \n",
       "2        56         42  2018       6       10.0        6.0   \n",
       "3        61         51  2018       6       20.0        4.0   \n",
       "4        55         44  2018       6       12.0       13.0   \n",
       "5        52         48  2018       6       11.0        2.0   \n",
       "6        54         43  2018       6       18.0       19.0   \n",
       "7        60         46  2018       6        5.0       17.0   \n",
       "8        53         49  2018       6        1.0        7.0   \n",
       "9        58         50  2018       6        3.0        8.0   \n",
       "\n",
       "   aproveitamento_10r_m  aproveitamento_10r_v  \n",
       "0                  0.11                  0.33  \n",
       "1                  0.78                  0.22  \n",
       "2                  0.33                  0.44  \n",
       "3                  0.11                  0.44  \n",
       "4                  0.33                  0.00  \n",
       "5                  0.78                  0.44  \n",
       "6                  0.00                  0.22  \n",
       "7                  0.78                  0.44  \n",
       "8                  1.00                  0.44  \n",
       "9                  0.78                  0.44  "
      ]
     },
     "execution_count": 601,
     "metadata": {},
     "output_type": "execute_result"
    }
   ],
   "source": [
    "rodada_DF"
   ]
  },
  {
   "cell_type": "code",
   "execution_count": 602,
   "metadata": {
    "collapsed": true
   },
   "outputs": [],
   "source": [
    "rodada[\"prediction_RFC\"] = rf_model.predict(rodada_DF[[\"ano\", \"rodada\", \"mandante\", \"visitante\", \"posicao_m\", \"posicao_v\", \"aproveitamento_10r_m\", \"aproveitamento_10r_v\"]].values)"
   ]
  },
  {
   "cell_type": "code",
   "execution_count": 603,
   "metadata": {
    "collapsed": true
   },
   "outputs": [],
   "source": [
    "rodada[\"prediction_ABC\"] = abc_model.predict(rodada_DF[[\"ano\", \"rodada\", \"mandante\", \"visitante\", \"posicao_m\", \"posicao_v\", \"aproveitamento_10r_m\", \"aproveitamento_10r_v\"]].values)"
   ]
  },
  {
   "cell_type": "code",
   "execution_count": 604,
   "metadata": {
    "scrolled": false
   },
   "outputs": [
    {
     "data": {
      "text/html": [
       "<div>\n",
       "<style>\n",
       "    .dataframe thead tr:only-child th {\n",
       "        text-align: right;\n",
       "    }\n",
       "\n",
       "    .dataframe thead th {\n",
       "        text-align: left;\n",
       "    }\n",
       "\n",
       "    .dataframe tbody tr th {\n",
       "        vertical-align: top;\n",
       "    }\n",
       "</style>\n",
       "<table border=\"1\" class=\"dataframe\">\n",
       "  <thead>\n",
       "    <tr style=\"text-align: right;\">\n",
       "      <th></th>\n",
       "      <th>mandante</th>\n",
       "      <th>visitante</th>\n",
       "      <th>placar</th>\n",
       "      <th>prediction_RFC</th>\n",
       "      <th>prediction_ABC</th>\n",
       "    </tr>\n",
       "  </thead>\n",
       "  <tbody>\n",
       "    <tr>\n",
       "      <th>0</th>\n",
       "      <td>Internacional</td>\n",
       "      <td>Chapecoense</td>\n",
       "      <td>NaN</td>\n",
       "      <td>VISITANTE</td>\n",
       "      <td>VISITANTE</td>\n",
       "    </tr>\n",
       "    <tr>\n",
       "      <th>1</th>\n",
       "      <td>Fluminense</td>\n",
       "      <td>Atlético-PR</td>\n",
       "      <td>NaN</td>\n",
       "      <td>MANDANTE</td>\n",
       "      <td>MANDANTE</td>\n",
       "    </tr>\n",
       "    <tr>\n",
       "      <th>2</th>\n",
       "      <td>América-MG</td>\n",
       "      <td>Botafogo</td>\n",
       "      <td>NaN</td>\n",
       "      <td>VISITANTE</td>\n",
       "      <td>VISITANTE</td>\n",
       "    </tr>\n",
       "    <tr>\n",
       "      <th>3</th>\n",
       "      <td>Paraná</td>\n",
       "      <td>Grêmio</td>\n",
       "      <td>\\t</td>\n",
       "      <td>VISITANTE</td>\n",
       "      <td>VISITANTE</td>\n",
       "    </tr>\n",
       "    <tr>\n",
       "      <th>4</th>\n",
       "      <td>São Paulo</td>\n",
       "      <td>Santos</td>\n",
       "      <td>NaN</td>\n",
       "      <td>MANDANTE</td>\n",
       "      <td>MANDANTE</td>\n",
       "    </tr>\n",
       "    <tr>\n",
       "      <th>5</th>\n",
       "      <td>Sport Recife</td>\n",
       "      <td>Corinthians</td>\n",
       "      <td>NaN</td>\n",
       "      <td>EMPATE</td>\n",
       "      <td>EMPATE</td>\n",
       "    </tr>\n",
       "    <tr>\n",
       "      <th>6</th>\n",
       "      <td>Vitória</td>\n",
       "      <td>Ceará</td>\n",
       "      <td>NaN</td>\n",
       "      <td>EMPATE</td>\n",
       "      <td>MANDANTE</td>\n",
       "    </tr>\n",
       "    <tr>\n",
       "      <th>7</th>\n",
       "      <td>Palmeiras</td>\n",
       "      <td>Bahia</td>\n",
       "      <td>NaN</td>\n",
       "      <td>MANDANTE</td>\n",
       "      <td>MANDANTE</td>\n",
       "    </tr>\n",
       "    <tr>\n",
       "      <th>8</th>\n",
       "      <td>Flamengo</td>\n",
       "      <td>Vasco</td>\n",
       "      <td>NaN</td>\n",
       "      <td>MANDANTE</td>\n",
       "      <td>MANDANTE</td>\n",
       "    </tr>\n",
       "    <tr>\n",
       "      <th>9</th>\n",
       "      <td>Atlético-MG</td>\n",
       "      <td>Cruzeiro</td>\n",
       "      <td>NaN</td>\n",
       "      <td>MANDANTE</td>\n",
       "      <td>MANDANTE</td>\n",
       "    </tr>\n",
       "  </tbody>\n",
       "</table>\n",
       "</div>"
      ],
      "text/plain": [
       "        mandante    visitante placar prediction_RFC prediction_ABC\n",
       "0  Internacional  Chapecoense    NaN      VISITANTE      VISITANTE\n",
       "1     Fluminense  Atlético-PR    NaN       MANDANTE       MANDANTE\n",
       "2     América-MG     Botafogo    NaN      VISITANTE      VISITANTE\n",
       "3         Paraná       Grêmio     \\t      VISITANTE      VISITANTE\n",
       "4      São Paulo       Santos    NaN       MANDANTE       MANDANTE\n",
       "5   Sport Recife  Corinthians    NaN         EMPATE         EMPATE\n",
       "6        Vitória        Ceará    NaN         EMPATE       MANDANTE\n",
       "7      Palmeiras        Bahia    NaN       MANDANTE       MANDANTE\n",
       "8       Flamengo        Vasco    NaN       MANDANTE       MANDANTE\n",
       "9    Atlético-MG     Cruzeiro    NaN       MANDANTE       MANDANTE"
      ]
     },
     "execution_count": 604,
     "metadata": {},
     "output_type": "execute_result"
    }
   ],
   "source": [
    "rodada"
   ]
  },
  {
   "cell_type": "code",
   "execution_count": 605,
   "metadata": {},
   "outputs": [],
   "source": [
    "rodada.to_csv(path_or_buf=\"data/predicao-rodada-6.csv\",sep=\";\")"
   ]
  },
  {
   "cell_type": "code",
   "execution_count": null,
   "metadata": {
    "collapsed": true
   },
   "outputs": [],
   "source": []
  },
  {
   "cell_type": "code",
   "execution_count": null,
   "metadata": {
    "collapsed": true
   },
   "outputs": [],
   "source": []
  },
  {
   "cell_type": "code",
   "execution_count": null,
   "metadata": {
    "collapsed": true
   },
   "outputs": [],
   "source": []
  },
  {
   "cell_type": "code",
   "execution_count": null,
   "metadata": {
    "collapsed": true
   },
   "outputs": [],
   "source": []
  },
  {
   "cell_type": "code",
   "execution_count": null,
   "metadata": {
    "collapsed": true
   },
   "outputs": [],
   "source": []
  },
  {
   "cell_type": "code",
   "execution_count": null,
   "metadata": {
    "collapsed": true
   },
   "outputs": [],
   "source": []
  },
  {
   "cell_type": "code",
   "execution_count": null,
   "metadata": {
    "collapsed": true
   },
   "outputs": [],
   "source": []
  },
  {
   "cell_type": "code",
   "execution_count": null,
   "metadata": {
    "collapsed": true
   },
   "outputs": [],
   "source": []
  },
  {
   "cell_type": "code",
   "execution_count": null,
   "metadata": {
    "collapsed": true
   },
   "outputs": [],
   "source": []
  },
  {
   "cell_type": "code",
   "execution_count": null,
   "metadata": {
    "collapsed": true
   },
   "outputs": [],
   "source": []
  },
  {
   "cell_type": "code",
   "execution_count": null,
   "metadata": {
    "collapsed": true
   },
   "outputs": [],
   "source": []
  },
  {
   "cell_type": "code",
   "execution_count": null,
   "metadata": {
    "collapsed": true
   },
   "outputs": [],
   "source": []
  },
  {
   "cell_type": "code",
   "execution_count": null,
   "metadata": {
    "collapsed": true
   },
   "outputs": [],
   "source": []
  },
  {
   "cell_type": "code",
   "execution_count": null,
   "metadata": {
    "collapsed": true
   },
   "outputs": [],
   "source": []
  },
  {
   "cell_type": "code",
   "execution_count": null,
   "metadata": {
    "collapsed": true
   },
   "outputs": [],
   "source": []
  },
  {
   "cell_type": "code",
   "execution_count": null,
   "metadata": {
    "collapsed": true
   },
   "outputs": [],
   "source": []
  },
  {
   "cell_type": "code",
   "execution_count": null,
   "metadata": {
    "collapsed": true
   },
   "outputs": [],
   "source": []
  },
  {
   "cell_type": "code",
   "execution_count": null,
   "metadata": {
    "collapsed": true
   },
   "outputs": [],
   "source": []
  },
  {
   "cell_type": "code",
   "execution_count": null,
   "metadata": {
    "collapsed": true
   },
   "outputs": [],
   "source": []
  },
  {
   "cell_type": "code",
   "execution_count": null,
   "metadata": {
    "collapsed": true
   },
   "outputs": [],
   "source": []
  },
  {
   "cell_type": "code",
   "execution_count": null,
   "metadata": {
    "collapsed": true
   },
   "outputs": [],
   "source": []
  }
 ],
 "metadata": {
  "kernelspec": {
   "display_name": "Python 3",
   "language": "python",
   "name": "python3"
  },
  "language_info": {
   "codemirror_mode": {
    "name": "ipython",
    "version": 3
   },
   "file_extension": ".py",
   "mimetype": "text/x-python",
   "name": "python",
   "nbconvert_exporter": "python",
   "pygments_lexer": "ipython3",
   "version": "3.6.2"
  }
 },
 "nbformat": 4,
 "nbformat_minor": 2
}
