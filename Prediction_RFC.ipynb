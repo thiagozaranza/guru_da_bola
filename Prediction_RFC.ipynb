{
 "cells": [
  {
   "cell_type": "markdown",
   "metadata": {},
   "source": [
    "# Campeonato Brasileiro - Série A"
   ]
  },
  {
   "cell_type": "markdown",
   "metadata": {},
   "source": [
    "## Radom Forest Classifier"
   ]
  },
  {
   "cell_type": "markdown",
   "metadata": {},
   "source": [
    "### 1. Import packages"
   ]
  },
  {
   "cell_type": "code",
   "execution_count": 119,
   "metadata": {
    "collapsed": true
   },
   "outputs": [],
   "source": [
    "import matplotlib.pyplot as plt\n",
    "import numpy as np\n",
    "import pandas as pd"
   ]
  },
  {
   "cell_type": "code",
   "execution_count": 120,
   "metadata": {
    "collapsed": true
   },
   "outputs": [],
   "source": [
    "from sklearn.ensemble import RandomForestClassifier"
   ]
  },
  {
   "cell_type": "code",
   "execution_count": 121,
   "metadata": {
    "collapsed": true
   },
   "outputs": [],
   "source": [
    "from sklearn.ensemble import AdaBoostClassifier"
   ]
  },
  {
   "cell_type": "code",
   "execution_count": 122,
   "metadata": {
    "collapsed": true
   },
   "outputs": [],
   "source": [
    "from sklearn.model_selection import cross_val_score"
   ]
  },
  {
   "cell_type": "code",
   "execution_count": 123,
   "metadata": {
    "collapsed": true
   },
   "outputs": [],
   "source": [
    "from sklearn.metrics import confusion_matrix\n",
    "from sklearn.metrics import accuracy_score,precision_score, recall_score\n",
    "from sklearn.metrics import f1_score"
   ]
  },
  {
   "cell_type": "code",
   "execution_count": 124,
   "metadata": {
    "collapsed": true
   },
   "outputs": [],
   "source": [
    "from sklearn import datasets"
   ]
  },
  {
   "cell_type": "markdown",
   "metadata": {},
   "source": [
    "### 2. Reading data"
   ]
  },
  {
   "cell_type": "code",
   "execution_count": 125,
   "metadata": {
    "collapsed": true
   },
   "outputs": [],
   "source": [
    "jogos = pd.read_csv(\"data/jogos-resultado-posicao.csv\",sep=\",\")"
   ]
  },
  {
   "cell_type": "code",
   "execution_count": 126,
   "metadata": {
    "collapsed": true
   },
   "outputs": [],
   "source": [
    "del jogos[\"Unnamed: 0\"]"
   ]
  },
  {
   "cell_type": "code",
   "execution_count": 127,
   "metadata": {
    "collapsed": true
   },
   "outputs": [],
   "source": [
    "#jogos.query('ano > 2012', inplace=True)"
   ]
  },
  {
   "cell_type": "code",
   "execution_count": 128,
   "metadata": {},
   "outputs": [
    {
     "data": {
      "text/html": [
       "<div>\n",
       "<style>\n",
       "    .dataframe thead tr:only-child th {\n",
       "        text-align: right;\n",
       "    }\n",
       "\n",
       "    .dataframe thead th {\n",
       "        text-align: left;\n",
       "    }\n",
       "\n",
       "    .dataframe tbody tr th {\n",
       "        vertical-align: top;\n",
       "    }\n",
       "</style>\n",
       "<table border=\"1\" class=\"dataframe\">\n",
       "  <thead>\n",
       "    <tr style=\"text-align: right;\">\n",
       "      <th></th>\n",
       "      <th>campeonato</th>\n",
       "      <th>ano</th>\n",
       "      <th>rodada</th>\n",
       "      <th>data</th>\n",
       "      <th>mandante</th>\n",
       "      <th>visitante</th>\n",
       "      <th>gols_mandante</th>\n",
       "      <th>gols_visitante</th>\n",
       "      <th>resultado</th>\n",
       "      <th>posicao_m</th>\n",
       "      <th>posicao_v</th>\n",
       "      <th>aproveitamento_5r_v</th>\n",
       "      <th>aproveitamento_5r_m</th>\n",
       "      <th>aproveitamento_10r_v</th>\n",
       "      <th>aproveitamento_10r_m</th>\n",
       "    </tr>\n",
       "  </thead>\n",
       "  <tbody>\n",
       "    <tr>\n",
       "      <th>0</th>\n",
       "      <td>brasileiro-a</td>\n",
       "      <td>2017</td>\n",
       "      <td>30</td>\n",
       "      <td>23-10</td>\n",
       "      <td>Botafogo</td>\n",
       "      <td>Corinthians</td>\n",
       "      <td>2</td>\n",
       "      <td>1</td>\n",
       "      <td>MANDANTE</td>\n",
       "      <td>6.0</td>\n",
       "      <td>1.0</td>\n",
       "      <td>0.40</td>\n",
       "      <td>0.47</td>\n",
       "      <td>0.40</td>\n",
       "      <td>0.63</td>\n",
       "    </tr>\n",
       "    <tr>\n",
       "      <th>1</th>\n",
       "      <td>brasileiro-a</td>\n",
       "      <td>2017</td>\n",
       "      <td>30</td>\n",
       "      <td>22-10</td>\n",
       "      <td>Chapecoense</td>\n",
       "      <td>Fluminense</td>\n",
       "      <td>2</td>\n",
       "      <td>0</td>\n",
       "      <td>MANDANTE</td>\n",
       "      <td>11.0</td>\n",
       "      <td>13.0</td>\n",
       "      <td>0.47</td>\n",
       "      <td>0.47</td>\n",
       "      <td>0.40</td>\n",
       "      <td>0.43</td>\n",
       "    </tr>\n",
       "    <tr>\n",
       "      <th>2</th>\n",
       "      <td>brasileiro-a</td>\n",
       "      <td>2017</td>\n",
       "      <td>30</td>\n",
       "      <td>22-10</td>\n",
       "      <td>Ponte Preta</td>\n",
       "      <td>Avaí</td>\n",
       "      <td>1</td>\n",
       "      <td>2</td>\n",
       "      <td>VISITANTE</td>\n",
       "      <td>18.0</td>\n",
       "      <td>16.0</td>\n",
       "      <td>0.13</td>\n",
       "      <td>0.27</td>\n",
       "      <td>0.43</td>\n",
       "      <td>0.30</td>\n",
       "    </tr>\n",
       "  </tbody>\n",
       "</table>\n",
       "</div>"
      ],
      "text/plain": [
       "     campeonato   ano  rodada   data     mandante    visitante  gols_mandante  \\\n",
       "0  brasileiro-a  2017      30  23-10     Botafogo  Corinthians              2   \n",
       "1  brasileiro-a  2017      30  22-10  Chapecoense   Fluminense              2   \n",
       "2  brasileiro-a  2017      30  22-10  Ponte Preta         Avaí              1   \n",
       "\n",
       "   gols_visitante  resultado  posicao_m  posicao_v  aproveitamento_5r_v  \\\n",
       "0               1   MANDANTE        6.0        1.0                 0.40   \n",
       "1               0   MANDANTE       11.0       13.0                 0.47   \n",
       "2               2  VISITANTE       18.0       16.0                 0.13   \n",
       "\n",
       "   aproveitamento_5r_m  aproveitamento_10r_v  aproveitamento_10r_m  \n",
       "0                 0.47                  0.40                  0.63  \n",
       "1                 0.47                  0.40                  0.43  \n",
       "2                 0.27                  0.43                  0.30  "
      ]
     },
     "execution_count": 128,
     "metadata": {},
     "output_type": "execute_result"
    }
   ],
   "source": [
    "jogos.head(3)"
   ]
  },
  {
   "cell_type": "code",
   "execution_count": 129,
   "metadata": {},
   "outputs": [
    {
     "data": {
      "text/plain": [
       "Index(['campeonato', 'ano', 'rodada', 'data', 'mandante', 'visitante',\n",
       "       'gols_mandante', 'gols_visitante', 'resultado', 'posicao_m',\n",
       "       'posicao_v', 'aproveitamento_5r_v', 'aproveitamento_5r_m',\n",
       "       'aproveitamento_10r_v', 'aproveitamento_10r_m'],\n",
       "      dtype='object')"
      ]
     },
     "execution_count": 129,
     "metadata": {},
     "output_type": "execute_result"
    }
   ],
   "source": [
    "jogos.keys()"
   ]
  },
  {
   "cell_type": "code",
   "execution_count": 130,
   "metadata": {
    "collapsed": true
   },
   "outputs": [],
   "source": [
    "times = np.concatenate((jogos[\"visitante\"].unique(), jogos[\"mandante\"].unique()), axis=0)"
   ]
  },
  {
   "cell_type": "code",
   "execution_count": 131,
   "metadata": {
    "collapsed": true
   },
   "outputs": [],
   "source": [
    "times_dict = dict(zip(times, range(1, len(times))))"
   ]
  },
  {
   "cell_type": "code",
   "execution_count": 219,
   "metadata": {},
   "outputs": [
    {
     "data": {
      "text/plain": [
       "{'América-MG': 65,\n",
       " 'América-RN': 78,\n",
       " 'Atlético-GO': 60,\n",
       " 'Atlético-MG': 59,\n",
       " 'Atlético-PR': 45,\n",
       " 'Avaí': 56,\n",
       " 'Bahia': 46,\n",
       " 'Barueri': 72,\n",
       " 'Botafogo': 42,\n",
       " 'Brasiliense': 40,\n",
       " 'Ceará': 71,\n",
       " 'Chapecoense': 43,\n",
       " 'Corinthians': 57,\n",
       " 'Coritiba': 61,\n",
       " 'Criciúma': 68,\n",
       " 'Cruzeiro': 47,\n",
       " 'Figueirense': 62,\n",
       " 'Flamengo': 52,\n",
       " 'Fluminense': 58,\n",
       " 'Fortaleza': 79,\n",
       " 'Goias': 66,\n",
       " 'Grêmio': 48,\n",
       " 'Guarani': 73,\n",
       " 'Internacional': 64,\n",
       " 'Ipatinga': 75,\n",
       " 'Joinville': 67,\n",
       " 'Juventude': 76,\n",
       " 'Náutico': 70,\n",
       " 'Palmeiras': 54,\n",
       " 'Paraná': 77,\n",
       " 'Paysandu': 81,\n",
       " 'Ponte Preta': 44,\n",
       " 'Portuguesa': 69,\n",
       " 'Santa Cruz': 63,\n",
       " 'Santo Andre': 74,\n",
       " 'Santos': 49,\n",
       " 'Sao Caetano': 80,\n",
       " 'Sport Recife': 53,\n",
       " 'São Paulo': 50,\n",
       " 'Vasco': 51,\n",
       " 'Vitória': 55}"
      ]
     },
     "execution_count": 219,
     "metadata": {},
     "output_type": "execute_result"
    }
   ],
   "source": [
    "times_dict"
   ]
  },
  {
   "cell_type": "code",
   "execution_count": 132,
   "metadata": {
    "collapsed": true
   },
   "outputs": [],
   "source": [
    "jogos = jogos.applymap(lambda s: times_dict.get(s) if s in times_dict else s)"
   ]
  },
  {
   "cell_type": "markdown",
   "metadata": {},
   "source": [
    "### 3. Define target and data subset"
   ]
  },
  {
   "cell_type": "code",
   "execution_count": 133,
   "metadata": {
    "collapsed": true
   },
   "outputs": [],
   "source": [
    "jogos_X_df = jogos.copy()"
   ]
  },
  {
   "cell_type": "code",
   "execution_count": 134,
   "metadata": {
    "collapsed": true
   },
   "outputs": [],
   "source": [
    "del jogos_X_df[\"resultado\"]"
   ]
  },
  {
   "cell_type": "code",
   "execution_count": 135,
   "metadata": {
    "collapsed": true
   },
   "outputs": [],
   "source": [
    "del jogos_X_df[\"campeonato\"]"
   ]
  },
  {
   "cell_type": "code",
   "execution_count": 136,
   "metadata": {
    "collapsed": true
   },
   "outputs": [],
   "source": [
    "del jogos_X_df[\"data\"]"
   ]
  },
  {
   "cell_type": "code",
   "execution_count": 137,
   "metadata": {
    "collapsed": true
   },
   "outputs": [],
   "source": [
    "del jogos_X_df[\"gols_mandante\"]"
   ]
  },
  {
   "cell_type": "code",
   "execution_count": 138,
   "metadata": {
    "collapsed": true
   },
   "outputs": [],
   "source": [
    "del jogos_X_df[\"gols_visitante\"]"
   ]
  },
  {
   "cell_type": "code",
   "execution_count": 139,
   "metadata": {
    "collapsed": true
   },
   "outputs": [],
   "source": [
    "del jogos_X_df[\"aproveitamento_5r_v\"]"
   ]
  },
  {
   "cell_type": "code",
   "execution_count": 140,
   "metadata": {
    "collapsed": true
   },
   "outputs": [],
   "source": [
    "del jogos_X_df[\"aproveitamento_5r_m\"]"
   ]
  },
  {
   "cell_type": "code",
   "execution_count": 141,
   "metadata": {},
   "outputs": [
    {
     "data": {
      "text/html": [
       "<div>\n",
       "<style>\n",
       "    .dataframe thead tr:only-child th {\n",
       "        text-align: right;\n",
       "    }\n",
       "\n",
       "    .dataframe thead th {\n",
       "        text-align: left;\n",
       "    }\n",
       "\n",
       "    .dataframe tbody tr th {\n",
       "        vertical-align: top;\n",
       "    }\n",
       "</style>\n",
       "<table border=\"1\" class=\"dataframe\">\n",
       "  <thead>\n",
       "    <tr style=\"text-align: right;\">\n",
       "      <th></th>\n",
       "      <th>ano</th>\n",
       "      <th>rodada</th>\n",
       "      <th>mandante</th>\n",
       "      <th>visitante</th>\n",
       "      <th>posicao_m</th>\n",
       "      <th>posicao_v</th>\n",
       "      <th>aproveitamento_10r_v</th>\n",
       "      <th>aproveitamento_10r_m</th>\n",
       "    </tr>\n",
       "  </thead>\n",
       "  <tbody>\n",
       "    <tr>\n",
       "      <th>0</th>\n",
       "      <td>2017</td>\n",
       "      <td>30</td>\n",
       "      <td>42</td>\n",
       "      <td>57</td>\n",
       "      <td>6.0</td>\n",
       "      <td>1.0</td>\n",
       "      <td>0.40</td>\n",
       "      <td>0.63</td>\n",
       "    </tr>\n",
       "    <tr>\n",
       "      <th>1</th>\n",
       "      <td>2017</td>\n",
       "      <td>30</td>\n",
       "      <td>43</td>\n",
       "      <td>58</td>\n",
       "      <td>11.0</td>\n",
       "      <td>13.0</td>\n",
       "      <td>0.40</td>\n",
       "      <td>0.43</td>\n",
       "    </tr>\n",
       "    <tr>\n",
       "      <th>2</th>\n",
       "      <td>2017</td>\n",
       "      <td>30</td>\n",
       "      <td>44</td>\n",
       "      <td>56</td>\n",
       "      <td>18.0</td>\n",
       "      <td>16.0</td>\n",
       "      <td>0.43</td>\n",
       "      <td>0.30</td>\n",
       "    </tr>\n",
       "    <tr>\n",
       "      <th>3</th>\n",
       "      <td>2017</td>\n",
       "      <td>30</td>\n",
       "      <td>45</td>\n",
       "      <td>53</td>\n",
       "      <td>9.0</td>\n",
       "      <td>15.0</td>\n",
       "      <td>0.23</td>\n",
       "      <td>0.40</td>\n",
       "    </tr>\n",
       "    <tr>\n",
       "      <th>4</th>\n",
       "      <td>2017</td>\n",
       "      <td>30</td>\n",
       "      <td>46</td>\n",
       "      <td>55</td>\n",
       "      <td>12.0</td>\n",
       "      <td>17.0</td>\n",
       "      <td>0.47</td>\n",
       "      <td>0.40</td>\n",
       "    </tr>\n",
       "  </tbody>\n",
       "</table>\n",
       "</div>"
      ],
      "text/plain": [
       "    ano  rodada  mandante  visitante  posicao_m  posicao_v  \\\n",
       "0  2017      30        42         57        6.0        1.0   \n",
       "1  2017      30        43         58       11.0       13.0   \n",
       "2  2017      30        44         56       18.0       16.0   \n",
       "3  2017      30        45         53        9.0       15.0   \n",
       "4  2017      30        46         55       12.0       17.0   \n",
       "\n",
       "   aproveitamento_10r_v  aproveitamento_10r_m  \n",
       "0                  0.40                  0.63  \n",
       "1                  0.40                  0.43  \n",
       "2                  0.43                  0.30  \n",
       "3                  0.23                  0.40  \n",
       "4                  0.47                  0.40  "
      ]
     },
     "execution_count": 141,
     "metadata": {},
     "output_type": "execute_result"
    }
   ],
   "source": [
    "jogos_X_df.head()"
   ]
  },
  {
   "cell_type": "code",
   "execution_count": 142,
   "metadata": {},
   "outputs": [
    {
     "data": {
      "text/plain": [
       "Index(['ano', 'rodada', 'mandante', 'visitante', 'posicao_m', 'posicao_v',\n",
       "       'aproveitamento_10r_v', 'aproveitamento_10r_m'],\n",
       "      dtype='object')"
      ]
     },
     "execution_count": 142,
     "metadata": {},
     "output_type": "execute_result"
    }
   ],
   "source": [
    "jogos_X_df.keys()"
   ]
  },
  {
   "cell_type": "code",
   "execution_count": 143,
   "metadata": {
    "collapsed": true
   },
   "outputs": [],
   "source": [
    "y = jogos[\"resultado\"].values"
   ]
  },
  {
   "cell_type": "code",
   "execution_count": 144,
   "metadata": {
    "collapsed": true
   },
   "outputs": [],
   "source": [
    "X = jogos_X_df.values"
   ]
  },
  {
   "cell_type": "markdown",
   "metadata": {},
   "source": [
    "### 4. Train and Test Split"
   ]
  },
  {
   "cell_type": "code",
   "execution_count": 145,
   "metadata": {
    "collapsed": true
   },
   "outputs": [],
   "source": [
    "from sklearn.model_selection import train_test_split"
   ]
  },
  {
   "cell_type": "code",
   "execution_count": 146,
   "metadata": {
    "collapsed": true
   },
   "outputs": [],
   "source": [
    "X_train, X_test, y_train, y_test = train_test_split(\n",
    "                                        X,\n",
    "                                        y, \n",
    "                                        test_size=0.2, \n",
    "                                        random_state=1)"
   ]
  },
  {
   "cell_type": "markdown",
   "metadata": {},
   "source": [
    "### 4.1 Grid Search"
   ]
  },
  {
   "cell_type": "code",
   "execution_count": 29,
   "metadata": {},
   "outputs": [
    {
     "name": "stderr",
     "output_type": "stream",
     "text": [
      "/home/thiago/workspace/python/anaconda3/lib/python3.6/site-packages/sklearn/cross_validation.py:41: DeprecationWarning: This module was deprecated in version 0.18 in favor of the model_selection module into which all the refactored classes and functions are moved. Also note that the interface of the new CV iterators are different from that of this module. This module will be removed in 0.20.\n",
      "  \"This module will be removed in 0.20.\", DeprecationWarning)\n",
      "/home/thiago/workspace/python/anaconda3/lib/python3.6/site-packages/sklearn/grid_search.py:42: DeprecationWarning: This module was deprecated in version 0.18 in favor of the model_selection module into which all the refactored classes and functions are moved. This module will be removed in 0.20.\n",
      "  DeprecationWarning)\n"
     ]
    }
   ],
   "source": [
    "from sklearn.grid_search import GridSearchCV"
   ]
  },
  {
   "cell_type": "code",
   "execution_count": 30,
   "metadata": {
    "collapsed": true
   },
   "outputs": [],
   "source": [
    "from sklearn.datasets import make_classification"
   ]
  },
  {
   "cell_type": "code",
   "execution_count": 31,
   "metadata": {
    "collapsed": true
   },
   "outputs": [],
   "source": [
    "from sklearn.ensemble import RandomForestClassifier"
   ]
  },
  {
   "cell_type": "code",
   "execution_count": 32,
   "metadata": {
    "collapsed": true
   },
   "outputs": [],
   "source": [
    "rfc = RandomForestClassifier(n_jobs=-1,max_features= 'sqrt' ,n_estimators=50, oob_score = True)"
   ]
  },
  {
   "cell_type": "code",
   "execution_count": 33,
   "metadata": {
    "collapsed": true
   },
   "outputs": [],
   "source": [
    "param_grid = {     \n",
    "    'n_estimators': [800],\n",
    "    'min_samples_leaf': [10],\n",
    "    'max_features': ['log2'],\n",
    "    'n_jobs': [-1],\n",
    "    'min_samples_split': [3],\n",
    "    'warm_start': [False],\n",
    "    'oob_score':  [False], \n",
    "    'bootstrap': [True],\n",
    "    'criterion': ['entropy'],\n",
    "    'class_weight': ['balanced', 'balanced_subsample', None]\n",
    "}"
   ]
  },
  {
   "cell_type": "code",
   "execution_count": 34,
   "metadata": {
    "collapsed": true
   },
   "outputs": [],
   "source": [
    "CV_rfc = GridSearchCV(estimator=rfc, param_grid=param_grid, cv= 5)"
   ]
  },
  {
   "cell_type": "code",
   "execution_count": 35,
   "metadata": {},
   "outputs": [
    {
     "data": {
      "text/plain": [
       "GridSearchCV(cv=5, error_score='raise',\n",
       "       estimator=RandomForestClassifier(bootstrap=True, class_weight=None, criterion='gini',\n",
       "            max_depth=None, max_features='sqrt', max_leaf_nodes=None,\n",
       "            min_impurity_decrease=0.0, min_impurity_split=None,\n",
       "            min_samples_leaf=1, min_samples_split=2,\n",
       "            min_weight_fraction_leaf=0.0, n_estimators=50, n_jobs=-1,\n",
       "            oob_score=True, random_state=None, verbose=0, warm_start=False),\n",
       "       fit_params={}, iid=True, n_jobs=1,\n",
       "       param_grid={'n_estimators': [800], 'min_samples_leaf': [10], 'max_features': ['log2'], 'n_jobs': [-1], 'min_samples_split': [3], 'warm_start': [False], 'oob_score': [False], 'bootstrap': [True], 'criterion': ['entropy'], 'class_weight': ['balanced', 'balanced_subsample', None]},\n",
       "       pre_dispatch='2*n_jobs', refit=True, scoring=None, verbose=0)"
      ]
     },
     "execution_count": 35,
     "metadata": {},
     "output_type": "execute_result"
    }
   ],
   "source": [
    "CV_rfc.fit(X, y)"
   ]
  },
  {
   "cell_type": "code",
   "execution_count": 36,
   "metadata": {},
   "outputs": [
    {
     "name": "stdout",
     "output_type": "stream",
     "text": [
      "{'bootstrap': True, 'class_weight': None, 'criterion': 'entropy', 'max_features': 'log2', 'min_samples_leaf': 10, 'min_samples_split': 3, 'n_estimators': 800, 'n_jobs': -1, 'oob_score': False, 'warm_start': False}\n"
     ]
    }
   ],
   "source": [
    "print (CV_rfc.best_params_)"
   ]
  },
  {
   "cell_type": "markdown",
   "metadata": {},
   "source": [
    "### 5. Apply Random Forest Classifier"
   ]
  },
  {
   "cell_type": "code",
   "execution_count": 147,
   "metadata": {
    "collapsed": true
   },
   "outputs": [],
   "source": [
    "rf_model = RandomForestClassifier(random_state=1, criterion='entropy', max_features='log2', n_estimators=800, min_samples_leaf=10)"
   ]
  },
  {
   "cell_type": "code",
   "execution_count": 148,
   "metadata": {},
   "outputs": [
    {
     "data": {
      "text/plain": [
       "RandomForestClassifier(bootstrap=True, class_weight=None, criterion='entropy',\n",
       "            max_depth=None, max_features='log2', max_leaf_nodes=None,\n",
       "            min_impurity_decrease=0.0, min_impurity_split=None,\n",
       "            min_samples_leaf=10, min_samples_split=2,\n",
       "            min_weight_fraction_leaf=0.0, n_estimators=800, n_jobs=1,\n",
       "            oob_score=False, random_state=1, verbose=0, warm_start=False)"
      ]
     },
     "execution_count": 148,
     "metadata": {},
     "output_type": "execute_result"
    }
   ],
   "source": [
    "rf_model.fit(X_train, y_train)"
   ]
  },
  {
   "cell_type": "markdown",
   "metadata": {},
   "source": [
    "### 6. Model Cross-Validation"
   ]
  },
  {
   "cell_type": "code",
   "execution_count": 149,
   "metadata": {},
   "outputs": [
    {
     "data": {
      "text/plain": [
       "array([ 0.60227273,  0.58677686,  0.59710744,  0.57394002,  0.59274611])"
      ]
     },
     "execution_count": 149,
     "metadata": {},
     "output_type": "execute_result"
    }
   ],
   "source": [
    "cv_scores_rf = cross_val_score(rf_model, X_train, y_train, \n",
    "                               cv=5,scoring=\"accuracy\")\n",
    "cv_scores_rf"
   ]
  },
  {
   "cell_type": "code",
   "execution_count": 150,
   "metadata": {},
   "outputs": [
    {
     "data": {
      "text/plain": [
       "0.59056863189310982"
      ]
     },
     "execution_count": 150,
     "metadata": {},
     "output_type": "execute_result"
    }
   ],
   "source": [
    "cv_scores_rf_mean =  np.mean(cv_scores_rf)\n",
    "cv_scores_rf_mean"
   ]
  },
  {
   "cell_type": "markdown",
   "metadata": {},
   "source": [
    "### Apply AdaBoostClassifier"
   ]
  },
  {
   "cell_type": "code",
   "execution_count": 41,
   "metadata": {
    "collapsed": true
   },
   "outputs": [],
   "source": [
    "abc_model = AdaBoostClassifier(random_state=1, n_estimators=50, learning_rate=1., algorithm=\"SAMME.R\")"
   ]
  },
  {
   "cell_type": "code",
   "execution_count": 42,
   "metadata": {},
   "outputs": [
    {
     "data": {
      "text/plain": [
       "AdaBoostClassifier(algorithm='SAMME.R', base_estimator=None,\n",
       "          learning_rate=1.0, n_estimators=50, random_state=1)"
      ]
     },
     "execution_count": 42,
     "metadata": {},
     "output_type": "execute_result"
    }
   ],
   "source": [
    "abc_model.fit(X_train, y_train)"
   ]
  },
  {
   "cell_type": "code",
   "execution_count": 43,
   "metadata": {},
   "outputs": [
    {
     "data": {
      "text/plain": [
       "array([ 0.60020661,  0.58264463,  0.56404959,  0.56670114,  0.59689119])"
      ]
     },
     "execution_count": 43,
     "metadata": {},
     "output_type": "execute_result"
    }
   ],
   "source": [
    "cv_scores_abc = cross_val_score(abc_model, X_train, y_train, \n",
    "                               cv=5,scoring=\"accuracy\")\n",
    "cv_scores_abc"
   ]
  },
  {
   "cell_type": "code",
   "execution_count": 44,
   "metadata": {},
   "outputs": [
    {
     "data": {
      "text/plain": [
       "0.58209863113898097"
      ]
     },
     "execution_count": 44,
     "metadata": {},
     "output_type": "execute_result"
    }
   ],
   "source": [
    "cv_scores_abc_mean =  np.mean(cv_scores_abc)\n",
    "cv_scores_abc_mean"
   ]
  },
  {
   "cell_type": "markdown",
   "metadata": {},
   "source": [
    "### 7. Model Test"
   ]
  },
  {
   "cell_type": "code",
   "execution_count": 151,
   "metadata": {
    "collapsed": true
   },
   "outputs": [],
   "source": [
    "y_test_pred = rf_model.predict(X_test)"
   ]
  },
  {
   "cell_type": "code",
   "execution_count": 152,
   "metadata": {},
   "outputs": [
    {
     "data": {
      "text/plain": [
       "(1210,)"
      ]
     },
     "execution_count": 152,
     "metadata": {},
     "output_type": "execute_result"
    }
   ],
   "source": [
    "y_test.shape"
   ]
  },
  {
   "cell_type": "code",
   "execution_count": 153,
   "metadata": {},
   "outputs": [
    {
     "data": {
      "text/html": [
       "<div>\n",
       "<style>\n",
       "    .dataframe thead tr:only-child th {\n",
       "        text-align: right;\n",
       "    }\n",
       "\n",
       "    .dataframe thead th {\n",
       "        text-align: left;\n",
       "    }\n",
       "\n",
       "    .dataframe tbody tr th {\n",
       "        vertical-align: top;\n",
       "    }\n",
       "</style>\n",
       "<table border=\"1\" class=\"dataframe\">\n",
       "  <thead>\n",
       "    <tr style=\"text-align: right;\">\n",
       "      <th>Predicted</th>\n",
       "      <th>EMPATE</th>\n",
       "      <th>MANDANTE</th>\n",
       "      <th>VISITANTE</th>\n",
       "    </tr>\n",
       "    <tr>\n",
       "      <th>Actual</th>\n",
       "      <th></th>\n",
       "      <th></th>\n",
       "      <th></th>\n",
       "    </tr>\n",
       "  </thead>\n",
       "  <tbody>\n",
       "    <tr>\n",
       "      <th>EMPATE</th>\n",
       "      <td>27</td>\n",
       "      <td>210</td>\n",
       "      <td>75</td>\n",
       "    </tr>\n",
       "    <tr>\n",
       "      <th>MANDANTE</th>\n",
       "      <td>17</td>\n",
       "      <td>547</td>\n",
       "      <td>53</td>\n",
       "    </tr>\n",
       "    <tr>\n",
       "      <th>VISITANTE</th>\n",
       "      <td>17</td>\n",
       "      <td>132</td>\n",
       "      <td>132</td>\n",
       "    </tr>\n",
       "  </tbody>\n",
       "</table>\n",
       "</div>"
      ],
      "text/plain": [
       "Predicted  EMPATE  MANDANTE  VISITANTE\n",
       "Actual                                \n",
       "EMPATE         27       210         75\n",
       "MANDANTE       17       547         53\n",
       "VISITANTE      17       132        132"
      ]
     },
     "execution_count": 153,
     "metadata": {},
     "output_type": "execute_result"
    }
   ],
   "source": [
    "# Results\n",
    "pd.crosstab(y_test, y_test_pred,\n",
    "            rownames=['Actual'], \n",
    "            colnames=['Predicted'])"
   ]
  },
  {
   "cell_type": "code",
   "execution_count": 154,
   "metadata": {},
   "outputs": [
    {
     "data": {
      "text/plain": [
       "array([[ 27, 210,  75],\n",
       "       [ 17, 547,  53],\n",
       "       [ 17, 132, 132]])"
      ]
     },
     "execution_count": 154,
     "metadata": {},
     "output_type": "execute_result"
    }
   ],
   "source": [
    "confusion_matrix(y_test, y_test_pred)"
   ]
  },
  {
   "cell_type": "code",
   "execution_count": 155,
   "metadata": {},
   "outputs": [
    {
     "data": {
      "text/plain": [
       "0.58347107438016532"
      ]
     },
     "execution_count": 155,
     "metadata": {},
     "output_type": "execute_result"
    }
   ],
   "source": [
    "accuracy_score_test = accuracy_score(y_test, y_test_pred)\n",
    "accuracy_score_test"
   ]
  },
  {
   "cell_type": "code",
   "execution_count": 156,
   "metadata": {
    "collapsed": true
   },
   "outputs": [],
   "source": [
    "#precision_score_forest = precision_score(y_test, y_test_pred)\n",
    "#precision_score_forest"
   ]
  },
  {
   "cell_type": "code",
   "execution_count": 157,
   "metadata": {
    "collapsed": true
   },
   "outputs": [],
   "source": [
    "#recall_score_forest = recall_score(y_test, y_test_pred)\n",
    "#recall_score_forest"
   ]
  },
  {
   "cell_type": "code",
   "execution_count": 158,
   "metadata": {
    "collapsed": true
   },
   "outputs": [],
   "source": [
    "#f1_score_forest = f1_score(y_test, y_test_pred)\n",
    "#f1_score_forest"
   ]
  },
  {
   "cell_type": "markdown",
   "metadata": {},
   "source": [
    "### 8. Comparison accuracy: Validation vs Test"
   ]
  },
  {
   "cell_type": "code",
   "execution_count": 159,
   "metadata": {},
   "outputs": [
    {
     "data": {
      "text/html": [
       "<div>\n",
       "<style>\n",
       "    .dataframe thead tr:only-child th {\n",
       "        text-align: right;\n",
       "    }\n",
       "\n",
       "    .dataframe thead th {\n",
       "        text-align: left;\n",
       "    }\n",
       "\n",
       "    .dataframe tbody tr th {\n",
       "        vertical-align: top;\n",
       "    }\n",
       "</style>\n",
       "<table border=\"1\" class=\"dataframe\">\n",
       "  <thead>\n",
       "    <tr style=\"text-align: right;\">\n",
       "      <th></th>\n",
       "      <th>Test</th>\n",
       "      <th>Validation</th>\n",
       "    </tr>\n",
       "  </thead>\n",
       "  <tbody>\n",
       "    <tr>\n",
       "      <th>Accuracy</th>\n",
       "      <td>0.583471</td>\n",
       "      <td>0.590569</td>\n",
       "    </tr>\n",
       "  </tbody>\n",
       "</table>\n",
       "</div>"
      ],
      "text/plain": [
       "              Test  Validation\n",
       "Accuracy  0.583471    0.590569"
      ]
     },
     "execution_count": 159,
     "metadata": {},
     "output_type": "execute_result"
    }
   ],
   "source": [
    "comparison = {\"Validation\": [cv_scores_rf_mean],\n",
    "             \"Test\": [accuracy_score_test]}\n",
    "pd.DataFrame(comparison, index = [\"Accuracy\"])"
   ]
  },
  {
   "cell_type": "markdown",
   "metadata": {},
   "source": [
    "### 9. Feature Importance"
   ]
  },
  {
   "cell_type": "code",
   "execution_count": 160,
   "metadata": {},
   "outputs": [
    {
     "data": {
      "text/plain": [
       "array([ 0.06709756,  0.13378069,  0.08373038,  0.0852613 ,  0.20689107,\n",
       "        0.20897494,  0.09987478,  0.11438927])"
      ]
     },
     "execution_count": 160,
     "metadata": {},
     "output_type": "execute_result"
    }
   ],
   "source": [
    "rf_model.feature_importances_"
   ]
  },
  {
   "cell_type": "code",
   "execution_count": 161,
   "metadata": {
    "scrolled": true
   },
   "outputs": [
    {
     "data": {
      "text/html": [
       "<div>\n",
       "<style>\n",
       "    .dataframe thead tr:only-child th {\n",
       "        text-align: right;\n",
       "    }\n",
       "\n",
       "    .dataframe thead th {\n",
       "        text-align: left;\n",
       "    }\n",
       "\n",
       "    .dataframe tbody tr th {\n",
       "        vertical-align: top;\n",
       "    }\n",
       "</style>\n",
       "<table border=\"1\" class=\"dataframe\">\n",
       "  <thead>\n",
       "    <tr style=\"text-align: right;\">\n",
       "      <th></th>\n",
       "      <th>Features</th>\n",
       "      <th>Importance</th>\n",
       "    </tr>\n",
       "  </thead>\n",
       "  <tbody>\n",
       "    <tr>\n",
       "      <th>5</th>\n",
       "      <td>posicao_v</td>\n",
       "      <td>0.208975</td>\n",
       "    </tr>\n",
       "    <tr>\n",
       "      <th>4</th>\n",
       "      <td>posicao_m</td>\n",
       "      <td>0.206891</td>\n",
       "    </tr>\n",
       "    <tr>\n",
       "      <th>1</th>\n",
       "      <td>rodada</td>\n",
       "      <td>0.133781</td>\n",
       "    </tr>\n",
       "    <tr>\n",
       "      <th>7</th>\n",
       "      <td>aproveitamento_10r_m</td>\n",
       "      <td>0.114389</td>\n",
       "    </tr>\n",
       "    <tr>\n",
       "      <th>6</th>\n",
       "      <td>aproveitamento_10r_v</td>\n",
       "      <td>0.099875</td>\n",
       "    </tr>\n",
       "    <tr>\n",
       "      <th>3</th>\n",
       "      <td>visitante</td>\n",
       "      <td>0.085261</td>\n",
       "    </tr>\n",
       "    <tr>\n",
       "      <th>2</th>\n",
       "      <td>mandante</td>\n",
       "      <td>0.083730</td>\n",
       "    </tr>\n",
       "    <tr>\n",
       "      <th>0</th>\n",
       "      <td>ano</td>\n",
       "      <td>0.067098</td>\n",
       "    </tr>\n",
       "  </tbody>\n",
       "</table>\n",
       "</div>"
      ],
      "text/plain": [
       "               Features  Importance\n",
       "5             posicao_v    0.208975\n",
       "4             posicao_m    0.206891\n",
       "1                rodada    0.133781\n",
       "7  aproveitamento_10r_m    0.114389\n",
       "6  aproveitamento_10r_v    0.099875\n",
       "3             visitante    0.085261\n",
       "2              mandante    0.083730\n",
       "0                   ano    0.067098"
      ]
     },
     "execution_count": 161,
     "metadata": {},
     "output_type": "execute_result"
    }
   ],
   "source": [
    "# View a list of the features and their importance scores\n",
    "imp_list = list(zip(jogos_X_df.keys(), \n",
    "                    rf_model.feature_importances_))\n",
    "imp_df = pd.DataFrame(imp_list, columns = [\"Features\", \"Importance\"])\n",
    "imp_df.sort_values(by = \"Importance\", ascending = False)"
   ]
  },
  {
   "cell_type": "markdown",
   "metadata": {},
   "source": [
    "### 10. Predict"
   ]
  },
  {
   "cell_type": "code",
   "execution_count": 223,
   "metadata": {
    "collapsed": true
   },
   "outputs": [],
   "source": [
    "rodada = pd.read_csv(\"data/rodada.csv\",sep=\",\")"
   ]
  },
  {
   "cell_type": "code",
   "execution_count": 224,
   "metadata": {},
   "outputs": [
    {
     "data": {
      "text/html": [
       "<div>\n",
       "<style>\n",
       "    .dataframe thead tr:only-child th {\n",
       "        text-align: right;\n",
       "    }\n",
       "\n",
       "    .dataframe thead th {\n",
       "        text-align: left;\n",
       "    }\n",
       "\n",
       "    .dataframe tbody tr th {\n",
       "        vertical-align: top;\n",
       "    }\n",
       "</style>\n",
       "<table border=\"1\" class=\"dataframe\">\n",
       "  <thead>\n",
       "    <tr style=\"text-align: right;\">\n",
       "      <th></th>\n",
       "      <th>mandante</th>\n",
       "      <th>visitante</th>\n",
       "      <th>placar</th>\n",
       "    </tr>\n",
       "  </thead>\n",
       "  <tbody>\n",
       "    <tr>\n",
       "      <th>0</th>\n",
       "      <td>Palmeiras</td>\n",
       "      <td>Cruzeiro</td>\n",
       "      <td>NaN</td>\n",
       "    </tr>\n",
       "    <tr>\n",
       "      <th>1</th>\n",
       "      <td>Avaí</td>\n",
       "      <td>Grêmio</td>\n",
       "      <td>NaN</td>\n",
       "    </tr>\n",
       "    <tr>\n",
       "      <th>2</th>\n",
       "      <td>Sport Recife</td>\n",
       "      <td>Coritiba</td>\n",
       "      <td>NaN</td>\n",
       "    </tr>\n",
       "    <tr>\n",
       "      <th>3</th>\n",
       "      <td>Vitória</td>\n",
       "      <td>Atlético-GO</td>\n",
       "      <td>NaN</td>\n",
       "    </tr>\n",
       "    <tr>\n",
       "      <th>4</th>\n",
       "      <td>Atlético-MG</td>\n",
       "      <td>Botafogo</td>\n",
       "      <td>NaN</td>\n",
       "    </tr>\n",
       "    <tr>\n",
       "      <th>5</th>\n",
       "      <td>Fluminense</td>\n",
       "      <td>Bahia</td>\n",
       "      <td>NaN</td>\n",
       "    </tr>\n",
       "    <tr>\n",
       "      <th>6</th>\n",
       "      <td>Ponte Preta</td>\n",
       "      <td>Corinthians</td>\n",
       "      <td>NaN</td>\n",
       "    </tr>\n",
       "    <tr>\n",
       "      <th>7</th>\n",
       "      <td>Atlético-PR</td>\n",
       "      <td>Chapecoense</td>\n",
       "      <td>NaN</td>\n",
       "    </tr>\n",
       "    <tr>\n",
       "      <th>8</th>\n",
       "      <td>Flamengo</td>\n",
       "      <td>Vasco</td>\n",
       "      <td>NaN</td>\n",
       "    </tr>\n",
       "    <tr>\n",
       "      <th>9</th>\n",
       "      <td>São Paulo</td>\n",
       "      <td>Santos</td>\n",
       "      <td>NaN</td>\n",
       "    </tr>\n",
       "  </tbody>\n",
       "</table>\n",
       "</div>"
      ],
      "text/plain": [
       "       mandante    visitante  placar\n",
       "0     Palmeiras     Cruzeiro     NaN\n",
       "1          Avaí       Grêmio     NaN\n",
       "2  Sport Recife     Coritiba     NaN\n",
       "3       Vitória  Atlético-GO     NaN\n",
       "4   Atlético-MG     Botafogo     NaN\n",
       "5    Fluminense        Bahia     NaN\n",
       "6   Ponte Preta  Corinthians     NaN\n",
       "7   Atlético-PR  Chapecoense     NaN\n",
       "8      Flamengo        Vasco     NaN\n",
       "9     São Paulo       Santos     NaN"
      ]
     },
     "execution_count": 224,
     "metadata": {},
     "output_type": "execute_result"
    }
   ],
   "source": [
    "rodada"
   ]
  },
  {
   "cell_type": "code",
   "execution_count": 225,
   "metadata": {
    "collapsed": true
   },
   "outputs": [],
   "source": [
    "rodada_DF = rodada.copy()"
   ]
  },
  {
   "cell_type": "code",
   "execution_count": 226,
   "metadata": {
    "collapsed": true
   },
   "outputs": [],
   "source": [
    "rodada_DF = rodada_DF.applymap(lambda s: times_dict.get(s) if s in times_dict else s)"
   ]
  },
  {
   "cell_type": "code",
   "execution_count": 227,
   "metadata": {},
   "outputs": [
    {
     "data": {
      "text/html": [
       "<div>\n",
       "<style>\n",
       "    .dataframe thead tr:only-child th {\n",
       "        text-align: right;\n",
       "    }\n",
       "\n",
       "    .dataframe thead th {\n",
       "        text-align: left;\n",
       "    }\n",
       "\n",
       "    .dataframe tbody tr th {\n",
       "        vertical-align: top;\n",
       "    }\n",
       "</style>\n",
       "<table border=\"1\" class=\"dataframe\">\n",
       "  <thead>\n",
       "    <tr style=\"text-align: right;\">\n",
       "      <th></th>\n",
       "      <th>mandante</th>\n",
       "      <th>visitante</th>\n",
       "      <th>placar</th>\n",
       "    </tr>\n",
       "  </thead>\n",
       "  <tbody>\n",
       "    <tr>\n",
       "      <th>0</th>\n",
       "      <td>54</td>\n",
       "      <td>47</td>\n",
       "      <td>NaN</td>\n",
       "    </tr>\n",
       "    <tr>\n",
       "      <th>1</th>\n",
       "      <td>56</td>\n",
       "      <td>48</td>\n",
       "      <td>NaN</td>\n",
       "    </tr>\n",
       "    <tr>\n",
       "      <th>2</th>\n",
       "      <td>53</td>\n",
       "      <td>61</td>\n",
       "      <td>NaN</td>\n",
       "    </tr>\n",
       "    <tr>\n",
       "      <th>3</th>\n",
       "      <td>55</td>\n",
       "      <td>60</td>\n",
       "      <td>NaN</td>\n",
       "    </tr>\n",
       "    <tr>\n",
       "      <th>4</th>\n",
       "      <td>59</td>\n",
       "      <td>42</td>\n",
       "      <td>NaN</td>\n",
       "    </tr>\n",
       "    <tr>\n",
       "      <th>5</th>\n",
       "      <td>58</td>\n",
       "      <td>46</td>\n",
       "      <td>NaN</td>\n",
       "    </tr>\n",
       "    <tr>\n",
       "      <th>6</th>\n",
       "      <td>44</td>\n",
       "      <td>57</td>\n",
       "      <td>NaN</td>\n",
       "    </tr>\n",
       "    <tr>\n",
       "      <th>7</th>\n",
       "      <td>45</td>\n",
       "      <td>43</td>\n",
       "      <td>NaN</td>\n",
       "    </tr>\n",
       "    <tr>\n",
       "      <th>8</th>\n",
       "      <td>52</td>\n",
       "      <td>51</td>\n",
       "      <td>NaN</td>\n",
       "    </tr>\n",
       "    <tr>\n",
       "      <th>9</th>\n",
       "      <td>50</td>\n",
       "      <td>49</td>\n",
       "      <td>NaN</td>\n",
       "    </tr>\n",
       "  </tbody>\n",
       "</table>\n",
       "</div>"
      ],
      "text/plain": [
       "   mandante  visitante  placar\n",
       "0        54         47     NaN\n",
       "1        56         48     NaN\n",
       "2        53         61     NaN\n",
       "3        55         60     NaN\n",
       "4        59         42     NaN\n",
       "5        58         46     NaN\n",
       "6        44         57     NaN\n",
       "7        45         43     NaN\n",
       "8        52         51     NaN\n",
       "9        50         49     NaN"
      ]
     },
     "execution_count": 227,
     "metadata": {},
     "output_type": "execute_result"
    }
   ],
   "source": [
    "rodada_DF"
   ]
  },
  {
   "cell_type": "code",
   "execution_count": 228,
   "metadata": {},
   "outputs": [
    {
     "data": {
      "text/html": [
       "<div>\n",
       "<style>\n",
       "    .dataframe thead tr:only-child th {\n",
       "        text-align: right;\n",
       "    }\n",
       "\n",
       "    .dataframe thead th {\n",
       "        text-align: left;\n",
       "    }\n",
       "\n",
       "    .dataframe tbody tr th {\n",
       "        vertical-align: top;\n",
       "    }\n",
       "</style>\n",
       "<table border=\"1\" class=\"dataframe\">\n",
       "  <thead>\n",
       "    <tr style=\"text-align: right;\">\n",
       "      <th></th>\n",
       "      <th>campeonato</th>\n",
       "      <th>ano</th>\n",
       "      <th>rodada</th>\n",
       "      <th>data</th>\n",
       "      <th>mandante</th>\n",
       "      <th>visitante</th>\n",
       "      <th>gols_mandante</th>\n",
       "      <th>gols_visitante</th>\n",
       "      <th>resultado</th>\n",
       "      <th>posicao_m</th>\n",
       "      <th>posicao_v</th>\n",
       "      <th>aproveitamento_5r_v</th>\n",
       "      <th>aproveitamento_5r_m</th>\n",
       "      <th>aproveitamento_10r_v</th>\n",
       "      <th>aproveitamento_10r_m</th>\n",
       "    </tr>\n",
       "  </thead>\n",
       "  <tbody>\n",
       "    <tr>\n",
       "      <th>0</th>\n",
       "      <td>brasileiro-a</td>\n",
       "      <td>2017</td>\n",
       "      <td>30</td>\n",
       "      <td>23-10</td>\n",
       "      <td>42</td>\n",
       "      <td>57</td>\n",
       "      <td>2</td>\n",
       "      <td>1</td>\n",
       "      <td>MANDANTE</td>\n",
       "      <td>6.0</td>\n",
       "      <td>1.0</td>\n",
       "      <td>0.40</td>\n",
       "      <td>0.47</td>\n",
       "      <td>0.40</td>\n",
       "      <td>0.63</td>\n",
       "    </tr>\n",
       "    <tr>\n",
       "      <th>1</th>\n",
       "      <td>brasileiro-a</td>\n",
       "      <td>2017</td>\n",
       "      <td>30</td>\n",
       "      <td>22-10</td>\n",
       "      <td>43</td>\n",
       "      <td>58</td>\n",
       "      <td>2</td>\n",
       "      <td>0</td>\n",
       "      <td>MANDANTE</td>\n",
       "      <td>11.0</td>\n",
       "      <td>13.0</td>\n",
       "      <td>0.47</td>\n",
       "      <td>0.47</td>\n",
       "      <td>0.40</td>\n",
       "      <td>0.43</td>\n",
       "    </tr>\n",
       "    <tr>\n",
       "      <th>2</th>\n",
       "      <td>brasileiro-a</td>\n",
       "      <td>2017</td>\n",
       "      <td>30</td>\n",
       "      <td>22-10</td>\n",
       "      <td>44</td>\n",
       "      <td>56</td>\n",
       "      <td>1</td>\n",
       "      <td>2</td>\n",
       "      <td>VISITANTE</td>\n",
       "      <td>18.0</td>\n",
       "      <td>16.0</td>\n",
       "      <td>0.13</td>\n",
       "      <td>0.27</td>\n",
       "      <td>0.43</td>\n",
       "      <td>0.30</td>\n",
       "    </tr>\n",
       "  </tbody>\n",
       "</table>\n",
       "</div>"
      ],
      "text/plain": [
       "     campeonato   ano  rodada   data  mandante  visitante  gols_mandante  \\\n",
       "0  brasileiro-a  2017      30  23-10        42         57              2   \n",
       "1  brasileiro-a  2017      30  22-10        43         58              2   \n",
       "2  brasileiro-a  2017      30  22-10        44         56              1   \n",
       "\n",
       "   gols_visitante  resultado  posicao_m  posicao_v  aproveitamento_5r_v  \\\n",
       "0               1   MANDANTE        6.0        1.0                 0.40   \n",
       "1               0   MANDANTE       11.0       13.0                 0.47   \n",
       "2               2  VISITANTE       18.0       16.0                 0.13   \n",
       "\n",
       "   aproveitamento_5r_m  aproveitamento_10r_v  aproveitamento_10r_m  \n",
       "0                 0.47                  0.40                  0.63  \n",
       "1                 0.47                  0.40                  0.43  \n",
       "2                 0.27                  0.43                  0.30  "
      ]
     },
     "execution_count": 228,
     "metadata": {},
     "output_type": "execute_result"
    }
   ],
   "source": [
    "jogos.head(3)"
   ]
  },
  {
   "cell_type": "code",
   "execution_count": 229,
   "metadata": {},
   "outputs": [
    {
     "data": {
      "text/html": [
       "<div>\n",
       "<style>\n",
       "    .dataframe thead tr:only-child th {\n",
       "        text-align: right;\n",
       "    }\n",
       "\n",
       "    .dataframe thead th {\n",
       "        text-align: left;\n",
       "    }\n",
       "\n",
       "    .dataframe tbody tr th {\n",
       "        vertical-align: top;\n",
       "    }\n",
       "</style>\n",
       "<table border=\"1\" class=\"dataframe\">\n",
       "  <thead>\n",
       "    <tr style=\"text-align: right;\">\n",
       "      <th></th>\n",
       "      <th>campeonato</th>\n",
       "      <th>ano</th>\n",
       "      <th>rodada</th>\n",
       "      <th>data</th>\n",
       "      <th>mandante</th>\n",
       "      <th>visitante</th>\n",
       "      <th>gols_mandante</th>\n",
       "      <th>gols_visitante</th>\n",
       "      <th>resultado</th>\n",
       "      <th>posicao_m</th>\n",
       "      <th>posicao_v</th>\n",
       "      <th>aproveitamento_5r_v</th>\n",
       "      <th>aproveitamento_5r_m</th>\n",
       "      <th>aproveitamento_10r_v</th>\n",
       "      <th>aproveitamento_10r_m</th>\n",
       "    </tr>\n",
       "  </thead>\n",
       "  <tbody>\n",
       "    <tr>\n",
       "      <th>6</th>\n",
       "      <td>brasileiro-a</td>\n",
       "      <td>2017</td>\n",
       "      <td>30</td>\n",
       "      <td>22-10</td>\n",
       "      <td>48</td>\n",
       "      <td>54</td>\n",
       "      <td>1</td>\n",
       "      <td>3</td>\n",
       "      <td>VISITANTE</td>\n",
       "      <td>4.0</td>\n",
       "      <td>2.0</td>\n",
       "      <td>0.67</td>\n",
       "      <td>0.47</td>\n",
       "      <td>0.6</td>\n",
       "      <td>0.37</td>\n",
       "    </tr>\n",
       "  </tbody>\n",
       "</table>\n",
       "</div>"
      ],
      "text/plain": [
       "     campeonato   ano  rodada   data  mandante  visitante  gols_mandante  \\\n",
       "6  brasileiro-a  2017      30  22-10        48         54              1   \n",
       "\n",
       "   gols_visitante  resultado  posicao_m  posicao_v  aproveitamento_5r_v  \\\n",
       "6               3  VISITANTE        4.0        2.0                 0.67   \n",
       "\n",
       "   aproveitamento_5r_m  aproveitamento_10r_v  aproveitamento_10r_m  \n",
       "6                 0.47                   0.6                  0.37  "
      ]
     },
     "execution_count": 229,
     "metadata": {},
     "output_type": "execute_result"
    }
   ],
   "source": [
    "jogos.query(\"visitante == 54 and rodada == 30 and ano == 2017\")"
   ]
  },
  {
   "cell_type": "code",
   "execution_count": 230,
   "metadata": {
    "collapsed": true
   },
   "outputs": [],
   "source": [
    "ano = jogos[\"ano\"].max()"
   ]
  },
  {
   "cell_type": "code",
   "execution_count": 231,
   "metadata": {
    "collapsed": true
   },
   "outputs": [],
   "source": [
    "rod = jogos[jogos[\"ano\"] == ano][\"rodada\"].max()"
   ]
  },
  {
   "cell_type": "code",
   "execution_count": 232,
   "metadata": {
    "collapsed": true
   },
   "outputs": [],
   "source": [
    "rodada_DF[\"ano\"] = ano"
   ]
  },
  {
   "cell_type": "code",
   "execution_count": 233,
   "metadata": {
    "collapsed": true
   },
   "outputs": [],
   "source": [
    "rodada_DF[\"rodada\"] = rod + 1"
   ]
  },
  {
   "cell_type": "code",
   "execution_count": 234,
   "metadata": {},
   "outputs": [],
   "source": [
    "def getPosicao(jogos, ano, rodada, time):    \n",
    "\n",
    "    ultimo_jogo = jogos.query(\"ano == \" + str(ano) + \" and rodada == \" + str(rodada) + \" and mandante == \" + str(time))\n",
    "    if not ultimo_jogo.empty:\n",
    "        return ultimo_jogo[\"posicao_m\"].values[0]\n",
    "    \n",
    "    ultimo_jogo = jogos.query(\"ano == \" + str(ano) + \" and rodada == \" + str(rodada) + \" and visitante == \" + str(time))        \n",
    "    return ultimo_jogo[\"posicao_v\"].values[0]"
   ]
  },
  {
   "cell_type": "code",
   "execution_count": 235,
   "metadata": {
    "collapsed": true
   },
   "outputs": [],
   "source": [
    "def getAproveitamento(jogos, ano, rodada, time):    \n",
    "\n",
    "    ultimo_jogo = jogos.query(\"ano == \" + str(ano) + \" and rodada == \" + str(rodada) + \" and mandante == \" + str(time))\n",
    "    if not ultimo_jogo.empty:\n",
    "        return ultimo_jogo[\"aproveitamento_10r_m\"].values[0]\n",
    "    \n",
    "    ultimo_jogo = jogos.query(\"ano == \" + str(ano) + \" and rodada == \" + str(rodada) + \" and visitante == \" + str(time))        \n",
    "    return ultimo_jogo[\"aproveitamento_10r_v\"].values[0]"
   ]
  },
  {
   "cell_type": "code",
   "execution_count": 236,
   "metadata": {},
   "outputs": [],
   "source": [
    "rodada_DF[\"posicao_m\"] = rodada_DF.apply(lambda row: getPosicao(jogos, ano, rod, row[\"mandante\"]),axis=1)"
   ]
  },
  {
   "cell_type": "code",
   "execution_count": 237,
   "metadata": {
    "collapsed": true
   },
   "outputs": [],
   "source": [
    "rodada_DF[\"posicao_v\"] = rodada_DF.apply(lambda row: getPosicao(jogos, ano, rod, row[\"visitante\"]),axis=1)"
   ]
  },
  {
   "cell_type": "code",
   "execution_count": 238,
   "metadata": {
    "collapsed": true
   },
   "outputs": [],
   "source": [
    "rodada_DF[\"aproveitamento_10r_m\"] = rodada_DF.apply(lambda row: getAproveitamento(jogos, ano, rod, row[\"mandante\"]),axis=1)"
   ]
  },
  {
   "cell_type": "code",
   "execution_count": 239,
   "metadata": {
    "collapsed": true
   },
   "outputs": [],
   "source": [
    "rodada_DF[\"aproveitamento_10r_v\"] = rodada_DF.apply(lambda row: getAproveitamento(jogos, ano, rod, row[\"visitante\"]),axis=1)"
   ]
  },
  {
   "cell_type": "code",
   "execution_count": 240,
   "metadata": {
    "collapsed": true
   },
   "outputs": [],
   "source": [
    "del rodada_DF[\"placar\"]"
   ]
  },
  {
   "cell_type": "code",
   "execution_count": 241,
   "metadata": {},
   "outputs": [
    {
     "data": {
      "text/html": [
       "<div>\n",
       "<style>\n",
       "    .dataframe thead tr:only-child th {\n",
       "        text-align: right;\n",
       "    }\n",
       "\n",
       "    .dataframe thead th {\n",
       "        text-align: left;\n",
       "    }\n",
       "\n",
       "    .dataframe tbody tr th {\n",
       "        vertical-align: top;\n",
       "    }\n",
       "</style>\n",
       "<table border=\"1\" class=\"dataframe\">\n",
       "  <thead>\n",
       "    <tr style=\"text-align: right;\">\n",
       "      <th></th>\n",
       "      <th>mandante</th>\n",
       "      <th>visitante</th>\n",
       "      <th>ano</th>\n",
       "      <th>rodada</th>\n",
       "      <th>posicao_m</th>\n",
       "      <th>posicao_v</th>\n",
       "      <th>aproveitamento_10r_m</th>\n",
       "      <th>aproveitamento_10r_v</th>\n",
       "    </tr>\n",
       "  </thead>\n",
       "  <tbody>\n",
       "    <tr>\n",
       "      <th>0</th>\n",
       "      <td>54</td>\n",
       "      <td>47</td>\n",
       "      <td>2017</td>\n",
       "      <td>31</td>\n",
       "      <td>2.0</td>\n",
       "      <td>5.0</td>\n",
       "      <td>0.60</td>\n",
       "      <td>0.67</td>\n",
       "    </tr>\n",
       "    <tr>\n",
       "      <th>1</th>\n",
       "      <td>56</td>\n",
       "      <td>48</td>\n",
       "      <td>2017</td>\n",
       "      <td>31</td>\n",
       "      <td>16.0</td>\n",
       "      <td>4.0</td>\n",
       "      <td>0.43</td>\n",
       "      <td>0.37</td>\n",
       "    </tr>\n",
       "    <tr>\n",
       "      <th>2</th>\n",
       "      <td>53</td>\n",
       "      <td>61</td>\n",
       "      <td>2017</td>\n",
       "      <td>31</td>\n",
       "      <td>15.0</td>\n",
       "      <td>19.0</td>\n",
       "      <td>0.23</td>\n",
       "      <td>0.20</td>\n",
       "    </tr>\n",
       "    <tr>\n",
       "      <th>3</th>\n",
       "      <td>55</td>\n",
       "      <td>60</td>\n",
       "      <td>2017</td>\n",
       "      <td>31</td>\n",
       "      <td>17.0</td>\n",
       "      <td>20.0</td>\n",
       "      <td>0.47</td>\n",
       "      <td>0.47</td>\n",
       "    </tr>\n",
       "    <tr>\n",
       "      <th>4</th>\n",
       "      <td>59</td>\n",
       "      <td>42</td>\n",
       "      <td>2017</td>\n",
       "      <td>31</td>\n",
       "      <td>10.0</td>\n",
       "      <td>6.0</td>\n",
       "      <td>0.50</td>\n",
       "      <td>0.63</td>\n",
       "    </tr>\n",
       "    <tr>\n",
       "      <th>5</th>\n",
       "      <td>58</td>\n",
       "      <td>46</td>\n",
       "      <td>2017</td>\n",
       "      <td>31</td>\n",
       "      <td>13.0</td>\n",
       "      <td>12.0</td>\n",
       "      <td>0.40</td>\n",
       "      <td>0.40</td>\n",
       "    </tr>\n",
       "    <tr>\n",
       "      <th>6</th>\n",
       "      <td>44</td>\n",
       "      <td>57</td>\n",
       "      <td>2017</td>\n",
       "      <td>31</td>\n",
       "      <td>18.0</td>\n",
       "      <td>1.0</td>\n",
       "      <td>0.30</td>\n",
       "      <td>0.40</td>\n",
       "    </tr>\n",
       "    <tr>\n",
       "      <th>7</th>\n",
       "      <td>45</td>\n",
       "      <td>43</td>\n",
       "      <td>2017</td>\n",
       "      <td>31</td>\n",
       "      <td>9.0</td>\n",
       "      <td>11.0</td>\n",
       "      <td>0.40</td>\n",
       "      <td>0.43</td>\n",
       "    </tr>\n",
       "    <tr>\n",
       "      <th>8</th>\n",
       "      <td>52</td>\n",
       "      <td>51</td>\n",
       "      <td>2017</td>\n",
       "      <td>31</td>\n",
       "      <td>7.0</td>\n",
       "      <td>8.0</td>\n",
       "      <td>0.57</td>\n",
       "      <td>0.60</td>\n",
       "    </tr>\n",
       "    <tr>\n",
       "      <th>9</th>\n",
       "      <td>50</td>\n",
       "      <td>49</td>\n",
       "      <td>2017</td>\n",
       "      <td>31</td>\n",
       "      <td>14.0</td>\n",
       "      <td>3.0</td>\n",
       "      <td>0.50</td>\n",
       "      <td>0.50</td>\n",
       "    </tr>\n",
       "  </tbody>\n",
       "</table>\n",
       "</div>"
      ],
      "text/plain": [
       "   mandante  visitante   ano  rodada  posicao_m  posicao_v  \\\n",
       "0        54         47  2017      31        2.0        5.0   \n",
       "1        56         48  2017      31       16.0        4.0   \n",
       "2        53         61  2017      31       15.0       19.0   \n",
       "3        55         60  2017      31       17.0       20.0   \n",
       "4        59         42  2017      31       10.0        6.0   \n",
       "5        58         46  2017      31       13.0       12.0   \n",
       "6        44         57  2017      31       18.0        1.0   \n",
       "7        45         43  2017      31        9.0       11.0   \n",
       "8        52         51  2017      31        7.0        8.0   \n",
       "9        50         49  2017      31       14.0        3.0   \n",
       "\n",
       "   aproveitamento_10r_m  aproveitamento_10r_v  \n",
       "0                  0.60                  0.67  \n",
       "1                  0.43                  0.37  \n",
       "2                  0.23                  0.20  \n",
       "3                  0.47                  0.47  \n",
       "4                  0.50                  0.63  \n",
       "5                  0.40                  0.40  \n",
       "6                  0.30                  0.40  \n",
       "7                  0.40                  0.43  \n",
       "8                  0.57                  0.60  \n",
       "9                  0.50                  0.50  "
      ]
     },
     "execution_count": 241,
     "metadata": {},
     "output_type": "execute_result"
    }
   ],
   "source": [
    "rodada_DF"
   ]
  },
  {
   "cell_type": "code",
   "execution_count": 259,
   "metadata": {},
   "outputs": [],
   "source": [
    "rodada[\"prediction_RFC\"] = rf_model.predict(rodada_DF[[\"ano\", \"rodada\", \"mandante\", \"visitante\", \"posicao_m\", \"posicao_v\", \"aproveitamento_10r_m\", \"aproveitamento_10r_v\"]].values)"
   ]
  },
  {
   "cell_type": "code",
   "execution_count": 260,
   "metadata": {
    "collapsed": true
   },
   "outputs": [],
   "source": [
    "rodada[\"prediction_ABC\"] = abc_model.predict(rodada_DF[[\"ano\", \"rodada\", \"mandante\", \"visitante\", \"posicao_m\", \"posicao_v\", \"aproveitamento_10r_m\", \"aproveitamento_10r_v\"]].values)"
   ]
  },
  {
   "cell_type": "code",
   "execution_count": 261,
   "metadata": {},
   "outputs": [
    {
     "data": {
      "text/html": [
       "<div>\n",
       "<style>\n",
       "    .dataframe thead tr:only-child th {\n",
       "        text-align: right;\n",
       "    }\n",
       "\n",
       "    .dataframe thead th {\n",
       "        text-align: left;\n",
       "    }\n",
       "\n",
       "    .dataframe tbody tr th {\n",
       "        vertical-align: top;\n",
       "    }\n",
       "</style>\n",
       "<table border=\"1\" class=\"dataframe\">\n",
       "  <thead>\n",
       "    <tr style=\"text-align: right;\">\n",
       "      <th></th>\n",
       "      <th>mandante</th>\n",
       "      <th>visitante</th>\n",
       "      <th>placar</th>\n",
       "      <th>resultado</th>\n",
       "      <th>resultado_RFC</th>\n",
       "      <th>resultado_ABC</th>\n",
       "      <th>prediction_RFC</th>\n",
       "      <th>prediction_ABC</th>\n",
       "    </tr>\n",
       "  </thead>\n",
       "  <tbody>\n",
       "    <tr>\n",
       "      <th>0</th>\n",
       "      <td>Palmeiras</td>\n",
       "      <td>Cruzeiro</td>\n",
       "      <td>NaN</td>\n",
       "      <td>MANDANTE</td>\n",
       "      <td>MANDANTE</td>\n",
       "      <td>MANDANTE</td>\n",
       "      <td>MANDANTE</td>\n",
       "      <td>MANDANTE</td>\n",
       "    </tr>\n",
       "    <tr>\n",
       "      <th>1</th>\n",
       "      <td>Avaí</td>\n",
       "      <td>Grêmio</td>\n",
       "      <td>NaN</td>\n",
       "      <td>VISITANTE</td>\n",
       "      <td>VISITANTE</td>\n",
       "      <td>VISITANTE</td>\n",
       "      <td>VISITANTE</td>\n",
       "      <td>VISITANTE</td>\n",
       "    </tr>\n",
       "    <tr>\n",
       "      <th>2</th>\n",
       "      <td>Sport Recife</td>\n",
       "      <td>Coritiba</td>\n",
       "      <td>NaN</td>\n",
       "      <td>MANDANTE</td>\n",
       "      <td>MANDANTE</td>\n",
       "      <td>MANDANTE</td>\n",
       "      <td>MANDANTE</td>\n",
       "      <td>MANDANTE</td>\n",
       "    </tr>\n",
       "    <tr>\n",
       "      <th>3</th>\n",
       "      <td>Vitória</td>\n",
       "      <td>Atlético-GO</td>\n",
       "      <td>NaN</td>\n",
       "      <td>MANDANTE</td>\n",
       "      <td>MANDANTE</td>\n",
       "      <td>MANDANTE</td>\n",
       "      <td>MANDANTE</td>\n",
       "      <td>MANDANTE</td>\n",
       "    </tr>\n",
       "    <tr>\n",
       "      <th>4</th>\n",
       "      <td>Atlético-MG</td>\n",
       "      <td>Botafogo</td>\n",
       "      <td>NaN</td>\n",
       "      <td>VISITANTE</td>\n",
       "      <td>MANDANTE</td>\n",
       "      <td>VISITANTE</td>\n",
       "      <td>MANDANTE</td>\n",
       "      <td>VISITANTE</td>\n",
       "    </tr>\n",
       "    <tr>\n",
       "      <th>5</th>\n",
       "      <td>Fluminense</td>\n",
       "      <td>Bahia</td>\n",
       "      <td>NaN</td>\n",
       "      <td>MANDANTE</td>\n",
       "      <td>MANDANTE</td>\n",
       "      <td>MANDANTE</td>\n",
       "      <td>MANDANTE</td>\n",
       "      <td>MANDANTE</td>\n",
       "    </tr>\n",
       "    <tr>\n",
       "      <th>6</th>\n",
       "      <td>Ponte Preta</td>\n",
       "      <td>Corinthians</td>\n",
       "      <td>NaN</td>\n",
       "      <td>VISITANTE</td>\n",
       "      <td>VISITANTE</td>\n",
       "      <td>VISITANTE</td>\n",
       "      <td>VISITANTE</td>\n",
       "      <td>VISITANTE</td>\n",
       "    </tr>\n",
       "    <tr>\n",
       "      <th>7</th>\n",
       "      <td>Atlético-PR</td>\n",
       "      <td>Chapecoense</td>\n",
       "      <td>NaN</td>\n",
       "      <td>MANDANTE</td>\n",
       "      <td>MANDANTE</td>\n",
       "      <td>MANDANTE</td>\n",
       "      <td>MANDANTE</td>\n",
       "      <td>MANDANTE</td>\n",
       "    </tr>\n",
       "    <tr>\n",
       "      <th>8</th>\n",
       "      <td>Flamengo</td>\n",
       "      <td>Vasco</td>\n",
       "      <td>NaN</td>\n",
       "      <td>MANDANTE</td>\n",
       "      <td>MANDANTE</td>\n",
       "      <td>MANDANTE</td>\n",
       "      <td>MANDANTE</td>\n",
       "      <td>MANDANTE</td>\n",
       "    </tr>\n",
       "    <tr>\n",
       "      <th>9</th>\n",
       "      <td>São Paulo</td>\n",
       "      <td>Santos</td>\n",
       "      <td>NaN</td>\n",
       "      <td>VISITANTE</td>\n",
       "      <td>VISITANTE</td>\n",
       "      <td>VISITANTE</td>\n",
       "      <td>VISITANTE</td>\n",
       "      <td>VISITANTE</td>\n",
       "    </tr>\n",
       "  </tbody>\n",
       "</table>\n",
       "</div>"
      ],
      "text/plain": [
       "       mandante    visitante  placar  resultado resultado_RFC resultado_ABC  \\\n",
       "0     Palmeiras     Cruzeiro     NaN   MANDANTE      MANDANTE      MANDANTE   \n",
       "1          Avaí       Grêmio     NaN  VISITANTE     VISITANTE     VISITANTE   \n",
       "2  Sport Recife     Coritiba     NaN   MANDANTE      MANDANTE      MANDANTE   \n",
       "3       Vitória  Atlético-GO     NaN   MANDANTE      MANDANTE      MANDANTE   \n",
       "4   Atlético-MG     Botafogo     NaN  VISITANTE      MANDANTE     VISITANTE   \n",
       "5    Fluminense        Bahia     NaN   MANDANTE      MANDANTE      MANDANTE   \n",
       "6   Ponte Preta  Corinthians     NaN  VISITANTE     VISITANTE     VISITANTE   \n",
       "7   Atlético-PR  Chapecoense     NaN   MANDANTE      MANDANTE      MANDANTE   \n",
       "8      Flamengo        Vasco     NaN   MANDANTE      MANDANTE      MANDANTE   \n",
       "9     São Paulo       Santos     NaN  VISITANTE     VISITANTE     VISITANTE   \n",
       "\n",
       "  prediction_RFC prediction_ABC  \n",
       "0       MANDANTE       MANDANTE  \n",
       "1      VISITANTE      VISITANTE  \n",
       "2       MANDANTE       MANDANTE  \n",
       "3       MANDANTE       MANDANTE  \n",
       "4       MANDANTE      VISITANTE  \n",
       "5       MANDANTE       MANDANTE  \n",
       "6      VISITANTE      VISITANTE  \n",
       "7       MANDANTE       MANDANTE  \n",
       "8       MANDANTE       MANDANTE  \n",
       "9      VISITANTE      VISITANTE  "
      ]
     },
     "execution_count": 261,
     "metadata": {},
     "output_type": "execute_result"
    }
   ],
   "source": [
    "rodada"
   ]
  },
  {
   "cell_type": "code",
   "execution_count": null,
   "metadata": {
    "collapsed": true
   },
   "outputs": [],
   "source": []
  }
 ],
 "metadata": {
  "kernelspec": {
   "display_name": "Python 3",
   "language": "python",
   "name": "python3"
  },
  "language_info": {
   "codemirror_mode": {
    "name": "ipython",
    "version": 3
   },
   "file_extension": ".py",
   "mimetype": "text/x-python",
   "name": "python",
   "nbconvert_exporter": "python",
   "pygments_lexer": "ipython3",
   "version": "3.6.2"
  }
 },
 "nbformat": 4,
 "nbformat_minor": 2
}
